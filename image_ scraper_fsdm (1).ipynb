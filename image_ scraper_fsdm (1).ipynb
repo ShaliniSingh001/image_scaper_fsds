{
 "cells": [
  {
   "cell_type": "code",
   "execution_count": 6,
   "id": "dce14a6d",
   "metadata": {},
   "outputs": [],
   "source": [
    "import requests\n",
    "import logging\n",
    "import os\n",
    "from bs4 import BeautifulSoup\n",
    "from urllib.request import urlopen"
   ]
  },
  {
   "cell_type": "code",
   "execution_count": 7,
   "id": "8eee2774",
   "metadata": {},
   "outputs": [],
   "source": [
    "save_dir=\"images/\"\n",
    "if not os.path.exists(save_dir):\n",
    "    os.makedirs(save_dir)"
   ]
  },
  {
   "cell_type": "code",
   "execution_count": null,
   "id": "68b811dc",
   "metadata": {},
   "outputs": [],
   "source": [
    "https://www.google.com/search?q=ineuron&tbm=isch&ved=2ahUKEwiNzPfU2buAAxXH0aACHZw5ArUQ2-cCegQIABAA&oq=ineuron+&gs_lcp=CgNpbWcQAzIHCAAQigUQQzIFCAAQgAQyBQgAEIAEMgUIABCABDIFCAAQgAQyBQgAEIAEMgUIABCABDIFCAAQgAQyBggAEAUQHjIHCAAQGBCABFDbGVi5JGCTKGgAcAB4AIABngOIAZwJkgEJMC4zLjEuMC4xmAEAoAEBqgELZ3dzLXdpei1pbWfAAQE&sclient=img&ei=oRrJZM33Ksejg8UPnPOIqAs&bih=592&biw=1242&rlz=1C1VDKB_enIN1000IN1000"
   ]
  },
  {
   "cell_type": "code",
   "execution_count": 44,
   "id": "0493631d",
   "metadata": {},
   "outputs": [],
   "source": [
    "query=\"salman khan\"\n",
    "#url=https://www.google.com/search?q=query&tbm=isch&ved=2ahUKEwjxwMzOxLuAAxVy5TgGHeLGBpkQ2-cCegQIABAA&oq=doll&gs_lcp=CgNpbWcQAzIKCAAQigUQsQMQQzIHCAAQigUQQzIKCAAQigUQsQMQQzIHCAAQigUQQzIKCAAQigUQsQMQQzIHCAAQigUQQzIICAAQgAQQsQMyCAgAEIAEELEDMgoIABCKBRCxAxBDMggIABCABBCxAzoICAAQsQMQgwE6BQgAEIAEUNYHWOUlYIotaAFwAHgEgAGmAogBoBCSAQUwLjcuNJgBAKABAaoBC2d3cy13aXotaW1nsAEAwAEB&sclient=img&ei=jwTJZLG9EPLK4-EP4o2byAk&bih=592&biw=1242&rlz=1C1VDKB_enIN1000IN1000"
   ]
  },
  {
   "cell_type": "code",
   "execution_count": 45,
   "id": "6c25ce0d",
   "metadata": {},
   "outputs": [],
   "source": [
    "response=requests.get(f\"https://www.google.com/search?q={query}&tbm=isch&ved=2ahUKEwjxwMzOxLuAAxVy5TgGHeLGBpkQ2-cCegQIABAA&oq=doll&gs_lcp=CgNpbWcQAzIKCAAQigUQsQMQQzIHCAAQigUQQzIKCAAQigUQsQMQQzIHCAAQigUQQzIKCAAQigUQsQMQQzIHCAAQigUQQzIICAAQgAQQsQMyCAgAEIAEELEDMgoIABCKBRCxAxBDMggIABCABBCxAzoICAAQsQMQgwE6BQgAEIAEUNYHWOUlYIotaAFwAHgEgAGmAogBoBCSAQUwLjcuNJgBAKABAaoBC2d3cy13aXotaW1nsAEAwAEB&sclient=img&ei=jwTJZLG9EPLK4-EP4o2byAk&bih=592&biw=1242&rlz=1C1VDKB_enIN1000IN1000\")"
   ]
  },
  {
   "cell_type": "code",
   "execution_count": 46,
   "id": "5cc373e4",
   "metadata": {},
   "outputs": [
    {
     "data": {
      "text/plain": [
       "<Response [200]>"
      ]
     },
     "execution_count": 46,
     "metadata": {},
     "output_type": "execute_result"
    }
   ],
   "source": [
    "response"
   ]
  },
  {
   "cell_type": "code",
   "execution_count": 47,
   "id": "37d061df",
   "metadata": {},
   "outputs": [],
   "source": [
    "soup=BeautifulSoup(response.content,\"html.parser\")"
   ]
  },
  {
   "cell_type": "code",
   "execution_count": 48,
   "id": "7ec43274",
   "metadata": {},
   "outputs": [
    {
     "data": {
      "text/plain": [
       "<!DOCTYPE html PUBLIC \"-//WAPFORUM//DTD XHTML Mobile 1.0//EN\" \"http://www.wapforum.org/DTD/xhtml-mobile10.dtd\">\n",
       "<html lang=\"en-IN\" xmlns=\"http://www.w3.org/1999/xhtml\"><head><meta content=\"application/xhtml+xml; charset=utf-8\" http-equiv=\"Content-Type\"/><meta content=\"no-cache\" name=\"Cache-Control\"/><title>salman khan - Google Search</title><style>a{text-decoration:none;color:inherit}a:hover{text-decoration:underline}a img{border:0}body{font-family:arial,sans-serif;padding:8px;margin:0 auto;max-width:700px;min-width:240px;}.FbhRzb{border-left:thin solid #dadce0;border-right:thin solid #dadce0;border-top:thin solid #dadce0;height:40px;overflow:hidden}.n692Zd{margin-bottom:10px}.cvifge{height:40px;border-spacing:0}.QvGUP{height:40px;padding:0 8px 0 8px;vertical-align:top}.O4cRJf{height:40px;width:100%;padding:0;padding-right:16px}.O1ePr{height:40px;padding:0;vertical-align:top}.kgJEQe{height:36px;width:98px;vertical-align:top;margin-top:4px}.lXLRf{vertical-align:top}.MhzMZd{border:0;vertical-align:middle;font-size:14px;height:40px;padding:0;width:100%;padding-left:16px}.xB0fq{height:40px;border:none;font-size:14px;background-color:#1a73e8;color:#fff;padding:0 16px;margin:0;vertical-align:top;cursor:pointer}.xB0fq:focus{border:1px solid #1a73e8}.M7pB2{border:thin solid #dadce0;margin:0 0 3px 0;font-size:13px;font-weight:500;height:40px}.euZec{width:100%;height:40px;text-align:center;border-spacing:0}table.euZec td{padding:0;width:25%}.QIqI7{display:inline-block;padding-top:4px;font-weight:bold;color:#4285f4}.EY24We{border-bottom:2px solid #4285f4}.CsQyDc{display:inline-block;color:#70757a}.TuS8Ad{font-size:14px}.HddGcc{padding:8px;color:#70757a}.dzp8ae{font-weight:bold;color:#3c4043}.rEM8G{color:#70757a}.bookcf{table-layout:fixed;width:100%;border-spacing:0}.InWNIe{text-align:center}.uZgmoc{border:thin solid #dadce0;color:#70757a;font-size:14px;text-align:center;table-layout:fixed;width:100%}.frGj1b{display:block;padding:12px 0 12px 0;width:100%}.BnJWBc{text-align:center;padding:6px 0 13px 0;height:35px}.e3goi{vertical-align:top;padding:0;height:180px}.GpQGbf{margin:auto;border-collapse:collapse;border-spacing:0;width:100%}</style></head><body><style>.X6ZCif{color:#202124;font-size:11px;line-height:16px;display:inline-block;padding-top:2px;overflow:hidden;padding-bottom:4px;width:100%}.TwVfHd{border-radius:16px;border:thin solid #dadce0;display:inline-block;padding:8px 8px;margin-right:8px;margin-bottom:4px}.yekiAe{background-color:#dadce0}.mnTahd{width:100%}.ezO2md{border:thin solid #dadce0;padding:12px 16px 12px 16px;margin-bottom:10px;font-family:arial,sans-serif}.lIMUZd{font-family:arial,sans-serif}.IkMU6e{border-spacing:0}.SjCsie{width:100%}.EnarA{text-align:center}.NZWO1b{width:162px;height:140px;line-height:140px;overflow:'hidden';text-align:center}.yWs4tf{text-align:center;margin:auto;vertical-align:middle;max-width:162px;max-height:140px}.jB2rPd{padding-top:2px;padding-bottom:8px;}.fYyStc{word-break:break-word}.ynsChf{display:block;white-space:nowrap;overflow:hidden;text-overflow:ellipsis}.Fj3V3b{color:#1967d2;font-size:14px;line-height:20px}.FrIlee{color:#202124;font-size:11px;line-height:16px}.F9iS2e{color:#70757a;font-size:11px;line-height:16px}.WMQ2Le{color:#70757a;font-size:12px;line-height:16px}.x3G5ab{color:#202124;font-size:12px;line-height:16px}.fuLhoc{color:#1967d2;font-size:16px;line-height:20px}.epoveb{font-size:24px;line-height:28px;font-weight:400;color:#202124}.dXDvrc{color:#0d652d;font-size:14px;line-height:20px;word-wrap:break-word}.dloBPe{font-weight:bold}.YVIcad{color:#70757a}.JkVVdd{color:#ea4335}.oXZRFd{color:#ea4335}.MQHtg{color:#fbbc04}.pyMRrb{color:#1e8e3e}.EtTZid{color:#1e8e3e}.M3vVJe{color:#1967d2}.qXLe6d{display:block}.NHQNef{font-style:italic}.Cb8Z7c{white-space:pre}a.ZWRArf{text-decoration:none}a .CVA68e:hover{text-decoration:underline}</style><div class=\"n692Zd\"><div class=\"BnJWBc\"><a class=\"lXLRf\" href=\"/?bih=592&amp;biw=1242&amp;rlz=1C1VDKB_enIN1000IN1000&amp;output=images&amp;ie=UTF-8&amp;tbm=isch&amp;sa=X&amp;ved=0ahUKEwjtkrv257uAAxUmbfUHHXbQBv4QPAgC\"><img alt=\"Google\" class=\"kgJEQe\" src=\"/images/branding/searchlogo/1x/googlelogo_desk_heirloom_color_150x55dp.gif\"/></a></div><div class=\"FbhRzb\"><form action=\"/search\"><input name=\"bih\" type=\"hidden\" value=\"592\"/><input name=\"biw\" type=\"hidden\" value=\"1242\"/><input name=\"rlz\" type=\"hidden\" value=\"1C1VDKB_enIN1000IN1000\"/><input name=\"ie\" type=\"hidden\" value=\"ISO-8859-1\"/><input name=\"tbm\" type=\"hidden\" value=\"isch\"/><input name=\"oq\" type=\"hidden\"/><input name=\"aqs\" type=\"hidden\"/><table class=\"cvifge\"><tr><td class=\"O4cRJf\"><input class=\"MhzMZd\" name=\"q\" type=\"text\" value=\"salman khan\"/></td><td class=\"O1ePr\"><input class=\"xB0fq\" type=\"submit\" value=\"Search\"/></td></tr></table></form></div><div class=\"M7pB2\"><table class=\"euZec\"><tbody><tr><td><a class=\"CsQyDc\" href=\"/search?q=salman+khan&amp;bih=592&amp;biw=1242&amp;rlz=1C1VDKB_enIN1000IN1000&amp;ie=UTF-8&amp;source=lnms&amp;sa=X&amp;ved=0ahUKEwjtkrv257uAAxUmbfUHHXbQBv4Q_AUIBCgA\">ALL</a></td><td><a class=\"CsQyDc\" href=\"/search?q=salman+khan&amp;bih=592&amp;biw=1242&amp;rlz=1C1VDKB_enIN1000IN1000&amp;ie=UTF-8&amp;tbm=nws&amp;source=lnms&amp;sa=X&amp;ved=0ahUKEwjtkrv257uAAxUmbfUHHXbQBv4Q_AUIBSgB\">NEWS</a></td><td class=\"EY24We\"><span class=\"QIqI7\">IMAGES</span></td><td><a class=\"CsQyDc\" href=\"/search?q=salman+khan&amp;bih=592&amp;biw=1242&amp;rlz=1C1VDKB_enIN1000IN1000&amp;ie=UTF-8&amp;tbm=vid&amp;source=lnms&amp;sa=X&amp;ved=0ahUKEwjtkrv257uAAxUmbfUHHXbQBv4Q_AUIBygD\">VIDEOS</a></td></tr></tbody></table></div></div><div class=\"X6ZCif\"><a class=\"TwVfHd\" href=\"/search?bih=592&amp;biw=1242&amp;rlz=1C1VDKB_enIN1000IN1000&amp;ie=UTF-8&amp;tbm=isch&amp;q=salman+khan&amp;chips=q:salman+khan,g_1:wallpaper&amp;sa=X&amp;ved=0ahUKEwjtkrv257uAAxUmbfUHHXbQBv4Q4lYICygA\">wallpaper</a><a class=\"TwVfHd\" href=\"/search?bih=592&amp;biw=1242&amp;rlz=1C1VDKB_enIN1000IN1000&amp;ie=UTF-8&amp;tbm=isch&amp;q=salman+khan&amp;chips=q:salman+khan,g_1:old&amp;sa=X&amp;ved=0ahUKEwjtkrv257uAAxUmbfUHHXbQBv4Q4lYIDCgB\">old</a><a class=\"TwVfHd\" href=\"/search?bih=592&amp;biw=1242&amp;rlz=1C1VDKB_enIN1000IN1000&amp;ie=UTF-8&amp;tbm=isch&amp;q=salman+khan&amp;chips=q:salman+khan,g_1:new&amp;sa=X&amp;ved=0ahUKEwjtkrv257uAAxUmbfUHHXbQBv4Q4lYIDSgC\">new</a><a class=\"TwVfHd\" href=\"/search?bih=592&amp;biw=1242&amp;rlz=1C1VDKB_enIN1000IN1000&amp;ie=UTF-8&amp;tbm=isch&amp;q=salman+khan&amp;chips=q:salman+khan,g_1:hairstyle&amp;sa=X&amp;ved=0ahUKEwjtkrv257uAAxUmbfUHHXbQBv4Q4lYIDigD\">hairstyle</a><a class=\"TwVfHd\" href=\"/search?bih=592&amp;biw=1242&amp;rlz=1C1VDKB_enIN1000IN1000&amp;ie=UTF-8&amp;tbm=isch&amp;q=salman+khan&amp;chips=q:salman+khan,g_1:style&amp;sa=X&amp;ved=0ahUKEwjtkrv257uAAxUmbfUHHXbQBv4Q4lYIDygE\">style</a><a class=\"TwVfHd\" href=\"/search?bih=592&amp;biw=1242&amp;rlz=1C1VDKB_enIN1000IN1000&amp;ie=UTF-8&amp;tbm=isch&amp;q=salman+khan&amp;chips=q:salman+khan,g_1:sultan&amp;sa=X&amp;ved=0ahUKEwjtkrv257uAAxUmbfUHHXbQBv4Q4lYIECgF\">sultan</a><a class=\"TwVfHd\" href=\"/search?bih=592&amp;biw=1242&amp;rlz=1C1VDKB_enIN1000IN1000&amp;ie=UTF-8&amp;tbm=isch&amp;q=salman+khan&amp;chips=q:salman+khan,g_1:bodyguard&amp;sa=X&amp;ved=0ahUKEwjtkrv257uAAxUmbfUHHXbQBv4Q4lYIESgG\">bodyguard</a><a class=\"TwVfHd\" href=\"/search?bih=592&amp;biw=1242&amp;rlz=1C1VDKB_enIN1000IN1000&amp;ie=UTF-8&amp;tbm=isch&amp;q=salman+khan&amp;chips=q:salman+khan,g_1:eid+mubarak&amp;sa=X&amp;ved=0ahUKEwjtkrv257uAAxUmbfUHHXbQBv4Q4lYIEigH\">eid mubarak</a><a class=\"TwVfHd\" href=\"/search?bih=592&amp;biw=1242&amp;rlz=1C1VDKB_enIN1000IN1000&amp;ie=UTF-8&amp;tbm=isch&amp;q=salman+khan&amp;chips=q:salman+khan,g_1:house&amp;sa=X&amp;ved=0ahUKEwjtkrv257uAAxUmbfUHHXbQBv4Q4lYIEygI\">house</a><a class=\"TwVfHd\" href=\"/search?bih=592&amp;biw=1242&amp;rlz=1C1VDKB_enIN1000IN1000&amp;ie=UTF-8&amp;tbm=isch&amp;q=salman+khan&amp;chips=q:salman+khan,g_1:radhe&amp;sa=X&amp;ved=0ahUKEwjtkrv257uAAxUmbfUHHXbQBv4Q4lYIFCgJ\">radhe</a></div><div><table class=\"GpQGbf\"><tr><td align=\"center\" class=\"e3goi\"><div class=\"mnTahd\"> <div> <div class=\"lIMUZd\"><div><table class=\"IkMU6e\"><tr><td><a href=\"/url?q=https://www.koimoi.com/television/bigg-boss-ott-2-salman-khan-lost-3-2-million-followers-after-bashing-elvish-yadav-on-the-show-decoding-the-truth-behind-viral-post-with-real-stats/&amp;sa=U&amp;ved=2ahUKEwjtkrv257uAAxUmbfUHHXbQBv4QqoUBegQIABAB&amp;usg=AOvVaw1B2EAE6rcR2xbZRHu5gxCs\"><div class=\"NZWO1b\"><img alt=\"\" class=\"yWs4tf\" src=\"https://encrypted-tbn0.gstatic.com/images?q=tbn:ANd9GcSYzjBqPLnZIrYsoLBDOvOsCNSENIY8liEQCV4Ei-bdCODJ16ZbSFMUZREXiVM&amp;s\"/></div></a></td></tr><tr><td><a href=\"/url?q=https://www.koimoi.com/television/bigg-boss-ott-2-salman-khan-lost-3-2-million-followers-after-bashing-elvish-yadav-on-the-show-decoding-the-truth-behind-viral-post-with-real-stats/&amp;sa=U&amp;ved=2ahUKEwjtkrv257uAAxUmbfUHHXbQBv4Qr4kDegQIABAC&amp;usg=AOvVaw2q6ArKIe8UF-nO60j6LBTd\"><div class=\"jB2rPd\"> <span class=\"qXLe6d x3G5ab\"> <span class=\"fYyStc\">Bigg Boss OTT 2: Salman...</span> </span> <span class=\"qXLe6d F9iS2e\"> <span class=\"fYyStc\">www.koimoi.com</span> </span> </div></a></td></tr></table></div></div> </div> </div></td><td align=\"center\" class=\"e3goi\"><div class=\"mnTahd\"> <div> <div class=\"lIMUZd\"><div><table class=\"IkMU6e\"><tr><td><a href=\"/url?q=https://www.instagram.com/beingsalmankhan/&amp;sa=U&amp;ved=2ahUKEwjtkrv257uAAxUmbfUHHXbQBv4QqoUBegQIEhAB&amp;usg=AOvVaw3u_hJMJtz5TMBmQyYfabeB\"><div class=\"NZWO1b\"><img alt=\"\" class=\"yWs4tf\" src=\"https://encrypted-tbn0.gstatic.com/images?q=tbn:ANd9GcQlZP6YeGwvzveoL3A874o65EyyNOlt6pEJy9UO9rDK0151OBVf6suAbxT46zo&amp;s\"/></div></a></td></tr><tr><td><a href=\"/url?q=https://www.instagram.com/beingsalmankhan/&amp;sa=U&amp;ved=2ahUKEwjtkrv257uAAxUmbfUHHXbQBv4Qr4kDegQIEhAC&amp;usg=AOvVaw1v_XLcAniqudQdnAJyJTlk\"><div class=\"jB2rPd\"> <span class=\"qXLe6d x3G5ab\"> <span class=\"fYyStc\">Salman Khan...</span> </span> <span class=\"qXLe6d F9iS2e\"> <span class=\"fYyStc\">www.instagram.com</span> </span> </div></a></td></tr></table></div></div> </div> </div></td><td align=\"center\" class=\"e3goi\"><div class=\"mnTahd\"> <div> <div class=\"lIMUZd\"><div><table class=\"IkMU6e\"><tr><td><a href=\"/url?q=https://www.filmfare.com/nostalgia/pics-the-90s-salman-khan-an-epitome-of-rugged-charm-and-undeniable-looks-58676.html&amp;sa=U&amp;ved=2ahUKEwjtkrv257uAAxUmbfUHHXbQBv4QqoUBegQIExAB&amp;usg=AOvVaw2PvBYTDqlUmpVasAqGz1mJ\"><div class=\"NZWO1b\"><img alt=\"\" class=\"yWs4tf\" src=\"https://encrypted-tbn0.gstatic.com/images?q=tbn:ANd9GcR5WVu02Zxz08ydK5B_I4goFf6oKTm2CUWUqpkMRbdUSp-AkJhlLXMTntQ9XA&amp;s\"/></div></a></td></tr><tr><td><a href=\"/url?q=https://www.filmfare.com/nostalgia/pics-the-90s-salman-khan-an-epitome-of-rugged-charm-and-undeniable-looks-58676.html&amp;sa=U&amp;ved=2ahUKEwjtkrv257uAAxUmbfUHHXbQBv4Qr4kDegQIExAC&amp;usg=AOvVaw0wh4QA-EgAw1CN-OxMrVej\"><div class=\"jB2rPd\"> <span class=\"qXLe6d x3G5ab\"> <span class=\"fYyStc\">Pics: The '90s Salman Khan,...</span> </span> <span class=\"qXLe6d F9iS2e\"> <span class=\"fYyStc\">www.filmfare.com</span> </span> </div></a></td></tr></table></div></div> </div> </div></td><td align=\"center\" class=\"e3goi\"><div class=\"mnTahd\"> <div> <div class=\"lIMUZd\"><div><table class=\"IkMU6e\"><tr><td><a href=\"/url?q=https://www.zeebiz.com/web-stories/trending/entertainment/happy-birthday-salman-khan-10-must-watch-movies-of-bhaijaan-bollywood-ek-tha-tiger-bajrangi-bhaijaan-1686389768982&amp;sa=U&amp;ved=2ahUKEwjtkrv257uAAxUmbfUHHXbQBv4QqoUBegQIERAB&amp;usg=AOvVaw0Un6OnFob1DMn4jlZYSoBq\"><div class=\"NZWO1b\"><img alt=\"\" class=\"yWs4tf\" src=\"https://encrypted-tbn0.gstatic.com/images?q=tbn:ANd9GcQFK9WTG1XDdWap_7HpvzHMzb85UqaEa24dUD-NcxSzXPdRT9-RGOGAOioCaCc&amp;s\"/></div></a></td></tr><tr><td><a href=\"/url?q=https://www.zeebiz.com/web-stories/trending/entertainment/happy-birthday-salman-khan-10-must-watch-movies-of-bhaijaan-bollywood-ek-tha-tiger-bajrangi-bhaijaan-1686389768982&amp;sa=U&amp;ved=2ahUKEwjtkrv257uAAxUmbfUHHXbQBv4Qr4kDegQIERAC&amp;usg=AOvVaw26AsUwXCcYglxSPRSXS9XA\"><div class=\"jB2rPd\"> <span class=\"qXLe6d x3G5ab\"> <span class=\"fYyStc\">10 Must-Watch Movies of...</span> </span> <span class=\"qXLe6d F9iS2e\"> <span class=\"fYyStc\">www.zeebiz.com</span> </span> </div></a></td></tr></table></div></div> </div> </div></td></tr><tr><td align=\"center\" class=\"e3goi\"><div class=\"mnTahd\"> <div> <div class=\"lIMUZd\"><div><table class=\"IkMU6e\"><tr><td><a href=\"/url?q=https://m.economictimes.com/magazines/panache/buzz/actor-salman-khan-teams-up-with-worlds-smallest-singer-abdu-rozik-for-next-venture/articleshow/93354296.cms&amp;sa=U&amp;ved=2ahUKEwjtkrv257uAAxUmbfUHHXbQBv4QqoUBegQIDxAB&amp;usg=AOvVaw0JpSlecZvKwPxsNiOEGoSf\"><div class=\"NZWO1b\"><img alt=\"\" class=\"yWs4tf\" src=\"https://encrypted-tbn0.gstatic.com/images?q=tbn:ANd9GcSGyJrCGeVKUmIDKbPt_nIBI4WHXhoyh_IGQ3sn5sxK_IIoTqf2AMQbIa9BOw&amp;s\"/></div></a></td></tr><tr><td><a href=\"/url?q=https://m.economictimes.com/magazines/panache/buzz/actor-salman-khan-teams-up-with-worlds-smallest-singer-abdu-rozik-for-next-venture/articleshow/93354296.cms&amp;sa=U&amp;ved=2ahUKEwjtkrv257uAAxUmbfUHHXbQBv4Qr4kDegQIDxAC&amp;usg=AOvVaw3VELmGrORQD5mSPWwJPpoX\"><div class=\"jB2rPd\"> <span class=\"qXLe6d x3G5ab\"> <span class=\"fYyStc\">Salman Khan | Abdu Rozik :...</span> </span> <span class=\"qXLe6d F9iS2e\"> <span class=\"fYyStc\">m.economictimes.com</span> </span> </div></a></td></tr></table></div></div> </div> </div></td><td align=\"center\" class=\"e3goi\"><div class=\"mnTahd\"> <div> <div class=\"lIMUZd\"><div><table class=\"IkMU6e\"><tr><td><a href=\"/url?q=https://en.wikipedia.org/wiki/Salman_Khan&amp;sa=U&amp;ved=2ahUKEwjtkrv257uAAxUmbfUHHXbQBv4QqoUBegQIChAB&amp;usg=AOvVaw2CyqZvv8JMZ2VOji1OhfiT\"><div class=\"NZWO1b\"><img alt=\"\" class=\"yWs4tf\" src=\"https://encrypted-tbn0.gstatic.com/images?q=tbn:ANd9GcQV1OaqXCBrjY_-do08TMw6tFsM7QQZ1zzXtU0unh9GYUplo8xjCjKcs11dvA&amp;s\"/></div></a></td></tr><tr><td><a href=\"/url?q=https://en.wikipedia.org/wiki/Salman_Khan&amp;sa=U&amp;ved=2ahUKEwjtkrv257uAAxUmbfUHHXbQBv4Qr4kDegQIChAC&amp;usg=AOvVaw1E7gTFsJgIYnytqcMIfX_p\"><div class=\"jB2rPd\"> <span class=\"qXLe6d x3G5ab\"> <span class=\"fYyStc\">Salman Khan - Wikipedia</span> </span> <span class=\"qXLe6d F9iS2e\"> <span class=\"fYyStc\">en.wikipedia.org</span> </span> </div></a></td></tr></table></div></div> </div> </div></td><td align=\"center\" class=\"e3goi\"><div class=\"mnTahd\"> <div> <div class=\"lIMUZd\"><div><table class=\"IkMU6e\"><tr><td><a href=\"/url?q=https://www.filmfare.com/news/bollywood/salman-khan-reveals-his-new-look-from-kisi-ka-bhai-kisi-ki-jaan-see-pic-55573.html&amp;sa=U&amp;ved=2ahUKEwjtkrv257uAAxUmbfUHHXbQBv4QqoUBegQIDRAB&amp;usg=AOvVaw1rMEVP0RDygrtRErhFLfk7\"><div class=\"NZWO1b\"><img alt=\"\" class=\"yWs4tf\" src=\"https://encrypted-tbn0.gstatic.com/images?q=tbn:ANd9GcSWS6l5Jwk6QTOUPk8ELNp6ivn4-ICu3q-UoWOfu8Vcq5niJrhjJ7cW1HPelAY&amp;s\"/></div></a></td></tr><tr><td><a href=\"/url?q=https://www.filmfare.com/news/bollywood/salman-khan-reveals-his-new-look-from-kisi-ka-bhai-kisi-ki-jaan-see-pic-55573.html&amp;sa=U&amp;ved=2ahUKEwjtkrv257uAAxUmbfUHHXbQBv4Qr4kDegQIDRAC&amp;usg=AOvVaw2e1miE3-rleVh_MkXIM4AZ\"><div class=\"jB2rPd\"> <span class=\"qXLe6d x3G5ab\"> <span class=\"fYyStc\">Salman Khan Reveals His New...</span> </span> <span class=\"qXLe6d F9iS2e\"> <span class=\"fYyStc\">www.filmfare.com</span> </span> </div></a></td></tr></table></div></div> </div> </div></td><td align=\"center\" class=\"e3goi\"><div class=\"mnTahd\"> <div> <div class=\"lIMUZd\"><div><table class=\"IkMU6e\"><tr><td><a href=\"/url?q=https://gulfnews.com/entertainment/bollywood/bollywood-actor-salman-khan-among-top-10-targets-of-lawrence-bishnoi-reveals-nia-probe-1.1684757743754&amp;sa=U&amp;ved=2ahUKEwjtkrv257uAAxUmbfUHHXbQBv4QqoUBegQICxAB&amp;usg=AOvVaw0cFpXYFUl2WDVkgDSDw5EO\"><div class=\"NZWO1b\"><img alt=\"\" class=\"yWs4tf\" src=\"https://encrypted-tbn0.gstatic.com/images?q=tbn:ANd9GcSF4oTLDi_ee-yPE_xVSS1RqOvky6wz5LbOJ-C2P57z1ocmpnaYnZnNuFYE3I8&amp;s\"/></div></a></td></tr><tr><td><a href=\"/url?q=https://gulfnews.com/entertainment/bollywood/bollywood-actor-salman-khan-among-top-10-targets-of-lawrence-bishnoi-reveals-nia-probe-1.1684757743754&amp;sa=U&amp;ved=2ahUKEwjtkrv257uAAxUmbfUHHXbQBv4Qr4kDegQICxAC&amp;usg=AOvVaw0plBxI4b-daEwS96w7qFLp\"><div class=\"jB2rPd\"> <span class=\"qXLe6d x3G5ab\"> <span class=\"fYyStc\">Bollywood actor Salman Khan...</span> </span> <span class=\"qXLe6d F9iS2e\"> <span class=\"fYyStc\">gulfnews.com</span> </span> </div></a></td></tr></table></div></div> </div> </div></td></tr><tr><td align=\"center\" class=\"e3goi\"><div class=\"mnTahd\"> <div> <div class=\"lIMUZd\"><div><table class=\"IkMU6e\"><tr><td><a href=\"/url?q=https://twitter.com/BeingSalmanKhan&amp;sa=U&amp;ved=2ahUKEwjtkrv257uAAxUmbfUHHXbQBv4QqoUBegQIEBAB&amp;usg=AOvVaw0BcgJTXjaehRHIKFLWMul2\"><div class=\"NZWO1b\"><img alt=\"\" class=\"yWs4tf\" src=\"https://encrypted-tbn0.gstatic.com/images?q=tbn:ANd9GcSuKzon4oIn7-OSb-9iXx3FqqSwfGoodeTfpwLoBGSEtc6umZV6Y7_C26mJx5c&amp;s\"/></div></a></td></tr><tr><td><a href=\"/url?q=https://twitter.com/BeingSalmanKhan&amp;sa=U&amp;ved=2ahUKEwjtkrv257uAAxUmbfUHHXbQBv4Qr4kDegQIEBAC&amp;usg=AOvVaw2bYVpEammSMCdNtNagLrXI\"><div class=\"jB2rPd\"> <span class=\"qXLe6d x3G5ab\"> <span class=\"fYyStc\">Salman Khan...</span> </span> <span class=\"qXLe6d F9iS2e\"> <span class=\"fYyStc\">twitter.com</span> </span> </div></a></td></tr></table></div></div> </div> </div></td><td align=\"center\" class=\"e3goi\"><div class=\"mnTahd\"> <div> <div class=\"lIMUZd\"><div><table class=\"IkMU6e\"><tr><td><a href=\"/url?q=https://www.aajtak.in/visualstories/entertainment/goodnews-salman-khan-show-bigg-boss-ott-may-extend-next-2-weeks-show-becomes-blockbuster-abhishek-malhan-manisha-elvish-romance-angle-tmovh-52258-28-07-2023&amp;sa=U&amp;ved=2ahUKEwjtkrv257uAAxUmbfUHHXbQBv4QqoUBegQIDBAB&amp;usg=AOvVaw0Xe6YiKHtRRXV7MosxoWkF\"><div class=\"NZWO1b\"><img alt=\"\" class=\"yWs4tf\" src=\"https://encrypted-tbn0.gstatic.com/images?q=tbn:ANd9GcTSwFIZEOfLt8ENUiQti5ISfY4uTb9eHVl_2o9cYiN3VJR5leCu7fhc-ub7Tg&amp;s\"/></div></a></td></tr><tr><td><a href=\"/url?q=https://www.aajtak.in/visualstories/entertainment/goodnews-salman-khan-show-bigg-boss-ott-may-extend-next-2-weeks-show-becomes-blockbuster-abhishek-malhan-manisha-elvish-romance-angle-tmovh-52258-28-07-2023&amp;sa=U&amp;ved=2ahUKEwjtkrv257uAAxUmbfUHHXbQBv4Qr4kDegQIDBAC&amp;usg=AOvVaw1Ndexc3M9p-openOiGxPE5\"><div class=\"jB2rPd\"> <span class=\"qXLe6d x3G5ab\"> <span class=\"fYyStc\">सलमान देंगे गुडन्यूज, 2...</span> </span> <span class=\"qXLe6d F9iS2e\"> <span class=\"fYyStc\">www.aajtak.in</span> </span> </div></a></td></tr></table></div></div> </div> </div></td><td align=\"center\" class=\"e3goi\"><div class=\"mnTahd\"> <div> <div class=\"lIMUZd\"><div><table class=\"IkMU6e\"><tr><td><a href=\"/url?q=https://zeenews.india.com/television/bigg-boss-ott-2-salman-khan-brutally-trolled-online-for-bashing-elvish-yadav-after-youtuber-breaks-down-on-weekend-ka-vaar-2642404.html&amp;sa=U&amp;ved=2ahUKEwjtkrv257uAAxUmbfUHHXbQBv4QqoUBegQICRAB&amp;usg=AOvVaw2wbLoEN2rUGrK-DmUWjleH\"><div class=\"NZWO1b\"><img alt=\"\" class=\"yWs4tf\" src=\"https://encrypted-tbn0.gstatic.com/images?q=tbn:ANd9GcTK_eb6y6Oc2wJSK9i-PL3VexeACycGk9_5FamNYwrEpWiSmnx0n_wEci0-UAM&amp;s\"/></div></a></td></tr><tr><td><a href=\"/url?q=https://zeenews.india.com/television/bigg-boss-ott-2-salman-khan-brutally-trolled-online-for-bashing-elvish-yadav-after-youtuber-breaks-down-on-weekend-ka-vaar-2642404.html&amp;sa=U&amp;ved=2ahUKEwjtkrv257uAAxUmbfUHHXbQBv4Qr4kDegQICRAC&amp;usg=AOvVaw1O2JpRh36NIj7bjoVoGz5u\"><div class=\"jB2rPd\"> <span class=\"qXLe6d x3G5ab\"> <span class=\"fYyStc\">Bigg Boss OTT 2: Salman...</span> </span> <span class=\"qXLe6d F9iS2e\"> <span class=\"fYyStc\">zeenews.india.com</span> </span> </div></a></td></tr></table></div></div> </div> </div></td><td align=\"center\" class=\"e3goi\"><div class=\"mnTahd\"> <div> <div class=\"lIMUZd\"><div><table class=\"IkMU6e\"><tr><td><a href=\"/url?q=https://www.instagram.com/beingsalmankhan/&amp;sa=U&amp;ved=2ahUKEwjtkrv257uAAxUmbfUHHXbQBv4QqoUBegQIDhAB&amp;usg=AOvVaw3XSyK_MJg11u6nQqmdPze0\"><div class=\"NZWO1b\"><img alt=\"\" class=\"yWs4tf\" src=\"https://encrypted-tbn0.gstatic.com/images?q=tbn:ANd9GcS_UewYvbeBP4892_GUZv3URWZGyFMv-UTYFULbyKTfwBkBKJjRWJnD0b8ePw&amp;s\"/></div></a></td></tr><tr><td><a href=\"/url?q=https://www.instagram.com/beingsalmankhan/&amp;sa=U&amp;ved=2ahUKEwjtkrv257uAAxUmbfUHHXbQBv4Qr4kDegQIDhAC&amp;usg=AOvVaw1pdF7DA5l_qdtmvdnowFqs\"><div class=\"jB2rPd\"> <span class=\"qXLe6d x3G5ab\"> <span class=\"fYyStc\">Salman Khan...</span> </span> <span class=\"qXLe6d F9iS2e\"> <span class=\"fYyStc\">www.instagram.com</span> </span> </div></a></td></tr></table></div></div> </div> </div></td></tr><tr><td align=\"center\" class=\"e3goi\"><div class=\"mnTahd\"> <div> <div class=\"lIMUZd\"><div><table class=\"IkMU6e\"><tr><td><a href=\"/url?q=https://www.koimoi.com/bollywood-news/when-salman-khan-got-have-food-then-cm-reply-from-karan-johar-post-revealing-his-cheesiest-pick-up-line-making-him-almost-blush/&amp;sa=U&amp;ved=2ahUKEwjtkrv257uAAxUmbfUHHXbQBv4QqoUBegQIBBAB&amp;usg=AOvVaw1Ndsk3Zhk_yQgXznlxX3y_\"><div class=\"NZWO1b\"><img alt=\"\" class=\"yWs4tf\" src=\"https://encrypted-tbn0.gstatic.com/images?q=tbn:ANd9GcRS7JC3adCDzzGOCvseAJcZqHWhQKaA9d0d5_gY86kzkyyXSZtnsYrl8KgRpA&amp;s\"/></div></a></td></tr><tr><td><a href=\"/url?q=https://www.koimoi.com/bollywood-news/when-salman-khan-got-have-food-then-cm-reply-from-karan-johar-post-revealing-his-cheesiest-pick-up-line-making-him-almost-blush/&amp;sa=U&amp;ved=2ahUKEwjtkrv257uAAxUmbfUHHXbQBv4Qr4kDegQIBBAC&amp;usg=AOvVaw3DoPXZXWsgmqX5t9wLaKE2\"><div class=\"jB2rPd\"> <span class=\"qXLe6d x3G5ab\"> <span class=\"fYyStc\">When Salman Khan Got \"Have...</span> </span> <span class=\"qXLe6d F9iS2e\"> <span class=\"fYyStc\">www.koimoi.com</span> </span> </div></a></td></tr></table></div></div> </div> </div></td><td align=\"center\" class=\"e3goi\"><div class=\"mnTahd\"> <div> <div class=\"lIMUZd\"><div><table class=\"IkMU6e\"><tr><td><a href=\"/url?q=https://www.ndtv.com/entertainment/bigg-boss-ott-salman-khan-takes-elvish-yadav-to-task-for-use-of-foul-language-4252517&amp;sa=U&amp;ved=2ahUKEwjtkrv257uAAxUmbfUHHXbQBv4QqoUBegQIARAB&amp;usg=AOvVaw3RbP4cM6zuPqBnfeWVOuqo\"><div class=\"NZWO1b\"><img alt=\"\" class=\"yWs4tf\" src=\"https://encrypted-tbn0.gstatic.com/images?q=tbn:ANd9GcTtWwC_jrqyGKJ7Ajm3KDUfjHbhycUORus7Yi3BuBO4ZpdwVhGH4MGCQdRbDrE&amp;s\"/></div></a></td></tr><tr><td><a href=\"/url?q=https://www.ndtv.com/entertainment/bigg-boss-ott-salman-khan-takes-elvish-yadav-to-task-for-use-of-foul-language-4252517&amp;sa=U&amp;ved=2ahUKEwjtkrv257uAAxUmbfUHHXbQBv4Qr4kDegQIARAC&amp;usg=AOvVaw0TIH2ne2ZqkIQRy_8L5klk\"><div class=\"jB2rPd\"> <span class=\"qXLe6d x3G5ab\"> <span class=\"fYyStc\">Bigg Boss OTT 2: Salman...</span> </span> <span class=\"qXLe6d F9iS2e\"> <span class=\"fYyStc\">www.ndtv.com</span> </span> </div></a></td></tr></table></div></div> </div> </div></td><td align=\"center\" class=\"e3goi\"><div class=\"mnTahd\"> <div> <div class=\"lIMUZd\"><div><table class=\"IkMU6e\"><tr><td><a href=\"/url?q=https://rapidkings.com/salman-khan-manager-contact-numberphone-number-email-id-contact-details-house-address-office-addess/&amp;sa=U&amp;ved=2ahUKEwjtkrv257uAAxUmbfUHHXbQBv4QqoUBegQIBxAB&amp;usg=AOvVaw3pZAMCDZZaoLj-9uSJ6EPZ\"><div class=\"NZWO1b\"><img alt=\"\" class=\"yWs4tf\" src=\"https://encrypted-tbn0.gstatic.com/images?q=tbn:ANd9GcTmHMYpDHgzmxmzJAZZLw3B0YrEvqaTmelFxL5Gtq9bdNmHyLPxOCysL7zr_6Y&amp;s\"/></div></a></td></tr><tr><td><a href=\"/url?q=https://rapidkings.com/salman-khan-manager-contact-numberphone-number-email-id-contact-details-house-address-office-addess/&amp;sa=U&amp;ved=2ahUKEwjtkrv257uAAxUmbfUHHXbQBv4Qr4kDegQIBxAC&amp;usg=AOvVaw1wlBMZtMpkLv6Z04SSbYCN\"><div class=\"jB2rPd\"> <span class=\"qXLe6d x3G5ab\"> <span class=\"fYyStc\">Salman Khan Phone Number,...</span> </span> <span class=\"qXLe6d F9iS2e\"> <span class=\"fYyStc\">rapidkings.com</span> </span> </div></a></td></tr></table></div></div> </div> </div></td><td align=\"center\" class=\"e3goi\"><div class=\"mnTahd\"> <div> <div class=\"lIMUZd\"><div><table class=\"IkMU6e\"><tr><td><a href=\"/url?q=https://m.timesofindia.com/entertainment/hindi/bollywood/news/its-been-40-years-since-salman-faced-the-camera-for-the-first-time-/articleshow/100046964.cms&amp;sa=U&amp;ved=2ahUKEwjtkrv257uAAxUmbfUHHXbQBv4QqoUBegQICBAB&amp;usg=AOvVaw18WQfSDsvPmfT09MfQNsej\"><div class=\"NZWO1b\"><img alt=\"\" class=\"yWs4tf\" src=\"https://encrypted-tbn0.gstatic.com/images?q=tbn:ANd9GcQmr61eNQ0VyTzCM-jXFb0PzOCiAp8UsP4b4Cv0BA7xVgZseCZr2He3Wp3Smbo&amp;s\"/></div></a></td></tr><tr><td><a href=\"/url?q=https://m.timesofindia.com/entertainment/hindi/bollywood/news/its-been-40-years-since-salman-faced-the-camera-for-the-first-time-/articleshow/100046964.cms&amp;sa=U&amp;ved=2ahUKEwjtkrv257uAAxUmbfUHHXbQBv4Qr4kDegQICBAC&amp;usg=AOvVaw1Mp1ZkJ8ieV5S-kdix_K6F\"><div class=\"jB2rPd\"> <span class=\"qXLe6d x3G5ab\"> <span class=\"fYyStc\">It's been 40 years since...</span> </span> <span class=\"qXLe6d F9iS2e\"> <span class=\"fYyStc\">m.timesofindia.com</span> </span> </div></a></td></tr></table></div></div> </div> </div></td></tr><tr><td align=\"center\" class=\"e3goi\"><div class=\"mnTahd\"> <div> <div class=\"lIMUZd\"><div><table class=\"IkMU6e\"><tr><td><a href=\"/url?q=https://www.siasat.com/big-update-salman-khan-stops-signing-films-know-why-2579934/&amp;sa=U&amp;ved=2ahUKEwjtkrv257uAAxUmbfUHHXbQBv4QqoUBegQIAxAB&amp;usg=AOvVaw008Aqj2aHcYtYSd_ZM9LfR\"><div class=\"NZWO1b\"><img alt=\"\" class=\"yWs4tf\" src=\"https://encrypted-tbn0.gstatic.com/images?q=tbn:ANd9GcTnF2ma7Dsopx8zYWAgokjRhHWtVVz2OdD2ecsuzuPCTooOkrT_B5t8F9ZTDys&amp;s\"/></div></a></td></tr><tr><td><a href=\"/url?q=https://www.siasat.com/big-update-salman-khan-stops-signing-films-know-why-2579934/&amp;sa=U&amp;ved=2ahUKEwjtkrv257uAAxUmbfUHHXbQBv4Qr4kDegQIAxAC&amp;usg=AOvVaw23FrhaxGboKVMNBBSP5riU\"><div class=\"jB2rPd\"> <span class=\"qXLe6d x3G5ab\"> <span class=\"fYyStc\">BIG update: Salman Khan...</span> </span> <span class=\"qXLe6d F9iS2e\"> <span class=\"fYyStc\">www.siasat.com</span> </span> </div></a></td></tr></table></div></div> </div> </div></td><td align=\"center\" class=\"e3goi\"><div class=\"mnTahd\"> <div> <div class=\"lIMUZd\"><div><table class=\"IkMU6e\"><tr><td><a href=\"/url?q=https://www.indiatoday.in/movies/celebrities/story/salman-khan-not-hosting-iifa-awards-2023-read-details-2376987-2023-05-09&amp;sa=U&amp;ved=2ahUKEwjtkrv257uAAxUmbfUHHXbQBv4QqoUBegQIBhAB&amp;usg=AOvVaw1AQa1MnqyC9W-Kevdq8R-Q\"><div class=\"NZWO1b\"><img alt=\"\" class=\"yWs4tf\" src=\"https://encrypted-tbn0.gstatic.com/images?q=tbn:ANd9GcTYa3TO37Mx2uPIEpvvT6bthWY2hzd8K7vwKGpO5XcTWeshXF_sPd9jM-wYrA&amp;s\"/></div></a></td></tr><tr><td><a href=\"/url?q=https://www.indiatoday.in/movies/celebrities/story/salman-khan-not-hosting-iifa-awards-2023-read-details-2376987-2023-05-09&amp;sa=U&amp;ved=2ahUKEwjtkrv257uAAxUmbfUHHXbQBv4Qr4kDegQIBhAC&amp;usg=AOvVaw1JEU-WeYDzwa6L4nA9AvTm\"><div class=\"jB2rPd\"> <span class=\"qXLe6d x3G5ab\"> <span class=\"fYyStc\">Salman Khan NOT hosting...</span> </span> <span class=\"qXLe6d F9iS2e\"> <span class=\"fYyStc\">www.indiatoday.in</span> </span> </div></a></td></tr></table></div></div> </div> </div></td><td align=\"center\" class=\"e3goi\"><div class=\"mnTahd\"> <div> <div class=\"lIMUZd\"><div><table class=\"IkMU6e\"><tr><td><a href=\"/url?q=https://www.hindustantimes.com/entertainment/tv/salman-khan-disinterested-in-bigg-boss-fans-slam-reddit-101690365252359.html&amp;sa=U&amp;ved=2ahUKEwjtkrv257uAAxUmbfUHHXbQBv4QqoUBegQIBRAB&amp;usg=AOvVaw0JIPtpw_5Hk0oV61CH3I8x\"><div class=\"NZWO1b\"><img alt=\"\" class=\"yWs4tf\" src=\"https://encrypted-tbn0.gstatic.com/images?q=tbn:ANd9GcQJZQN4ff8N86yBMkgtYk6LdBJ4YNBQ0B8Oc_IoRuGHLXMadQg6J5WeOoHoGGo&amp;s\"/></div></a></td></tr><tr><td><a href=\"/url?q=https://www.hindustantimes.com/entertainment/tv/salman-khan-disinterested-in-bigg-boss-fans-slam-reddit-101690365252359.html&amp;sa=U&amp;ved=2ahUKEwjtkrv257uAAxUmbfUHHXbQBv4Qr4kDegQIBRAC&amp;usg=AOvVaw2_a-8G0_x-_WP3id3dR9tm\"><div class=\"jB2rPd\"> <span class=\"qXLe6d x3G5ab\"> <span class=\"fYyStc\">Fans think Salman is...</span> </span> <span class=\"qXLe6d F9iS2e\"> <span class=\"fYyStc\">www.hindustantimes.com</span> </span> </div></a></td></tr></table></div></div> </div> </div></td><td align=\"center\" class=\"e3goi\"><div class=\"mnTahd\"> <div> <div class=\"lIMUZd\"><div><table class=\"IkMU6e\"><tr><td><a href=\"/url?q=https://timesofindia.indiatimes.com/tv/news/hindi/did-gangster-goldy-brar-send-death-threats-to-salman-khan-for-insulting-elvish-yadav-in-bigg-boss-ott-2-read-to-know/articleshow/102305271.cms&amp;sa=U&amp;ved=2ahUKEwjtkrv257uAAxUmbfUHHXbQBv4QqoUBegQIAhAB&amp;usg=AOvVaw2_tDysJBmNuc4o3SmY3UH9\"><div class=\"NZWO1b\"><img alt=\"\" class=\"yWs4tf\" src=\"https://encrypted-tbn0.gstatic.com/images?q=tbn:ANd9GcS-f5b9oH-2Oc0xXIBzG1mZHn-I0t8LPegkt4_N7AgO5pLUOvBDdv5ZtN-V5A&amp;s\"/></div></a></td></tr><tr><td><a href=\"/url?q=https://timesofindia.indiatimes.com/tv/news/hindi/did-gangster-goldy-brar-send-death-threats-to-salman-khan-for-insulting-elvish-yadav-in-bigg-boss-ott-2-read-to-know/articleshow/102305271.cms&amp;sa=U&amp;ved=2ahUKEwjtkrv257uAAxUmbfUHHXbQBv4Qr4kDegQIAhAC&amp;usg=AOvVaw0zxVF8cBhhOZcZVWZ0LGko\"><div class=\"jB2rPd\"> <span class=\"qXLe6d x3G5ab\"> <span class=\"fYyStc\">Salman Khan Death Threat:...</span> </span> <span class=\"qXLe6d F9iS2e\"> <span class=\"fYyStc\">timesofindia.indiatimes.com...</span> </span> </div></a></td></tr></table></div></div> </div> </div></td></tr></table></div><table class=\"uZgmoc\"><tbody><td><a class=\"frGj1b\" href=\"/search?q=salman+khan&amp;bih=592&amp;biw=1242&amp;rlz=1C1VDKB_enIN1000IN1000&amp;ie=UTF-8&amp;tbm=isch&amp;ei=linJZO3vBqba1e8P9qCb8A8&amp;start=20&amp;sa=N\">Next &gt;</a></td></tbody></table><br/><div class=\"TuS8Ad\" data-ved=\"0ahUKEwjtkrv257uAAxUmbfUHHXbQBv4QpyoIUg\"><style>.VYM29{font-weight:bold}</style><div align=\"center\" class=\"HddGcc\"><span class=\"VYM29\">Lucknow, Uttar Pradesh</span><span> - </span><span>From your IP address</span><span> - </span><a href=\"/url?q=https://support.google.com/websearch%3Fp%3Dws_settings_location%26hl%3Den-IN&amp;sa=U&amp;ved=0ahUKEwjtkrv257uAAxUmbfUHHXbQBv4Qty4IUw&amp;usg=AOvVaw2PGXWE_fHwzDsZw3xB3jyV\">Learn more</a></div><div align=\"center\"><a class=\"rEM8G\" href=\"/url?q=https://accounts.google.com/ServiceLogin%3Fcontinue%3Dhttps://www.google.com/search%253Fq%253Dsalman%252Bkhan%2526tbm%253Disch%2526ved%253D2ahUKEwjxwMzOxLuAAxVy5TgGHeLGBpkQ2-cCegQIABAA%2526oq%253Ddoll%2526gs_lcp%253DCgNpbWcQAzIKCAAQigUQsQMQQzIHCAAQigUQQzIKCAAQigUQsQMQQzIHCAAQigUQQzIKCAAQigUQsQMQQzIHCAAQigUQQzIICAAQgAQQsQMyCAgAEIAEELEDMgoIABCKBRCxAxBDMggIABCABBCxAzoICAAQsQMQgwE6BQgAEIAEUNYHWOUlYIotaAFwAHgEgAGmAogBoBCSAQUwLjcuNJgBAKABAaoBC2d3cy13aXotaW1nsAEAwAEB%2526sclient%253Dimg%2526ei%253DjwTJZLG9EPLK4-EP4o2byAk%2526bih%253D592%2526biw%253D1242%2526rlz%253D1C1VDKB_enIN1000IN1000%26hl%3Den&amp;sa=U&amp;ved=0ahUKEwjtkrv257uAAxUmbfUHHXbQBv4Qxs8CCFQ&amp;usg=AOvVaw1JapgFwpUAjF-jU8-ljglN\">Sign in</a></div><div><table class=\"bookcf\"><tbody class=\"InWNIe\"><tr><td><a class=\"rEM8G\" href=\"https://www.google.com/preferences?hl=en&amp;sa=X&amp;ved=0ahUKEwjtkrv257uAAxUmbfUHHXbQBv4Qv5YECFU\">Settings</a></td><td><a class=\"rEM8G\" href=\"https://www.google.com/intl/en_in/policies/privacy/\">Privacy</a></td><td><a class=\"rEM8G\" href=\"https://www.google.com/intl/en_in/policies/terms/\">Terms</a></td></tr></tbody></table></div></div><div> </div></body></html>"
      ]
     },
     "execution_count": 48,
     "metadata": {},
     "output_type": "execute_result"
    }
   ],
   "source": [
    "soup"
   ]
  },
  {
   "cell_type": "code",
   "execution_count": 49,
   "id": "86bb9d09",
   "metadata": {},
   "outputs": [],
   "source": [
    "image_tags=soup.find_all(\"img\")\n"
   ]
  },
  {
   "cell_type": "code",
   "execution_count": 50,
   "id": "44b982c5",
   "metadata": {},
   "outputs": [],
   "source": [
    "del image_tags[0]"
   ]
  },
  {
   "cell_type": "code",
   "execution_count": 51,
   "id": "a514dca6",
   "metadata": {},
   "outputs": [
    {
     "data": {
      "text/plain": [
       "[<img alt=\"\" class=\"yWs4tf\" src=\"https://encrypted-tbn0.gstatic.com/images?q=tbn:ANd9GcSYzjBqPLnZIrYsoLBDOvOsCNSENIY8liEQCV4Ei-bdCODJ16ZbSFMUZREXiVM&amp;s\"/>,\n",
       " <img alt=\"\" class=\"yWs4tf\" src=\"https://encrypted-tbn0.gstatic.com/images?q=tbn:ANd9GcQlZP6YeGwvzveoL3A874o65EyyNOlt6pEJy9UO9rDK0151OBVf6suAbxT46zo&amp;s\"/>,\n",
       " <img alt=\"\" class=\"yWs4tf\" src=\"https://encrypted-tbn0.gstatic.com/images?q=tbn:ANd9GcR5WVu02Zxz08ydK5B_I4goFf6oKTm2CUWUqpkMRbdUSp-AkJhlLXMTntQ9XA&amp;s\"/>,\n",
       " <img alt=\"\" class=\"yWs4tf\" src=\"https://encrypted-tbn0.gstatic.com/images?q=tbn:ANd9GcQFK9WTG1XDdWap_7HpvzHMzb85UqaEa24dUD-NcxSzXPdRT9-RGOGAOioCaCc&amp;s\"/>,\n",
       " <img alt=\"\" class=\"yWs4tf\" src=\"https://encrypted-tbn0.gstatic.com/images?q=tbn:ANd9GcSGyJrCGeVKUmIDKbPt_nIBI4WHXhoyh_IGQ3sn5sxK_IIoTqf2AMQbIa9BOw&amp;s\"/>,\n",
       " <img alt=\"\" class=\"yWs4tf\" src=\"https://encrypted-tbn0.gstatic.com/images?q=tbn:ANd9GcQV1OaqXCBrjY_-do08TMw6tFsM7QQZ1zzXtU0unh9GYUplo8xjCjKcs11dvA&amp;s\"/>,\n",
       " <img alt=\"\" class=\"yWs4tf\" src=\"https://encrypted-tbn0.gstatic.com/images?q=tbn:ANd9GcSWS6l5Jwk6QTOUPk8ELNp6ivn4-ICu3q-UoWOfu8Vcq5niJrhjJ7cW1HPelAY&amp;s\"/>,\n",
       " <img alt=\"\" class=\"yWs4tf\" src=\"https://encrypted-tbn0.gstatic.com/images?q=tbn:ANd9GcSF4oTLDi_ee-yPE_xVSS1RqOvky6wz5LbOJ-C2P57z1ocmpnaYnZnNuFYE3I8&amp;s\"/>,\n",
       " <img alt=\"\" class=\"yWs4tf\" src=\"https://encrypted-tbn0.gstatic.com/images?q=tbn:ANd9GcSuKzon4oIn7-OSb-9iXx3FqqSwfGoodeTfpwLoBGSEtc6umZV6Y7_C26mJx5c&amp;s\"/>,\n",
       " <img alt=\"\" class=\"yWs4tf\" src=\"https://encrypted-tbn0.gstatic.com/images?q=tbn:ANd9GcTSwFIZEOfLt8ENUiQti5ISfY4uTb9eHVl_2o9cYiN3VJR5leCu7fhc-ub7Tg&amp;s\"/>,\n",
       " <img alt=\"\" class=\"yWs4tf\" src=\"https://encrypted-tbn0.gstatic.com/images?q=tbn:ANd9GcTK_eb6y6Oc2wJSK9i-PL3VexeACycGk9_5FamNYwrEpWiSmnx0n_wEci0-UAM&amp;s\"/>,\n",
       " <img alt=\"\" class=\"yWs4tf\" src=\"https://encrypted-tbn0.gstatic.com/images?q=tbn:ANd9GcS_UewYvbeBP4892_GUZv3URWZGyFMv-UTYFULbyKTfwBkBKJjRWJnD0b8ePw&amp;s\"/>,\n",
       " <img alt=\"\" class=\"yWs4tf\" src=\"https://encrypted-tbn0.gstatic.com/images?q=tbn:ANd9GcRS7JC3adCDzzGOCvseAJcZqHWhQKaA9d0d5_gY86kzkyyXSZtnsYrl8KgRpA&amp;s\"/>,\n",
       " <img alt=\"\" class=\"yWs4tf\" src=\"https://encrypted-tbn0.gstatic.com/images?q=tbn:ANd9GcTtWwC_jrqyGKJ7Ajm3KDUfjHbhycUORus7Yi3BuBO4ZpdwVhGH4MGCQdRbDrE&amp;s\"/>,\n",
       " <img alt=\"\" class=\"yWs4tf\" src=\"https://encrypted-tbn0.gstatic.com/images?q=tbn:ANd9GcTmHMYpDHgzmxmzJAZZLw3B0YrEvqaTmelFxL5Gtq9bdNmHyLPxOCysL7zr_6Y&amp;s\"/>,\n",
       " <img alt=\"\" class=\"yWs4tf\" src=\"https://encrypted-tbn0.gstatic.com/images?q=tbn:ANd9GcQmr61eNQ0VyTzCM-jXFb0PzOCiAp8UsP4b4Cv0BA7xVgZseCZr2He3Wp3Smbo&amp;s\"/>,\n",
       " <img alt=\"\" class=\"yWs4tf\" src=\"https://encrypted-tbn0.gstatic.com/images?q=tbn:ANd9GcTnF2ma7Dsopx8zYWAgokjRhHWtVVz2OdD2ecsuzuPCTooOkrT_B5t8F9ZTDys&amp;s\"/>,\n",
       " <img alt=\"\" class=\"yWs4tf\" src=\"https://encrypted-tbn0.gstatic.com/images?q=tbn:ANd9GcTYa3TO37Mx2uPIEpvvT6bthWY2hzd8K7vwKGpO5XcTWeshXF_sPd9jM-wYrA&amp;s\"/>,\n",
       " <img alt=\"\" class=\"yWs4tf\" src=\"https://encrypted-tbn0.gstatic.com/images?q=tbn:ANd9GcQJZQN4ff8N86yBMkgtYk6LdBJ4YNBQ0B8Oc_IoRuGHLXMadQg6J5WeOoHoGGo&amp;s\"/>,\n",
       " <img alt=\"\" class=\"yWs4tf\" src=\"https://encrypted-tbn0.gstatic.com/images?q=tbn:ANd9GcS-f5b9oH-2Oc0xXIBzG1mZHn-I0t8LPegkt4_N7AgO5pLUOvBDdv5ZtN-V5A&amp;s\"/>]"
      ]
     },
     "execution_count": 51,
     "metadata": {},
     "output_type": "execute_result"
    }
   ],
   "source": [
    "image_tags"
   ]
  },
  {
   "cell_type": "code",
   "execution_count": 52,
   "id": "cfb5720c",
   "metadata": {},
   "outputs": [
    {
     "data": {
      "text/plain": [
       "20"
      ]
     },
     "execution_count": 52,
     "metadata": {},
     "output_type": "execute_result"
    }
   ],
   "source": [
    "len(image_tags)"
   ]
  },
  {
   "cell_type": "code",
   "execution_count": 40,
   "id": "280a13b7",
   "metadata": {},
   "outputs": [
    {
     "data": {
      "text/plain": [
       "b'\\xff\\xd8\\xff\\xe0\\x00\\x10JFIF\\x00\\x01\\x01\\x00\\x00\\x01\\x00\\x01\\x00\\x00\\xff\\xdb\\x00\\x84\\x00\\t\\x06\\x07\\x08\\x07\\x06\\t\\x08\\x07\\x08\\n\\n\\t\\x0b\\r\\x16\\x0f\\r\\x0c\\x0c\\r\\x1b\\x14\\x15\\x10\\x16 \\x1d\"\" \\x1d\\x1f\\x1f$(4,$&1\\'\\x1f\\x1f-=-157:::#+?D?8C49:7\\x01\\n\\n\\n\\r\\x0c\\r\\x1a\\x0f\\x0f\\x1a7%\\x1f%77777777777777777777777777777777777777777777777777\\xff\\xc0\\x00\\x11\\x08\\x00\\x8c\\x00`\\x03\\x01\"\\x00\\x02\\x11\\x01\\x03\\x11\\x01\\xff\\xc4\\x00\\x1b\\x00\\x00\\x02\\x02\\x03\\x01\\x00\\x00\\x00\\x00\\x00\\x00\\x00\\x00\\x00\\x00\\x00\\x00\\x05\\x04\\x06\\x01\\x02\\x03\\x07\\xff\\xc4\\x005\\x10\\x00\\x02\\x01\\x03\\x03\\x02\\x04\\x03\\x07\\x03\\x05\\x01\\x00\\x00\\x00\\x00\\x01\\x02\\x03\\x00\\x04\\x11\\x05\\x12!1A\\x13\"Qa\\x06q\\x81\\x14#2\\x91\\xa1\\xb1\\xc1B\\xd1\\xf0\\x15%3R\\xf1\\x16\\xff\\xc4\\x00\\x1a\\x01\\x00\\x02\\x03\\x01\\x01\\x00\\x00\\x00\\x00\\x00\\x00\\x00\\x00\\x00\\x00\\x00\\x00\\x01\\x02\\x03\\x04\\x05\\x06\\xff\\xc4\\x00&\\x11\\x00\\x02\\x02\\x01\\x04\\x01\\x03\\x05\\x01\\x00\\x00\\x00\\x00\\x00\\x00\\x00\\x00\\x01\\x02\\x03\\x11\\x04\\x12!1\\x13\\x05\"aAq\\x91\\xb1\\xf0Q\\xff\\xda\\x00\\x0c\\x03\\x01\\x00\\x02\\x11\\x03\\x11\\x00?\\x00\\xf7\\x1a(\\xa2\\x80\\n(\\xaeW3-\\xbc\\x12L\\xff\\x00\\x865,~B\\x80K<\\x1bK\"D\\x85\\xe4uT^K7\\x00UkR\\xf8\\xa9\\x15\\xfc-:5\\x94\\xf4\\xf1\\x1f\\x81\\xf4\\x1dM \\xbf\\xd4.\\xb5\\x16/,\\xcaWh}\\x83\\xa2d\\xf4\\xae\\x02$2HJ\\x08\\xe4\\xed\\xc9\\x01q\\xdb\\x14\\xb2vt\\xfe\\x9f\\x04\\xb7Y\\xcf\\xc1\\xde\\xe7Q\\xbb\\x9evyneY\\x10\\xf9<\\xd8\\xdb\\xeb\\xd3\\x14\\xff\\x00E\\xf8\\x904\\x89k\\xa8\\xc8\\xbb\\xcf\\x0b0\\xe8O\\xa1\\xfe\\xf5S7vH\\xa4\\\\\\xcb\\x00\\x98\\xe3\\x07\\xc4\\xe4\\xff\\x00j\\xd1\\x87\\x85\\x08!\\xd7\\xc2\\x91\\x808;\\x88\\x1f\\xcdGq\\xb2\\xcd5VGf0z\\xb0\\xe9Y\\xaaG\\xc2:\\xbc\\xebz\\x962\\x17{i2#g\\xfe\\x929\\x00|\\xc7j\\xbb\\x0e\\x953\\x81\\xa8\\xa2TOd\\x8c\\xd1E\\x14\\x14\\x85\\x14Q@\\x05F\\xd4m\\xfe\\xd7c=\\xb882!P}\\xf1Rh\\xa0i\\xe1\\xe5\\x1eM\\xa9\\xa4\\xb6w\\x93-\\xc4[dG\\xca\\x88\\xf9\\xfc\\xbf>\\xbd\\xabS<;\\x13\\xed\\x0e\\xb2\\xc8\\xc03+\\x8f*\\x9f\\xe6\\x9e|[\\xa7\\xce\\xba\\xec\\x97\\xae\\x01\\x81\\x95D{\\xb9\\x04\\x9e\\x08\\xfd)\\x05\\xe6\\x83ou<\\x17\\x8d,\\x8a\\xd1~$\\x18\\xc3\\x8fLv\\xfaVY\\xb7)\\xe1\\xf4w|\\xf2\\xb2\\t\\xa3\\xac\\xe1v\\x85\\x93c+\\x7fO@*\\x02\\xe2\\xc8\\xacH\\x99\\x0f \\xd8wd)\\xf4\\xc7J\\x93\\xaci\\xb1\\xeaq\\xc7\\x0cs\\xc9\\x03&\\x0e\\xe5\\x04};V$\\xd3U\\xed\\xcd\\xbc{\\x88\\x0b\\xc9\\'\\'\\xafZ\\x8a\\xf6\\xf2\\x89FN\\x0f\\xe0o\\xf0\\xa5\\xab\\xdckv\\xcb\\x93\\xf7$\\xcc\\xec\\x0f\\x18\\x1c\\x01\\xf3\\xcf\\xe9^\\x90:R\\x0f\\x83\\xb4\\xd6\\xb0\\xd332\\x01,\\x87$\\xf7+\\xdb\\xf98\\xf7\\xab\\x05k]\\x1c\\x9de\\xde[r\\xbaAE\\x14S2\\x85\\x14Q@\\x05i+\\x88\\xe3gc\\xc2\\x8c\\x9a\\xde\\x94\\xebZ\\xc5\\xa5\\x84L\\xb3\\xbcy#\\x041\\xfe;\\xfc\\xa8%\\x18\\xb9<$W\\xb5\\xfdC\\xed\\x97F\\x1c\\x01\\x1e\\xdf)<\\xe4\\x82s\\xf2=?\\xc1U\\xf8R\\xeb\\xc2>\"\\xc8c\\xff\\x00\\xba\\xf3\\xfa\\x8aiq?\\x88ZH\\xd4\\xa2\\xb9\\xc8\\xfe\\x7f\\xcfz\\xed\\xa2L<\\x19\\x0b\\x1cl\\xcb\\x10}:\\xd6(G}\\xad3\\xa8\\xa7\\xe1\\xaf\\x84#\\x8e9#\\x90\\x95\\xb8\\x9a\\xe0\\x9e\\x80\\xf3\\x8a\\x93k\\x04\\x81\\x9aY\\x0e\\x00\\x19\\xeb\\xef\\xd2\\x9faXx\\x81\\x14\\x06\\xe7 T7\\x846\\xef\\x11\\xf1\\x08\\xf3`\\x9f\\xd6\\xad\\xb2\\x9d\\xb1\\xe0KP\\xeco(}\\xa1\\xea\\xa6Y\\xbe\\xcb;y\\xd8}\\xd8\\x07p\\x18\\x1e\\xbd}\\xf9\\xfc\\xea\\xc1^\\x7fo1\\xd3o\\x83\\xc3\\xf8\\xd4\\xf7\\\\\\xf9s\\xc8\\xfd\\xea\\xfb\\x04\\xa94),g(\\xe02\\x9fj\\x953rX}\\x98\\xb55\\xa8\\xcb+\\xa6oE\\x14U\\xc6p\\xa2\\x8a\\xc5\\x00q\\xbb, b&\\x10\\x802\\\\\\x8c\\xe0W\\x9djRD\\xf7a\\x95\\xd9\\x87\\x88q\\xb8rG\\xa9>\\xfc\\xd3\\xdf\\x89\\xb5Cs\\xba\\xd6\\xdc\\x1f\\n9\\x00w\\xec[=>UX\\xbbY\\x08\\xd8\\x11r\\x92n,:\\x82N\\x05)\\x1d\\xdfN\\xd38-\\xf2\\xed\\x96\\x1f\\xb3\\xc4\\xf6\\xb0\\xf90\\xac\\xa0\\xa8\\xf4\\xa8\\x90\\xa2D\\xf9\\x03\\xca\\xc3,=A\\x15 ?\\xfbLO\\x93\\x91\\x19\\xc7\\xaf\\xa5j\"Y\"F\\xff\\x00\\xb0\\x15T\\xabr\\x8b\\xdb\\xd9\\x92mFMK\\xaeLFv\\xe9\\xf2\\xc4[\\xfe2S>\\xdd\\xbfB*/\\xc4\\x12\\xedt\\xb7\\x84\\x91\\x91\\x97 t\\xf4\\xe6\\xa5\\xbaxB\\xe0\\x11\\x95r1\\xf3\\x0b\\xfd\\x85*\\xbc\\x9f\\x13\\xb4\\xbb7\\xe3>\\\\\\xff\\x00\\x9e\\xd5t\\xd3\\xda\\xb3\\xd9n\\x82\\t\\xcd\\xbf\\xf0\\xdbO\\xbe\\x85\\xa3\\xd9t\\x81\\x1a1\\xe5\\x90\\xf2\\x00\\xf7=\\xbef\\xaf\\x1a\\x16\\xa3\\x1d\\xdc\\x02\\x15e/\\x1a\\x8f\\xc2x+\\xeb^Up\\xd9\\xf1\\x8bH\\xc1\\xc0\\xe0c\\xf1\\n\\xb0|+\\xabC\\xa7j$\\x17\\xfb\\x89\\x99T\\x96^Fz\\x1c\\xfbq\\xf4\\xa8G\\x82\\xddn\\x871s\\x87\\xe0\\xf4\\xaa+\\x03\\xa5f\\xa6p\\xc2\\xa0\\xea\\xd2\\xba\\xda\\xb2C&\\xc9XaN3\\x81\\xde\\xa6\\x93\\x81\\xcdT\\xb5\\rRC\\xa8\\xc8\\xd0\\xa8\\x92\\x1e\\x98\\xcf\\\\w\\x15\\x19MG\\xb2\\xea*\\x95\\x92\\xf6\\xfd\\x04\\xf7\\xb1<M\"4\\x05\\x9c\\x9c\\xa9,O~\\xbe\\xf5\\n\\xda\\xde[\\x84\\x92\\xe5\\xd1R\\xde\\x07\\t\\x92s\\xbd\\xb1\\x9c\\x0f\\xa7&\\xac\\xf3\\xc2\\xf7Q \\x11\\xb7\\xdf.W#\\xb1\\xefI_R\\x1e\\x0f\\xfadv\\xad\\x15\\xacM\\xb8\\x16\\x18\\x90\\xbf9\\'\\xe7F\\x0e\\xed\\x1a\\x89N8\\x8a\\xe7\\xeb\\xf6;\\xc8\\xeel2\\xd8\\x0c\\t\\x0c\\x0f\\x189\\xcdI\\x83\\x06\\xca7\\x03\\x8c\\x06\\xa5\\x13\\xbc\\xc2\\'\\x8fq\\xce\\xed\\xdb{\\x9e:\\xd3\\x1f4r\\xdaE\\x9e6a\\x97=s\\xdb\\xf4\\xab b\\xd4\\xd2\\xdb\\xe0\\xedr\\xed\\x15\\xc4\\xae\\x10\\xc8\\x84!\\n\\xa3\\'\\xbeO\\xedU\\xfd`H\\x92\\xbc\\xa9\\xe4o)E#\\x82:\\x10\\x7f*s\\xaa\\x05\\x1041\\x9f2\\xae\\xf5\\xc9\\xc9 \\x1e\\x9f*F\\xd0\\xa4i\\xc0\\xf39\\x0c\\xb9#\\x18>\\xd4\\xace\\xfe\\x9f\\x06\\xb325\\xcd\\xbd\\xdd\\xd5\\x8b\\xea*\\xa0\\xc6\\xac\\xab7 \\x90[\\xd7\\xf6\\xfa\\xd1c\\x1340\\r\\x89#\\x11\\xb8\\x0e\\x0e\\xee\\x9c\\x1f\\xca\\xa6Y\\xdf\\x8d9\\x9fr\\xf8\\xf6\\xf3F\\x16\\xe2\\x121\\xb8\\x1e1\\xf3\\xee\\rO\\xb2\\xb2\\x87L* \\xcc\\xb6\\xd7\\x03|2\\x9e\\xa5}\\x0f\\xb8\\xe8j\\xb4\\x8d\\x97\\xdc\\xea\\x8b\\xca\\xfb\\x7f\\x7fpZ~\\x16\\xbe\\x92K$\\xb5\\xbbl\\xdcF8\\xe79^\\xc3=\\xc8\\xa7\\xd5\\xe7\\xdav\\xab\\x10\\xd6\\xed\\xe3Di\\x13\\xc4\\x08J\\xf1\\xc9\\xe0\\x11\\xed\\xde\\xbd\\x00t\\xa9&\\x99\\xe7/\\x84\\xa3,\\xb5\\x8c\\x81\\x00\\x8c\\x1e\\x94\\xbe\\xf7G\\xb4\\xb9L,~\\x1b\\x81\\x85d$c\\x8e8\\xefLh\\xa1\\xa4\\xfb+\\x8c\\xa5\\x17\\x98\\xb3\\x95\\xbc\"\\x18#\\x88\\x12B PO\\xb0\\xaa\\x87\\xc5\\x98]Pxq\\xc6\\x18\\xc6\\xa5\\x98\\x8eI\\xe4\\xff\\x00\\x02\\xae\\x95O\\xf8\\x8e\\xc1\\xd6\\xfd\\xa6\\x8b.\\xcf\\xe7\\xe5\\xbe\\x98\\xfd)\\x9a\\xf43\\x8cn\\xcc\\x98\\x82\\xd4K$\\x92K+\\xc41\"D\\x81xb\\t\\xe7?\\xa512\\xb2\\xeb\\x92\\x02UcXFKv<\\x9c|\\xcdG{w\\x8a\\x18\\xdd\\x95\\xfcEl\\x93\\xb4m\\xf6\\xe9QeEyZI\\x143I\\x93\\x93\\xd8\\xf6 \\xd2\\\\\\x1d\\x89(\\xdb\\x9ex\\xc3_\\xa3\\x9b^\\x1f\\xfe\\x85L\\xa4,B=\\xa7w\\x1e]\\xb9\\xc9\\xfa\\xd6\\x08\\x0b\\x02\\x18\\xb9\\xda\\xfc`d\\x85\\x04\\xe0\\xfe\\xd5\\x8b\\xdbpKx\\x91,\\xac\\xd1~0\\xd9\\xdaq\\x81\\xfb\\xe6\\x9cGf&\\xb4\\x8c\\xdcd\\xcac\\\\\\x8c\\xf4\\xf6\\xa1&\\xc7m\\xb5P\\xa2\\xfe\\x12\\xfc\\tZ\\x16\\x9d^\\x05\\x8f2I\\'\\xe2\\xf6#\\xf6\\xe6\\xae\\xff\\x00\\x0f4V\\xc8,\\x99W\\x00\\x93\\x1eGRz\\xd2x\\xa2TUX\\xd3\\xfa\\xba\\x01\\xd4\\xd5\\xb2\\xc3N\\x86\\xd5C\\x11\\xba^\\xecGO\\x95K\\t#\\x93\\xac\\xd5\\xf9\\xbd\\xab\\xa26\\x97\\xa0X\\xe9\\xf2\\x19R0\\xf2\\xef%\\x1d\\x87*\\x0fa\\xf4\\xe2\\x9a\\xf6\\xac\\xd1H\\xc1)9<\\xb0\\xa2\\x8a(\\x10R\\x8du@X\\xa4>\\xa4`\\x0ei\\xbdA\\xd6\\x02\\xfd\\x85\\xd8\\xaeX\\x11\\xb7\\xe7B\\x1a\\xecD\\xae\\x9b7y\\xb6\\xfa\\x855\\xa7\\xdcJ\\xcb\\x18RK\\xfe\\x15(rkW\\x95U\\x17\\x04.x\\xf9Vt\\x98\\x8bj\\x10\\x1d\\xdem\\xd9\\x1d\\xfau\\xfd(\\xdc^\\x93K&\\x0cv\\xed\\x17\\x93n\\xd0y\\x03\\xfbV\\xac\\xf2\\x15\\xdc#\\xda\\xa3\\xa1c\\xd6\\xa4O\\x07\\x81\\x7fr\\x84\\xf0d.=\\x83s\\xfc\\xd7)\\x1c\\xec\\xe9\\x90x\\xa7\\xb8M\\xb6O\\xf8r!$\\xd3\\xcd \\xcb\\xa1\\x01O\\xa6i\\xf8\\xa5\\x9a\\x04[-]\\xf1\\xff\\x00#\\xe4|\\xb1\\xff\\x00\\xb4\\xd2\\x86R\\xfb\\n(\\xa2\\x90\\x82\\x8a(\\xa0\\x02\\xa2j\\x80\\x1b\\t\\xf2\\x85\\xb0\\xa4\\xe0\\x0c\\x9f\\x98\\xa9t\\xb7\\\\\\xbd[;\\x07\\';\\x9f\\xc8\\xb8\\xf7\\xa0\\x9dqr\\x92\\x8a*\\x8b\\xa8Y\\xb2\\x82<^\\xbf\\x84\\xc6A\\x15`\\xf8s\\xec\\x92\\xc5$\\xb6\\xec\\xb2>p\\xc7\\x07\\xcb\\xed\\xcdR\\xae\\x11\\xc020\\xdc\\n\\x9d\\xbel\\xb7S\\xc9\\xabO\\xc1Wll&\\x86\\xe1c\\x8c\\xc2\\xdb\\xf3\\xc0\\xca\\x9e\\xe7\\xf2\\xebP\\x8fg[Y\\xa5\\x8c(\\xdf\\x13\\x9e\\xa7\\x07\\xfa\\\\\\xa12^\\'\\xcb)\\xceJ\\x8e\\x06\\rE\\x86X\\xaegH\\xe3r\\x0b\\x11\\x91\\xb4\\xe4};\\xd2\\xdb\\xf35\\xdd\\xcd\\xe4\\xea\\xecm\\xe4\\x94\\xe1\\xb7pW\\'\\x00\\xfd?z\\xe9\\xa4\\\\\\xcdg\\xa8\\xc1\\xe0\\x18\\xc6\\xf6\\x08\\xe5\\x87\\xf4\\x9e\\xc3\\xbf\\xa0\\xa3\\x9c\\x8d\\xe8\\x97\\x879\\xf7\\x1e\\x85\\x04k\\x14)\\x1a\\x0f*\\x8c\\n\\xde\\xb0:Vjg\\x14(=(\\xac\\x1e\\x86\\x803E`Vh\\x00\\xa8\\x1a\\xae\\x95\\x0e\\xa6\\x88\\x93\\xbc\\x8a\\x14\\xe7\\xc8q\\x9f\\xf3\\x15>\\x8a\\tFN\\x0ft_%zO\\x84\\xac\\x8bn\\x8e{\\x84>\\xe4\\x11\\xfbS\\x0b}\\x1a\\xca\\xde\\xceKTBRQ\\x89\\x18\\x9f3}i\\x8d\\x14\\x16KQl\\xd6%&Tn>\\x10\\x98\\x97\\x16\\xfa\\x86\\x14\\x9f*\\xba\\x1e>x<\\xd4\\xad\\x1f\\xe1\\xa7\\xb4\\xbaI\\xef.Vr\\x83\\xca\\xa1:\\x1e\\xc7$\\xf6\\xab\\x19\\xa0Q\\x82r\\xd6](\\xedl\\x07\\x15\\x9a(\\xa0\\xcc\\x15\\x83\\xd0\\xd6k\\x1dE\\x00\\x7f\\xff\\xd9'"
      ]
     },
     "execution_count": 40,
     "metadata": {},
     "output_type": "execute_result"
    }
   ],
   "source": [
    "requests.get(\"https://encrypted-tbn0.gstatic.com/images?q=tbn:ANd9GcQlf0eLX52Cbwx-OGScUa0k1Xds7DEFL7wZQmgtxeEc8128m_cBRxOuI13UDg&s\").content"
   ]
  },
  {
   "cell_type": "code",
   "execution_count": 53,
   "id": "720bc450",
   "metadata": {},
   "outputs": [],
   "source": [
    "save_dir=\"images/\"\n",
    "if not os.path.exists(save_dir):\n",
    "    os.makedirs(save_dir)"
   ]
  },
  {
   "cell_type": "code",
   "execution_count": 54,
   "id": "db44a878",
   "metadata": {},
   "outputs": [
    {
     "name": "stdout",
     "output_type": "stream",
     "text": [
      "0\n",
      "1\n",
      "2\n",
      "3\n",
      "4\n",
      "5\n",
      "6\n",
      "7\n",
      "8\n",
      "9\n",
      "10\n",
      "11\n",
      "12\n",
      "13\n",
      "14\n",
      "15\n",
      "16\n",
      "17\n",
      "18\n",
      "19\n"
     ]
    }
   ],
   "source": [
    "for i in image_tags:\n",
    "    print(image_tags.index(i))\n",
    "    "
   ]
  },
  {
   "cell_type": "code",
   "execution_count": 55,
   "id": "618da86b",
   "metadata": {},
   "outputs": [],
   "source": [
    "for i in image_tags:\n",
    "    image_url=i['src']\n",
    "    image_data=requests.get(image_url).content\n",
    "    with open(os.path.join(save_dir,f\"{query}_{image_tags.index(i)}.jpg\"),\"wb\") as f:\n",
    "              f.write(image_data)"
   ]
  },
  {
   "cell_type": "code",
   "execution_count": null,
   "id": "2e06e0bd",
   "metadata": {},
   "outputs": [],
   "source": []
  },
  {
   "cell_type": "code",
   "execution_count": null,
   "id": "9dc4fc9c",
   "metadata": {},
   "outputs": [],
   "source": []
  }
 ],
 "metadata": {
  "kernelspec": {
   "display_name": "Python 3 (ipykernel)",
   "language": "python",
   "name": "python3"
  },
  "language_info": {
   "codemirror_mode": {
    "name": "ipython",
    "version": 3
   },
   "file_extension": ".py",
   "mimetype": "text/x-python",
   "name": "python",
   "nbconvert_exporter": "python",
   "pygments_lexer": "ipython3",
   "version": "3.10.9"
  }
 },
 "nbformat": 4,
 "nbformat_minor": 5
}
