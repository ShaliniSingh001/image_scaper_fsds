{
 "cells": [
  {
   "cell_type": "markdown",
   "id": "3765b06a",
   "metadata": {},
   "source": [
    "# Image Scrapping"
   ]
  },
  {
   "cell_type": "markdown",
   "id": "010d6167",
   "metadata": {},
   "source": [
    "### Importing library"
   ]
  },
  {
   "cell_type": "code",
   "execution_count": 1,
   "id": "339751cf",
   "metadata": {},
   "outputs": [],
   "source": [
    "import requests\n",
    "import logging\n",
    "import os\n",
    "from bs4 import BeautifulSoup as bs  # For scrapping\n",
    "from urllib.request import urlopen   # Requesting server"
   ]
  },
  {
   "cell_type": "markdown",
   "id": "5fcc5d75",
   "metadata": {},
   "source": [
    "### Creating Directory"
   ]
  },
  {
   "cell_type": "code",
   "execution_count": 55,
   "id": "f111b409",
   "metadata": {},
   "outputs": [],
   "source": [
    "save_dir = \"images/\"\n",
    "if not os.path.exists(save_dir):\n",
    "    os.makedirs(save_dir)"
   ]
  },
  {
   "cell_type": "markdown",
   "id": "bf83c7d6",
   "metadata": {},
   "source": [
    "### Url"
   ]
  },
  {
   "cell_type": "code",
   "execution_count": 10,
   "id": "a7914b77",
   "metadata": {},
   "outputs": [],
   "source": [
    "query = \"harry potter\"\n",
    "url = f\"https://www.google.com/search?q={query}&tbm=isch&ved=2ahUKEwjG1vSQy7WAAxUr5zgGHY97DeQQ2-cCegQIABAA&oq=harry+potter&gs_lcp=CgNpbWcQDFAAWABgAGgAcAB4AIABAIgBAJIBAJgBAKoBC2d3cy13aXotaW1n&sclient=img&ei=FubFZMbzH6vO4-EPj_e1oA4&bih=821&biw=1440&rlz=1C5CHFA_enIN981IN981\""
   ]
  },
  {
   "cell_type": "markdown",
   "id": "b32fdd95",
   "metadata": {},
   "source": [
    "### Making request"
   ]
  },
  {
   "cell_type": "code",
   "execution_count": 12,
   "id": "8fe7be68",
   "metadata": {},
   "outputs": [],
   "source": [
    "respone = requests.get(url)"
   ]
  },
  {
   "cell_type": "code",
   "execution_count": 13,
   "id": "acbf444b",
   "metadata": {},
   "outputs": [
    {
     "data": {
      "text/plain": [
       "<Response [200]>"
      ]
     },
     "execution_count": 13,
     "metadata": {},
     "output_type": "execute_result"
    }
   ],
   "source": [
    "respone"
   ]
  },
  {
   "cell_type": "markdown",
   "id": "c9426854",
   "metadata": {},
   "source": [
    "### Getting content"
   ]
  },
  {
   "cell_type": "code",
   "execution_count": 17,
   "id": "d5af3bd1",
   "metadata": {},
   "outputs": [],
   "source": [
    "content = bs(respone.content,\"html.parser\")"
   ]
  },
  {
   "cell_type": "code",
   "execution_count": 18,
   "id": "8f0f79f1",
   "metadata": {},
   "outputs": [
    {
     "data": {
      "text/plain": [
       "<!DOCTYPE html PUBLIC \"-//WAPFORUM//DTD XHTML Mobile 1.0//EN\" \"http://www.wapforum.org/DTD/xhtml-mobile10.dtd\">\n",
       "<html lang=\"en-IN\" xmlns=\"http://www.w3.org/1999/xhtml\"><head><meta content=\"application/xhtml+xml; charset=utf-8\" http-equiv=\"Content-Type\"/><meta content=\"no-cache\" name=\"Cache-Control\"/><title>harry potter - Google Search</title><style>a{text-decoration:none;color:inherit}a:hover{text-decoration:underline}a img{border:0}body{font-family:arial,sans-serif;padding:8px;margin:0 auto;max-width:700px;min-width:240px;}.FbhRzb{border-left:thin solid #dadce0;border-right:thin solid #dadce0;border-top:thin solid #dadce0;height:40px;overflow:hidden}.n692Zd{margin-bottom:10px}.cvifge{height:40px;border-spacing:0}.QvGUP{height:40px;padding:0 8px 0 8px;vertical-align:top}.O4cRJf{height:40px;width:100%;padding:0;padding-right:16px}.O1ePr{height:40px;padding:0;vertical-align:top}.kgJEQe{height:36px;width:98px;vertical-align:top;margin-top:4px}.lXLRf{vertical-align:top}.MhzMZd{border:0;vertical-align:middle;font-size:14px;height:40px;padding:0;width:100%;padding-left:16px}.xB0fq{height:40px;border:none;font-size:14px;background-color:#1a73e8;color:#fff;padding:0 16px;margin:0;vertical-align:top;cursor:pointer}.xB0fq:focus{border:1px solid #1a73e8}.M7pB2{border:thin solid #dadce0;margin:0 0 3px 0;font-size:13px;font-weight:500;height:40px}.euZec{width:100%;height:40px;text-align:center;border-spacing:0}table.euZec td{padding:0;width:25%}.QIqI7{display:inline-block;padding-top:4px;font-weight:bold;color:#4285f4}.EY24We{border-bottom:2px solid #4285f4}.CsQyDc{display:inline-block;color:#70757a}.TuS8Ad{font-size:14px}.HddGcc{padding:8px;color:#70757a}.dzp8ae{font-weight:bold;color:#3c4043}.rEM8G{color:#70757a}.bookcf{table-layout:fixed;width:100%;border-spacing:0}.InWNIe{text-align:center}.uZgmoc{border:thin solid #dadce0;color:#70757a;font-size:14px;text-align:center;table-layout:fixed;width:100%}.frGj1b{display:block;padding:12px 0 12px 0;width:100%}.BnJWBc{text-align:center;padding:6px 0 13px 0;height:35px}.e3goi{vertical-align:top;padding:0;height:180px}.GpQGbf{margin:auto;border-collapse:collapse;border-spacing:0;width:100%}</style></head><body><style>.X6ZCif{color:#202124;font-size:11px;line-height:16px;display:inline-block;padding-top:2px;overflow:hidden;padding-bottom:4px;width:100%}.TwVfHd{border-radius:16px;border:thin solid #dadce0;display:inline-block;padding:8px 8px;margin-right:8px;margin-bottom:4px}.yekiAe{background-color:#dadce0}.mnTahd{width:100%}.ezO2md{border:thin solid #dadce0;padding:12px 16px 12px 16px;margin-bottom:10px;font-family:arial,sans-serif}.lIMUZd{font-family:arial,sans-serif}.IkMU6e{border-spacing:0}.SjCsie{width:100%}.EnarA{text-align:center}.NZWO1b{width:162px;height:140px;line-height:140px;overflow:'hidden';text-align:center}.yWs4tf{text-align:center;margin:auto;vertical-align:middle;max-width:162px;max-height:140px}.jB2rPd{padding-top:2px;padding-bottom:8px;}.fYyStc{word-break:break-word}.ynsChf{display:block;white-space:nowrap;overflow:hidden;text-overflow:ellipsis}.Fj3V3b{color:#1967d2;font-size:14px;line-height:20px}.FrIlee{color:#202124;font-size:11px;line-height:16px}.F9iS2e{color:#70757a;font-size:11px;line-height:16px}.WMQ2Le{color:#70757a;font-size:12px;line-height:16px}.x3G5ab{color:#202124;font-size:12px;line-height:16px}.fuLhoc{color:#1967d2;font-size:16px;line-height:20px}.epoveb{font-size:24px;line-height:28px;font-weight:400;color:#202124}.dXDvrc{color:#0d652d;font-size:14px;line-height:20px;word-wrap:break-word}.dloBPe{font-weight:bold}.YVIcad{color:#70757a}.JkVVdd{color:#ea4335}.oXZRFd{color:#ea4335}.MQHtg{color:#fbbc04}.pyMRrb{color:#1e8e3e}.EtTZid{color:#1e8e3e}.M3vVJe{color:#1967d2}.qXLe6d{display:block}.NHQNef{font-style:italic}.Cb8Z7c{white-space:pre}a.ZWRArf{text-decoration:none}a .CVA68e:hover{text-decoration:underline}</style><div class=\"n692Zd\"><div class=\"BnJWBc\"><a class=\"lXLRf\" href=\"/?bih=821&amp;biw=1440&amp;rlz=1C5CHFA_enIN981IN981&amp;output=images&amp;ie=UTF-8&amp;tbm=isch&amp;sa=X&amp;ved=0ahUKEwjzi-j-y7WAAxWfXGwGHUCCAV0QPAgC\"><img alt=\"Google\" class=\"kgJEQe\" src=\"/images/branding/searchlogo/1x/googlelogo_desk_heirloom_color_150x55dp.gif\"/></a></div><div class=\"FbhRzb\"><form action=\"/search\"><input name=\"bih\" type=\"hidden\" value=\"821\"/><input name=\"biw\" type=\"hidden\" value=\"1440\"/><input name=\"rlz\" type=\"hidden\" value=\"1C5CHFA_enIN981IN981\"/><input name=\"ie\" type=\"hidden\" value=\"ISO-8859-1\"/><input name=\"tbm\" type=\"hidden\" value=\"isch\"/><input name=\"oq\" type=\"hidden\"/><input name=\"aqs\" type=\"hidden\"/><table class=\"cvifge\"><tr><td class=\"O4cRJf\"><input class=\"MhzMZd\" name=\"q\" type=\"text\" value=\"harry potter\"/></td><td class=\"O1ePr\"><input class=\"xB0fq\" type=\"submit\" value=\"Search\"/></td></tr></table></form></div><div class=\"M7pB2\"><table class=\"euZec\"><tbody><tr><td><a class=\"CsQyDc\" href=\"/search?q=harry+potter&amp;bih=821&amp;biw=1440&amp;rlz=1C5CHFA_enIN981IN981&amp;ie=UTF-8&amp;source=lnms&amp;sa=X&amp;ved=0ahUKEwjzi-j-y7WAAxWfXGwGHUCCAV0Q_AUIBCgA\">ALL</a></td><td class=\"EY24We\"><span class=\"QIqI7\">IMAGES</span></td><td><a class=\"CsQyDc\" href=\"/search?q=harry+potter&amp;bih=821&amp;biw=1440&amp;rlz=1C5CHFA_enIN981IN981&amp;ie=UTF-8&amp;tbm=nws&amp;source=lnms&amp;sa=X&amp;ved=0ahUKEwjzi-j-y7WAAxWfXGwGHUCCAV0Q_AUIBigC\">NEWS</a></td><td><a class=\"CsQyDc\" href=\"/search?q=harry+potter&amp;bih=821&amp;biw=1440&amp;rlz=1C5CHFA_enIN981IN981&amp;ie=UTF-8&amp;tbm=bks&amp;source=lnms&amp;sa=X&amp;ved=0ahUKEwjzi-j-y7WAAxWfXGwGHUCCAV0Q_AUIBygD\">BOOKS</a></td></tr></tbody></table></div></div><div class=\"X6ZCif\"><a class=\"TwVfHd\" href=\"/search?bih=821&amp;biw=1440&amp;rlz=1C5CHFA_enIN981IN981&amp;ie=UTF-8&amp;tbm=isch&amp;q=harry+potter&amp;chips=q:harry+potter,g_1:wallpaper&amp;sa=X&amp;ved=0ahUKEwjzi-j-y7WAAxWfXGwGHUCCAV0Q4lYICygA\">wallpaper</a><a class=\"TwVfHd\" href=\"/search?bih=821&amp;biw=1440&amp;rlz=1C5CHFA_enIN981IN981&amp;ie=UTF-8&amp;tbm=isch&amp;q=harry+potter&amp;chips=q:harry+potter,g_1:logo&amp;sa=X&amp;ved=0ahUKEwjzi-j-y7WAAxWfXGwGHUCCAV0Q4lYIDCgB\">logo</a><a class=\"TwVfHd\" href=\"/search?bih=821&amp;biw=1440&amp;rlz=1C5CHFA_enIN981IN981&amp;ie=UTF-8&amp;tbm=isch&amp;q=harry+potter&amp;chips=q:harry+potter,g_1:drawing&amp;sa=X&amp;ved=0ahUKEwjzi-j-y7WAAxWfXGwGHUCCAV0Q4lYIDSgC\">drawing</a><a class=\"TwVfHd\" href=\"/search?bih=821&amp;biw=1440&amp;rlz=1C5CHFA_enIN981IN981&amp;ie=UTF-8&amp;tbm=isch&amp;q=harry+potter&amp;chips=q:harry+potter,g_1:art&amp;sa=X&amp;ved=0ahUKEwjzi-j-y7WAAxWfXGwGHUCCAV0Q4lYIDigD\">art</a><a class=\"TwVfHd\" href=\"/search?bih=821&amp;biw=1440&amp;rlz=1C5CHFA_enIN981IN981&amp;ie=UTF-8&amp;tbm=isch&amp;q=harry+potter&amp;chips=q:harry+potter,g_1:wand&amp;sa=X&amp;ved=0ahUKEwjzi-j-y7WAAxWfXGwGHUCCAV0Q4lYIDygE\">wand</a><a class=\"TwVfHd\" href=\"/search?bih=821&amp;biw=1440&amp;rlz=1C5CHFA_enIN981IN981&amp;ie=UTF-8&amp;tbm=isch&amp;q=harry+potter&amp;chips=q:harry+potter,g_1:character&amp;sa=X&amp;ved=0ahUKEwjzi-j-y7WAAxWfXGwGHUCCAV0Q4lYIECgF\">character</a><a class=\"TwVfHd\" href=\"/search?bih=821&amp;biw=1440&amp;rlz=1C5CHFA_enIN981IN981&amp;ie=UTF-8&amp;tbm=isch&amp;q=harry+potter&amp;chips=q:harry+potter,g_1:fanart&amp;sa=X&amp;ved=0ahUKEwjzi-j-y7WAAxWfXGwGHUCCAV0Q4lYIESgG\">fanart</a><a class=\"TwVfHd\" href=\"/search?bih=821&amp;biw=1440&amp;rlz=1C5CHFA_enIN981IN981&amp;ie=UTF-8&amp;tbm=isch&amp;q=harry+potter&amp;chips=q:harry+potter,g_1:aesthetic&amp;sa=X&amp;ved=0ahUKEwjzi-j-y7WAAxWfXGwGHUCCAV0Q4lYIEigH\">aesthetic</a><a class=\"TwVfHd\" href=\"/search?bih=821&amp;biw=1440&amp;rlz=1C5CHFA_enIN981IN981&amp;ie=UTF-8&amp;tbm=isch&amp;q=harry+potter&amp;chips=q:harry+potter,g_1:quidditch&amp;sa=X&amp;ved=0ahUKEwjzi-j-y7WAAxWfXGwGHUCCAV0Q4lYIEygI\">quidditch</a><a class=\"TwVfHd\" href=\"/search?bih=821&amp;biw=1440&amp;rlz=1C5CHFA_enIN981IN981&amp;ie=UTF-8&amp;tbm=isch&amp;q=harry+potter&amp;chips=q:harry+potter,g_1:gryffindor&amp;sa=X&amp;ved=0ahUKEwjzi-j-y7WAAxWfXGwGHUCCAV0Q4lYIFCgJ\">gryffindor</a></div><div><table class=\"GpQGbf\"><tr><td align=\"center\" class=\"e3goi\"><div class=\"mnTahd\"> <div> <div class=\"lIMUZd\"><div><table class=\"IkMU6e\"><tr><td><a href=\"/url?q=https://en.wikipedia.org/wiki/Harry_Potter_(character)&amp;sa=U&amp;ved=2ahUKEwjzi-j-y7WAAxWfXGwGHUCCAV0QqoUBegQIAhAB&amp;usg=AOvVaw1E2w13Go4QHCj8lFaP4yET\"><div class=\"NZWO1b\"><img alt=\"\" class=\"yWs4tf\" src=\"https://encrypted-tbn0.gstatic.com/images?q=tbn:ANd9GcS-TtlIgCdrIZYpDvZPV0BoUKzrjrfTl66p8wMl50aDmFFSkxu4x6ghi1yBsjY&amp;s\"/></div></a></td></tr><tr><td><a href=\"/url?q=https://en.wikipedia.org/wiki/Harry_Potter_(character)&amp;sa=U&amp;ved=2ahUKEwjzi-j-y7WAAxWfXGwGHUCCAV0Qr4kDegQIAhAC&amp;usg=AOvVaw1YYCS4vgMW1b0_y2hCptsT\"><div class=\"jB2rPd\"> <span class=\"qXLe6d x3G5ab\"> <span class=\"fYyStc\">Harry Potter (character) -...</span> </span> <span class=\"qXLe6d F9iS2e\"> <span class=\"fYyStc\">en.wikipedia.org</span> </span> </div></a></td></tr></table></div></div> </div> </div></td><td align=\"center\" class=\"e3goi\"><div class=\"mnTahd\"> <div> <div class=\"lIMUZd\"><div><table class=\"IkMU6e\"><tr><td><a href=\"/url?q=https://harrypotter.fandom.com/wiki/Harry_Potter&amp;sa=U&amp;ved=2ahUKEwjzi-j-y7WAAxWfXGwGHUCCAV0QqoUBegQIEhAB&amp;usg=AOvVaw0lh8__09rN5g2MpjN5yF2D\"><div class=\"NZWO1b\"><img alt=\"\" class=\"yWs4tf\" src=\"https://encrypted-tbn0.gstatic.com/images?q=tbn:ANd9GcRqflKGxMexjNUdRl6Jrb-P7qXSi2mMlxG7VqBsKFavNDkfdMlmuCKBChXUZ8k&amp;s\"/></div></a></td></tr><tr><td><a href=\"/url?q=https://harrypotter.fandom.com/wiki/Harry_Potter&amp;sa=U&amp;ved=2ahUKEwjzi-j-y7WAAxWfXGwGHUCCAV0Qr4kDegQIEhAC&amp;usg=AOvVaw1kHomGRjtc2TFuc7A59brN\"><div class=\"jB2rPd\"> <span class=\"qXLe6d x3G5ab\"> <span class=\"fYyStc\">Harry Potter | Harry Potter...</span> </span> <span class=\"qXLe6d F9iS2e\"> <span class=\"fYyStc\">harrypotter.fandom.com</span> </span> </div></a></td></tr></table></div></div> </div> </div></td><td align=\"center\" class=\"e3goi\"><div class=\"mnTahd\"> <div> <div class=\"lIMUZd\"><div><table class=\"IkMU6e\"><tr><td><a href=\"/url?q=https://www.imdb.com/title/tt1201607/&amp;sa=U&amp;ved=2ahUKEwjzi-j-y7WAAxWfXGwGHUCCAV0QqoUBegQIExAB&amp;usg=AOvVaw2D5aIhcIDBQrA7DGhspBjh\"><div class=\"NZWO1b\"><img alt=\"\" class=\"yWs4tf\" src=\"https://encrypted-tbn0.gstatic.com/images?q=tbn:ANd9GcR2J6UhwGez9yK6Fl39iwTiDsxEyr0dsSCtzgxef-IQFNai24uFBnnjC4m6Zg&amp;s\"/></div></a></td></tr><tr><td><a href=\"/url?q=https://www.imdb.com/title/tt1201607/&amp;sa=U&amp;ved=2ahUKEwjzi-j-y7WAAxWfXGwGHUCCAV0Qr4kDegQIExAC&amp;usg=AOvVaw1ZgprVq9xWGCN1RRFBT0gO\"><div class=\"jB2rPd\"> <span class=\"qXLe6d x3G5ab\"> <span class=\"fYyStc\">Harry Potter and the...</span> </span> <span class=\"qXLe6d F9iS2e\"> <span class=\"fYyStc\">www.imdb.com</span> </span> </div></a></td></tr></table></div></div> </div> </div></td><td align=\"center\" class=\"e3goi\"><div class=\"mnTahd\"> <div> <div class=\"lIMUZd\"><div><table class=\"IkMU6e\"><tr><td><a href=\"/url?q=https://www.britannica.com/topic/Harry-Potter&amp;sa=U&amp;ved=2ahUKEwjzi-j-y7WAAxWfXGwGHUCCAV0QqoUBegQIDxAB&amp;usg=AOvVaw3zfJPVVvMfgAh13NiTEXqt\"><div class=\"NZWO1b\"><img alt=\"\" class=\"yWs4tf\" src=\"https://encrypted-tbn0.gstatic.com/images?q=tbn:ANd9GcSD6jUuiKr1L292c6jkSdzFVq-NJ6TjLQKlteJCyYD2YpCY_kMFR10pZ1mlyec&amp;s\"/></div></a></td></tr><tr><td><a href=\"/url?q=https://www.britannica.com/topic/Harry-Potter&amp;sa=U&amp;ved=2ahUKEwjzi-j-y7WAAxWfXGwGHUCCAV0Qr4kDegQIDxAC&amp;usg=AOvVaw2gtIauo-EDVbcZ4ERxj60X\"><div class=\"jB2rPd\"> <span class=\"qXLe6d x3G5ab\"> <span class=\"fYyStc\">Harry Potter | Character,...</span> </span> <span class=\"qXLe6d F9iS2e\"> <span class=\"fYyStc\">www.britannica.com</span> </span> </div></a></td></tr></table></div></div> </div> </div></td></tr><tr><td align=\"center\" class=\"e3goi\"><div class=\"mnTahd\"> <div> <div class=\"lIMUZd\"><div><table class=\"IkMU6e\"><tr><td><a href=\"/url?q=https://www.youtube.com/%40harrypotter&amp;sa=U&amp;ved=2ahUKEwjzi-j-y7WAAxWfXGwGHUCCAV0QqoUBegQIERAB&amp;usg=AOvVaw3n1lt6W-JAc4D97yY1ETj-\"><div class=\"NZWO1b\"><img alt=\"\" class=\"yWs4tf\" src=\"https://encrypted-tbn0.gstatic.com/images?q=tbn:ANd9GcSFAQ6Oh1iJqevmgNzdxvOCBeB7vqu_K6hmIPOtKMHR0BL_Q_m5sv4msMKxpA&amp;s\"/></div></a></td></tr><tr><td><a href=\"/url?q=https://www.youtube.com/%40harrypotter&amp;sa=U&amp;ved=2ahUKEwjzi-j-y7WAAxWfXGwGHUCCAV0Qr4kDegQIERAC&amp;usg=AOvVaw0r-2kJvI2LoBp_cbQPU1ZM\"><div class=\"jB2rPd\"> <span class=\"qXLe6d x3G5ab\"> <span class=\"fYyStc\">OpY0Lk- ...</span> </span> <span class=\"qXLe6d F9iS2e\"> <span class=\"fYyStc\">www.youtube.com</span> </span> </div></a></td></tr></table></div></div> </div> </div></td><td align=\"center\" class=\"e3goi\"><div class=\"mnTahd\"> <div> <div class=\"lIMUZd\"><div><table class=\"IkMU6e\"><tr><td><a href=\"/url?q=https://www.imdb.com/title/tt0241527/&amp;sa=U&amp;ved=2ahUKEwjzi-j-y7WAAxWfXGwGHUCCAV0QqoUBegQIDhAB&amp;usg=AOvVaw2qjDeTNjg2CKDQuIgQxLuG\"><div class=\"NZWO1b\"><img alt=\"\" class=\"yWs4tf\" src=\"https://encrypted-tbn0.gstatic.com/images?q=tbn:ANd9GcQ1X9lk1goRRFEqPNcoF-azAxNavN21VVQW7iOp0YF32ApLnMYio-I717ETBQ&amp;s\"/></div></a></td></tr><tr><td><a href=\"/url?q=https://www.imdb.com/title/tt0241527/&amp;sa=U&amp;ved=2ahUKEwjzi-j-y7WAAxWfXGwGHUCCAV0Qr4kDegQIDhAC&amp;usg=AOvVaw2Nwo0APf70RUFXQxCVp8cH\"><div class=\"jB2rPd\"> <span class=\"qXLe6d x3G5ab\"> <span class=\"fYyStc\">Harry Potter and the...</span> </span> <span class=\"qXLe6d F9iS2e\"> <span class=\"fYyStc\">www.imdb.com</span> </span> </div></a></td></tr></table></div></div> </div> </div></td><td align=\"center\" class=\"e3goi\"><div class=\"mnTahd\"> <div> <div class=\"lIMUZd\"><div><table class=\"IkMU6e\"><tr><td><a href=\"/url?q=https://en.wikipedia.org/wiki/Harry_Potter&amp;sa=U&amp;ved=2ahUKEwjzi-j-y7WAAxWfXGwGHUCCAV0QqoUBegQIEBAB&amp;usg=AOvVaw0Ft2huGLsoux5xY_1CjrAj\"><div class=\"NZWO1b\"><img alt=\"\" class=\"yWs4tf\" src=\"https://encrypted-tbn0.gstatic.com/images?q=tbn:ANd9GcSvS3EGq8JBl6LSPK6MZC1y0T8Hz73x6dkW8kAwUMKcyg4UyDo47k-SX_YTcj8&amp;s\"/></div></a></td></tr><tr><td><a href=\"/url?q=https://en.wikipedia.org/wiki/Harry_Potter&amp;sa=U&amp;ved=2ahUKEwjzi-j-y7WAAxWfXGwGHUCCAV0Qr4kDegQIEBAC&amp;usg=AOvVaw2DDQHs5zIa15wN_Jbnq8CN\"><div class=\"jB2rPd\"> <span class=\"qXLe6d x3G5ab\"> <span class=\"fYyStc\">Harry Potter - Wikipedia</span> </span> <span class=\"qXLe6d F9iS2e\"> <span class=\"fYyStc\">en.wikipedia.org</span> </span> </div></a></td></tr></table></div></div> </div> </div></td><td align=\"center\" class=\"e3goi\"><div class=\"mnTahd\"> <div> <div class=\"lIMUZd\"><div><table class=\"IkMU6e\"><tr><td><a href=\"/url?q=https://www.independent.co.uk/arts-entertainment/tv/features/harry-potter-tv-series-hbo-max-release-date-b2318822.html&amp;sa=U&amp;ved=2ahUKEwjzi-j-y7WAAxWfXGwGHUCCAV0QqoUBegQIDBAB&amp;usg=AOvVaw21LGJgNwXcMtIucvcyR7Mn\"><div class=\"NZWO1b\"><img alt=\"\" class=\"yWs4tf\" src=\"https://encrypted-tbn0.gstatic.com/images?q=tbn:ANd9GcQzS1FcQ2BgjkNRDNjCpQv_aDh0Fb6iYhr_BVMe1ZHlb6qIz2FCd76_9TXwdBc&amp;s\"/></div></a></td></tr><tr><td><a href=\"/url?q=https://www.independent.co.uk/arts-entertainment/tv/features/harry-potter-tv-series-hbo-max-release-date-b2318822.html&amp;sa=U&amp;ved=2ahUKEwjzi-j-y7WAAxWfXGwGHUCCAV0Qr4kDegQIDBAC&amp;usg=AOvVaw1XrI5UFGn7XFDdV1taRJkm\"><div class=\"jB2rPd\"> <span class=\"qXLe6d x3G5ab\"> <span class=\"fYyStc\">Harry Potter TV series: Why...</span> </span> <span class=\"qXLe6d F9iS2e\"> <span class=\"fYyStc\">www.independent.co.uk</span> </span> </div></a></td></tr></table></div></div> </div> </div></td></tr><tr><td align=\"center\" class=\"e3goi\"><div class=\"mnTahd\"> <div> <div class=\"lIMUZd\"><div><table class=\"IkMU6e\"><tr><td><a href=\"/url?q=https://www.oprahdaily.com/entertainment/a32598018/harry-potter-spells-list/&amp;sa=U&amp;ved=2ahUKEwjzi-j-y7WAAxWfXGwGHUCCAV0QqoUBegQIDRAB&amp;usg=AOvVaw1tg-btG0hw2eSRsyOHx05E\"><div class=\"NZWO1b\"><img alt=\"\" class=\"yWs4tf\" src=\"https://encrypted-tbn0.gstatic.com/images?q=tbn:ANd9GcSvELYBhVgmGysEbPTCtzAJbQwzJAY0OGepH_bXDh2ldUSvfXJdYPnoAKXKmzk&amp;s\"/></div></a></td></tr><tr><td><a href=\"/url?q=https://www.oprahdaily.com/entertainment/a32598018/harry-potter-spells-list/&amp;sa=U&amp;ved=2ahUKEwjzi-j-y7WAAxWfXGwGHUCCAV0Qr4kDegQIDRAC&amp;usg=AOvVaw3EyQsum5hwZvgs_289sPGz\"><div class=\"jB2rPd\"> <span class=\"qXLe6d x3G5ab\"> <span class=\"fYyStc\">Harry Potter Spells List —...</span> </span> <span class=\"qXLe6d F9iS2e\"> <span class=\"fYyStc\">www.oprahdaily.com</span> </span> </div></a></td></tr></table></div></div> </div> </div></td><td align=\"center\" class=\"e3goi\"><div class=\"mnTahd\"> <div> <div class=\"lIMUZd\"><div><table class=\"IkMU6e\"><tr><td><a href=\"/url?q=https://www.polygon.com/23668971/harry-potter-reboot-hbo-series-tv&amp;sa=U&amp;ved=2ahUKEwjzi-j-y7WAAxWfXGwGHUCCAV0QqoUBegQICxAB&amp;usg=AOvVaw1VMyjT_8g2XEGgWQ_99gRf\"><div class=\"NZWO1b\"><img alt=\"\" class=\"yWs4tf\" src=\"https://encrypted-tbn0.gstatic.com/images?q=tbn:ANd9GcQL6JnpXN44golgbpJVnLbRGLye_U5KemtVQJE1CMH9SfZ50GxH11R2eKVtCg&amp;s\"/></div></a></td></tr><tr><td><a href=\"/url?q=https://www.polygon.com/23668971/harry-potter-reboot-hbo-series-tv&amp;sa=U&amp;ved=2ahUKEwjzi-j-y7WAAxWfXGwGHUCCAV0Qr4kDegQICxAC&amp;usg=AOvVaw3g4VYSeITgElq1IyRcyKMo\"><div class=\"jB2rPd\"> <span class=\"qXLe6d x3G5ab\"> <span class=\"fYyStc\">Harry Potter reboot...</span> </span> <span class=\"qXLe6d F9iS2e\"> <span class=\"fYyStc\">www.polygon.com</span> </span> </div></a></td></tr></table></div></div> </div> </div></td><td align=\"center\" class=\"e3goi\"><div class=\"mnTahd\"> <div> <div class=\"lIMUZd\"><div><table class=\"IkMU6e\"><tr><td><a href=\"/url?q=https://www.wizardingworld.com/features/harry-potter-book-character-descriptions-versus-how-they-looked-in-the-films&amp;sa=U&amp;ved=2ahUKEwjzi-j-y7WAAxWfXGwGHUCCAV0QqoUBegQICRAB&amp;usg=AOvVaw3vWZ--n79wp0iisP8H7wAL\"><div class=\"NZWO1b\"><img alt=\"\" class=\"yWs4tf\" src=\"https://encrypted-tbn0.gstatic.com/images?q=tbn:ANd9GcRq34sOmr3aENOHcWvmueYuy_DgeoHu-tuiHoQSYTnP5oVK7Uc6-NmLvEtGXYQ&amp;s\"/></div></a></td></tr><tr><td><a href=\"/url?q=https://www.wizardingworld.com/features/harry-potter-book-character-descriptions-versus-how-they-looked-in-the-films&amp;sa=U&amp;ved=2ahUKEwjzi-j-y7WAAxWfXGwGHUCCAV0Qr4kDegQICRAC&amp;usg=AOvVaw2rH3QJbts4oDrRuQxDmkgD\"><div class=\"jB2rPd\"> <span class=\"qXLe6d x3G5ab\"> <span class=\"fYyStc\">Harry Potter Characters:...</span> </span> <span class=\"qXLe6d F9iS2e\"> <span class=\"fYyStc\">www.wizardingworld.com</span> </span> </div></a></td></tr></table></div></div> </div> </div></td><td align=\"center\" class=\"e3goi\"><div class=\"mnTahd\"> <div> <div class=\"lIMUZd\"><div><table class=\"IkMU6e\"><tr><td><a href=\"/url?q=https://www.independent.co.uk/arts-entertainment/books/news/everything-extra-jk-rowling-has-revealed-about-harry-potter-10486083.html&amp;sa=U&amp;ved=2ahUKEwjzi-j-y7WAAxWfXGwGHUCCAV0QqoUBegQIChAB&amp;usg=AOvVaw0LsUrN5Lx5lynbU6aXcFBA\"><div class=\"NZWO1b\"><img alt=\"\" class=\"yWs4tf\" src=\"https://encrypted-tbn0.gstatic.com/images?q=tbn:ANd9GcS5N9Y-9NK9v9Hm0GsKWGcj6gHmyXZgvCtcUWjnJK36JpcOY1_96ZwJECTAgg&amp;s\"/></div></a></td></tr><tr><td><a href=\"/url?q=https://www.independent.co.uk/arts-entertainment/books/news/everything-extra-jk-rowling-has-revealed-about-harry-potter-10486083.html&amp;sa=U&amp;ved=2ahUKEwjzi-j-y7WAAxWfXGwGHUCCAV0Qr4kDegQIChAC&amp;usg=AOvVaw34zhGiB8a5DCSlCuaTVJiZ\"><div class=\"jB2rPd\"> <span class=\"qXLe6d x3G5ab\"> <span class=\"fYyStc\">Everything extra JK Rowling...</span> </span> <span class=\"qXLe6d F9iS2e\"> <span class=\"fYyStc\">www.independent.co.uk</span> </span> </div></a></td></tr></table></div></div> </div> </div></td></tr><tr><td align=\"center\" class=\"e3goi\"><div class=\"mnTahd\"> <div> <div class=\"lIMUZd\"><div><table class=\"IkMU6e\"><tr><td><a href=\"/url?q=https://www.vogue.in/culture-and-living/content/9-facts-about-the-harry-potter-franchise-every-potterhead-needs-to-know&amp;sa=U&amp;ved=2ahUKEwjzi-j-y7WAAxWfXGwGHUCCAV0QqoUBegQICBAB&amp;usg=AOvVaw2ZkagJhLTAHcRsFwl1fqvr\"><div class=\"NZWO1b\"><img alt=\"\" class=\"yWs4tf\" src=\"https://encrypted-tbn0.gstatic.com/images?q=tbn:ANd9GcRnGv2YOW_bNzoNbTrg10DyOBJW1jkssdpv_qZ8zRX4GirfEqPort3F31UQcLU&amp;s\"/></div></a></td></tr><tr><td><a href=\"/url?q=https://www.vogue.in/culture-and-living/content/9-facts-about-the-harry-potter-franchise-every-potterhead-needs-to-know&amp;sa=U&amp;ved=2ahUKEwjzi-j-y7WAAxWfXGwGHUCCAV0Qr4kDegQICBAC&amp;usg=AOvVaw3aXGHiWlWHbTZyyZ8gcGp0\"><div class=\"jB2rPd\"> <span class=\"qXLe6d x3G5ab\"> <span class=\"fYyStc\">9 facts about the Harry...</span> </span> <span class=\"qXLe6d F9iS2e\"> <span class=\"fYyStc\">www.vogue.in</span> </span> </div></a></td></tr></table></div></div> </div> </div></td><td align=\"center\" class=\"e3goi\"><div class=\"mnTahd\"> <div> <div class=\"lIMUZd\"><div><table class=\"IkMU6e\"><tr><td><a href=\"/url?q=https://www.techradar.com/how-to/how-to-watch-the-harry-potter-movies-in-order&amp;sa=U&amp;ved=2ahUKEwjzi-j-y7WAAxWfXGwGHUCCAV0QqoUBegQIBhAB&amp;usg=AOvVaw0raJgdizGtXkkkHnzNbg05\"><div class=\"NZWO1b\"><img alt=\"\" class=\"yWs4tf\" src=\"https://encrypted-tbn0.gstatic.com/images?q=tbn:ANd9GcSacD-MQxOjECntxFyoU4KYH9IjxM6gdK5nQ_-xTFyDhtoIox9M2Ze7LCXK7Q&amp;s\"/></div></a></td></tr><tr><td><a href=\"/url?q=https://www.techradar.com/how-to/how-to-watch-the-harry-potter-movies-in-order&amp;sa=U&amp;ved=2ahUKEwjzi-j-y7WAAxWfXGwGHUCCAV0Qr4kDegQIBhAC&amp;usg=AOvVaw10ss7p5YoYDwVd-lilopzp\"><div class=\"jB2rPd\"> <span class=\"qXLe6d x3G5ab\"> <span class=\"fYyStc\">How to watch the Harry...</span> </span> <span class=\"qXLe6d F9iS2e\"> <span class=\"fYyStc\">www.techradar.com</span> </span> </div></a></td></tr></table></div></div> </div> </div></td><td align=\"center\" class=\"e3goi\"><div class=\"mnTahd\"> <div> <div class=\"lIMUZd\"><div><table class=\"IkMU6e\"><tr><td><a href=\"/url?q=https://ahaslides.com/features/spinner-wheel/harry-potter-generator/&amp;sa=U&amp;ved=2ahUKEwjzi-j-y7WAAxWfXGwGHUCCAV0QqoUBegQIBxAB&amp;usg=AOvVaw0PfDmWlZBx80j2GAvZSI13\"><div class=\"NZWO1b\"><img alt=\"\" class=\"yWs4tf\" src=\"https://encrypted-tbn0.gstatic.com/images?q=tbn:ANd9GcRD4Nzgp7GDGpCmf38BlTN4pINl6THXtmz2tVH3zqWHkbrujpJp03sr3f4hUw&amp;s\"/></div></a></td></tr><tr><td><a href=\"/url?q=https://ahaslides.com/features/spinner-wheel/harry-potter-generator/&amp;sa=U&amp;ved=2ahUKEwjzi-j-y7WAAxWfXGwGHUCCAV0Qr4kDegQIBxAC&amp;usg=AOvVaw3nXzDar7_juTE6AAqmHOTq\"><div class=\"jB2rPd\"> <span class=\"qXLe6d x3G5ab\"> <span class=\"fYyStc\">Best Harry Potter Generator...</span> </span> <span class=\"qXLe6d F9iS2e\"> <span class=\"fYyStc\">ahaslides.com</span> </span> </div></a></td></tr></table></div></div> </div> </div></td><td align=\"center\" class=\"e3goi\"><div class=\"mnTahd\"> <div> <div class=\"lIMUZd\"><div><table class=\"IkMU6e\"><tr><td><a href=\"/url?q=https://www.imdb.com/title/tt0373889/&amp;sa=U&amp;ved=2ahUKEwjzi-j-y7WAAxWfXGwGHUCCAV0QqoUBegQIBBAB&amp;usg=AOvVaw2Kc8fZuEO20D2pl_dEM_kw\"><div class=\"NZWO1b\"><img alt=\"\" class=\"yWs4tf\" src=\"https://encrypted-tbn0.gstatic.com/images?q=tbn:ANd9GcQWQ1QLO9Y01n1hlHDTyiIpiUNPBFjH4irOrmwWse_mNu0VfA4-GhOVVosyxw&amp;s\"/></div></a></td></tr><tr><td><a href=\"/url?q=https://www.imdb.com/title/tt0373889/&amp;sa=U&amp;ved=2ahUKEwjzi-j-y7WAAxWfXGwGHUCCAV0Qr4kDegQIBBAC&amp;usg=AOvVaw3RW6buh2BhsqlHcBXuJ1ps\"><div class=\"jB2rPd\"> <span class=\"qXLe6d x3G5ab\"> <span class=\"fYyStc\">Harry Potter and the Order...</span> </span> <span class=\"qXLe6d F9iS2e\"> <span class=\"fYyStc\">www.imdb.com</span> </span> </div></a></td></tr></table></div></div> </div> </div></td></tr><tr><td align=\"center\" class=\"e3goi\"><div class=\"mnTahd\"> <div> <div class=\"lIMUZd\"><div><table class=\"IkMU6e\"><tr><td><a href=\"/url?q=https://thedirect.com/article/harry-potter-franchise-future-warner-bros&amp;sa=U&amp;ved=2ahUKEwjzi-j-y7WAAxWfXGwGHUCCAV0QqoUBegQIBRAB&amp;usg=AOvVaw0GXlnmriTAJucTfspNi_kc\"><div class=\"NZWO1b\"><img alt=\"\" class=\"yWs4tf\" src=\"https://encrypted-tbn0.gstatic.com/images?q=tbn:ANd9GcTcbIfOhh0BF8aRTNSHKAZqPBmAABslNtk-Nm6Iuc0KoyrX0F2ThrD25DlEiIo&amp;s\"/></div></a></td></tr><tr><td><a href=\"/url?q=https://thedirect.com/article/harry-potter-franchise-future-warner-bros&amp;sa=U&amp;ved=2ahUKEwjzi-j-y7WAAxWfXGwGHUCCAV0Qr4kDegQIBRAC&amp;usg=AOvVaw2ta7v3mGhs0pRrmzvawOvn\"><div class=\"jB2rPd\"> <span class=\"qXLe6d x3G5ab\"> <span class=\"fYyStc\">Harry Potter: Warner Bros....</span> </span> <span class=\"qXLe6d F9iS2e\"> <span class=\"fYyStc\">thedirect.com</span> </span> </div></a></td></tr></table></div></div> </div> </div></td><td align=\"center\" class=\"e3goi\"><div class=\"mnTahd\"> <div> <div class=\"lIMUZd\"><div><table class=\"IkMU6e\"><tr><td><a href=\"/url?q=https://www.marca.com/en/lifestyle/celebrities/2023/06/17/648dcf3d46163f60108b45f1.html&amp;sa=U&amp;ved=2ahUKEwjzi-j-y7WAAxWfXGwGHUCCAV0QqoUBegQIAxAB&amp;usg=AOvVaw36oKNPk-kSZBBGeihTWI2i\"><div class=\"NZWO1b\"><img alt=\"\" class=\"yWs4tf\" src=\"https://encrypted-tbn0.gstatic.com/images?q=tbn:ANd9GcRdS6b-z34xjprxbrSQwTy9fAea2O8KorOJX24tX_bbI00DY3Fgb4TIo_rFiqw&amp;s\"/></div></a></td></tr><tr><td><a href=\"/url?q=https://www.marca.com/en/lifestyle/celebrities/2023/06/17/648dcf3d46163f60108b45f1.html&amp;sa=U&amp;ved=2ahUKEwjzi-j-y7WAAxWfXGwGHUCCAV0Qr4kDegQIAxAC&amp;usg=AOvVaw23kdfvz9CzMzoP3GRMxuNn\"><div class=\"jB2rPd\"> <span class=\"qXLe6d x3G5ab\"> <span class=\"fYyStc\">Daniel Radcliffe reveals...</span> </span> <span class=\"qXLe6d F9iS2e\"> <span class=\"fYyStc\">www.marca.com</span> </span> </div></a></td></tr></table></div></div> </div> </div></td><td align=\"center\" class=\"e3goi\"><div class=\"mnTahd\"> <div> <div class=\"lIMUZd\"><div><table class=\"IkMU6e\"><tr><td><a href=\"/url?q=https://www.wionews.com/web-stories/entertainment/if-harry-potter-characters-were-indians-courtesy-artificial-intelligence-1687873011221&amp;sa=U&amp;ved=2ahUKEwjzi-j-y7WAAxWfXGwGHUCCAV0QqoUBegQIARAB&amp;usg=AOvVaw3zA-vxrD1OICcfzl5l9iPS\"><div class=\"NZWO1b\"><img alt=\"\" class=\"yWs4tf\" src=\"https://encrypted-tbn0.gstatic.com/images?q=tbn:ANd9GcRVjBGTRtWFGVuMJEffZl11cviWTQ7r2mpnr5mKl6H93T57DKW6TkfNQ_-MCSI&amp;s\"/></div></a></td></tr><tr><td><a href=\"/url?q=https://www.wionews.com/web-stories/entertainment/if-harry-potter-characters-were-indians-courtesy-artificial-intelligence-1687873011221&amp;sa=U&amp;ved=2ahUKEwjzi-j-y7WAAxWfXGwGHUCCAV0Qr4kDegQIARAC&amp;usg=AOvVaw0qKf0VKvr_tAUdQ4MDe2bJ\"><div class=\"jB2rPd\"> <span class=\"qXLe6d x3G5ab\"> <span class=\"fYyStc\">If Harry Potter Characters...</span> </span> <span class=\"qXLe6d F9iS2e\"> <span class=\"fYyStc\">www.wionews.com</span> </span> </div></a></td></tr></table></div></div> </div> </div></td><td align=\"center\" class=\"e3goi\"><div class=\"mnTahd\"> <div> <div class=\"lIMUZd\"><div><table class=\"IkMU6e\"><tr><td><a href=\"/url?q=https://www.radiotimes.com/movies/how-to-watch-harry-potter/&amp;sa=U&amp;ved=2ahUKEwjzi-j-y7WAAxWfXGwGHUCCAV0QqoUBegQIABAB&amp;usg=AOvVaw3nm868v4_6wP-JI-m90Pa8\"><div class=\"NZWO1b\"><img alt=\"\" class=\"yWs4tf\" src=\"https://encrypted-tbn0.gstatic.com/images?q=tbn:ANd9GcSvDTNE3upvAVSgj8YW_nLiYr7sNhfX_5zngUxSGyPq2VZ4jpQDMoe7DA59G8E&amp;s\"/></div></a></td></tr><tr><td><a href=\"/url?q=https://www.radiotimes.com/movies/how-to-watch-harry-potter/&amp;sa=U&amp;ved=2ahUKEwjzi-j-y7WAAxWfXGwGHUCCAV0Qr4kDegQIABAC&amp;usg=AOvVaw1SS4jw6R1qWJKUP6ZUzADL\"><div class=\"jB2rPd\"> <span class=\"qXLe6d x3G5ab\"> <span class=\"fYyStc\">Harry Potter movies in...</span> </span> <span class=\"qXLe6d F9iS2e\"> <span class=\"fYyStc\">www.radiotimes.com</span> </span> </div></a></td></tr></table></div></div> </div> </div></td></tr></table></div><table class=\"uZgmoc\"><tbody><td><a class=\"frGj1b\" href=\"/search?q=harry+potter&amp;bih=821&amp;biw=1440&amp;rlz=1C5CHFA_enIN981IN981&amp;ie=UTF-8&amp;tbm=isch&amp;ei=_ebFZLMZn7mx4w_AhIboBQ&amp;start=20&amp;sa=N\">Next &gt;</a></td></tbody></table><br/><div class=\"TuS8Ad\" data-ved=\"0ahUKEwjzi-j-y7WAAxWfXGwGHUCCAV0QpyoIUg\"><style>.VYM29{font-weight:bold}</style><div align=\"center\" class=\"HddGcc\"><span class=\"VYM29\">Sangli, Maharashtra</span><span> - </span><span>From your IP address</span><span> - </span><a href=\"/url?q=https://support.google.com/websearch%3Fp%3Dws_settings_location%26hl%3Den-IN&amp;sa=U&amp;ved=0ahUKEwjzi-j-y7WAAxWfXGwGHUCCAV0Qty4IUw&amp;usg=AOvVaw3sU5vDwdqR_4EuZmbIQezW\">Learn more</a></div><div align=\"center\"><a class=\"rEM8G\" href=\"/url?q=https://accounts.google.com/ServiceLogin%3Fcontinue%3Dhttps://www.google.com/search%253Fq%253Dharry%252Bpotter%2526tbm%253Disch%2526ved%253D2ahUKEwjG1vSQy7WAAxUr5zgGHY97DeQQ2-cCegQIABAA%2526oq%253Dharry%252Bpotter%2526gs_lcp%253DCgNpbWcQDFAAWABgAGgAcAB4AIABAIgBAJIBAJgBAKoBC2d3cy13aXotaW1n%2526sclient%253Dimg%2526ei%253DFubFZMbzH6vO4-EPj_e1oA4%2526bih%253D821%2526biw%253D1440%2526rlz%253D1C5CHFA_enIN981IN981%26hl%3Den&amp;sa=U&amp;ved=0ahUKEwjzi-j-y7WAAxWfXGwGHUCCAV0Qxs8CCFQ&amp;usg=AOvVaw29ZeWYpU_q6hIOaX4OCZWW\">Sign in</a></div><div><table class=\"bookcf\"><tbody class=\"InWNIe\"><tr><td><a class=\"rEM8G\" href=\"https://www.google.com/preferences?hl=en&amp;sa=X&amp;ved=0ahUKEwjzi-j-y7WAAxWfXGwGHUCCAV0Qv5YECFU\">Settings</a></td><td><a class=\"rEM8G\" href=\"https://www.google.com/intl/en_in/policies/privacy/\">Privacy</a></td><td><a class=\"rEM8G\" href=\"https://www.google.com/intl/en_in/policies/terms/\">Terms</a></td></tr></tbody></table></div></div><div> </div></body></html>"
      ]
     },
     "execution_count": 18,
     "metadata": {},
     "output_type": "execute_result"
    }
   ],
   "source": [
    "content"
   ]
  },
  {
   "cell_type": "code",
   "execution_count": 31,
   "id": "0ca529a3",
   "metadata": {},
   "outputs": [],
   "source": [
    "image_tag = content.find_all(\"img\")"
   ]
  },
  {
   "cell_type": "code",
   "execution_count": 33,
   "id": "9bd1b2cf",
   "metadata": {},
   "outputs": [
    {
     "data": {
      "text/plain": [
       "[<img alt=\"Google\" class=\"kgJEQe\" src=\"/images/branding/searchlogo/1x/googlelogo_desk_heirloom_color_150x55dp.gif\"/>,\n",
       " <img alt=\"\" class=\"yWs4tf\" src=\"https://encrypted-tbn0.gstatic.com/images?q=tbn:ANd9GcS-TtlIgCdrIZYpDvZPV0BoUKzrjrfTl66p8wMl50aDmFFSkxu4x6ghi1yBsjY&amp;s\"/>,\n",
       " <img alt=\"\" class=\"yWs4tf\" src=\"https://encrypted-tbn0.gstatic.com/images?q=tbn:ANd9GcRqflKGxMexjNUdRl6Jrb-P7qXSi2mMlxG7VqBsKFavNDkfdMlmuCKBChXUZ8k&amp;s\"/>,\n",
       " <img alt=\"\" class=\"yWs4tf\" src=\"https://encrypted-tbn0.gstatic.com/images?q=tbn:ANd9GcR2J6UhwGez9yK6Fl39iwTiDsxEyr0dsSCtzgxef-IQFNai24uFBnnjC4m6Zg&amp;s\"/>,\n",
       " <img alt=\"\" class=\"yWs4tf\" src=\"https://encrypted-tbn0.gstatic.com/images?q=tbn:ANd9GcSD6jUuiKr1L292c6jkSdzFVq-NJ6TjLQKlteJCyYD2YpCY_kMFR10pZ1mlyec&amp;s\"/>,\n",
       " <img alt=\"\" class=\"yWs4tf\" src=\"https://encrypted-tbn0.gstatic.com/images?q=tbn:ANd9GcSFAQ6Oh1iJqevmgNzdxvOCBeB7vqu_K6hmIPOtKMHR0BL_Q_m5sv4msMKxpA&amp;s\"/>,\n",
       " <img alt=\"\" class=\"yWs4tf\" src=\"https://encrypted-tbn0.gstatic.com/images?q=tbn:ANd9GcQ1X9lk1goRRFEqPNcoF-azAxNavN21VVQW7iOp0YF32ApLnMYio-I717ETBQ&amp;s\"/>,\n",
       " <img alt=\"\" class=\"yWs4tf\" src=\"https://encrypted-tbn0.gstatic.com/images?q=tbn:ANd9GcSvS3EGq8JBl6LSPK6MZC1y0T8Hz73x6dkW8kAwUMKcyg4UyDo47k-SX_YTcj8&amp;s\"/>,\n",
       " <img alt=\"\" class=\"yWs4tf\" src=\"https://encrypted-tbn0.gstatic.com/images?q=tbn:ANd9GcQzS1FcQ2BgjkNRDNjCpQv_aDh0Fb6iYhr_BVMe1ZHlb6qIz2FCd76_9TXwdBc&amp;s\"/>,\n",
       " <img alt=\"\" class=\"yWs4tf\" src=\"https://encrypted-tbn0.gstatic.com/images?q=tbn:ANd9GcSvELYBhVgmGysEbPTCtzAJbQwzJAY0OGepH_bXDh2ldUSvfXJdYPnoAKXKmzk&amp;s\"/>,\n",
       " <img alt=\"\" class=\"yWs4tf\" src=\"https://encrypted-tbn0.gstatic.com/images?q=tbn:ANd9GcQL6JnpXN44golgbpJVnLbRGLye_U5KemtVQJE1CMH9SfZ50GxH11R2eKVtCg&amp;s\"/>,\n",
       " <img alt=\"\" class=\"yWs4tf\" src=\"https://encrypted-tbn0.gstatic.com/images?q=tbn:ANd9GcRq34sOmr3aENOHcWvmueYuy_DgeoHu-tuiHoQSYTnP5oVK7Uc6-NmLvEtGXYQ&amp;s\"/>,\n",
       " <img alt=\"\" class=\"yWs4tf\" src=\"https://encrypted-tbn0.gstatic.com/images?q=tbn:ANd9GcS5N9Y-9NK9v9Hm0GsKWGcj6gHmyXZgvCtcUWjnJK36JpcOY1_96ZwJECTAgg&amp;s\"/>,\n",
       " <img alt=\"\" class=\"yWs4tf\" src=\"https://encrypted-tbn0.gstatic.com/images?q=tbn:ANd9GcRnGv2YOW_bNzoNbTrg10DyOBJW1jkssdpv_qZ8zRX4GirfEqPort3F31UQcLU&amp;s\"/>,\n",
       " <img alt=\"\" class=\"yWs4tf\" src=\"https://encrypted-tbn0.gstatic.com/images?q=tbn:ANd9GcSacD-MQxOjECntxFyoU4KYH9IjxM6gdK5nQ_-xTFyDhtoIox9M2Ze7LCXK7Q&amp;s\"/>,\n",
       " <img alt=\"\" class=\"yWs4tf\" src=\"https://encrypted-tbn0.gstatic.com/images?q=tbn:ANd9GcRD4Nzgp7GDGpCmf38BlTN4pINl6THXtmz2tVH3zqWHkbrujpJp03sr3f4hUw&amp;s\"/>,\n",
       " <img alt=\"\" class=\"yWs4tf\" src=\"https://encrypted-tbn0.gstatic.com/images?q=tbn:ANd9GcQWQ1QLO9Y01n1hlHDTyiIpiUNPBFjH4irOrmwWse_mNu0VfA4-GhOVVosyxw&amp;s\"/>,\n",
       " <img alt=\"\" class=\"yWs4tf\" src=\"https://encrypted-tbn0.gstatic.com/images?q=tbn:ANd9GcTcbIfOhh0BF8aRTNSHKAZqPBmAABslNtk-Nm6Iuc0KoyrX0F2ThrD25DlEiIo&amp;s\"/>,\n",
       " <img alt=\"\" class=\"yWs4tf\" src=\"https://encrypted-tbn0.gstatic.com/images?q=tbn:ANd9GcRdS6b-z34xjprxbrSQwTy9fAea2O8KorOJX24tX_bbI00DY3Fgb4TIo_rFiqw&amp;s\"/>,\n",
       " <img alt=\"\" class=\"yWs4tf\" src=\"https://encrypted-tbn0.gstatic.com/images?q=tbn:ANd9GcRVjBGTRtWFGVuMJEffZl11cviWTQ7r2mpnr5mKl6H93T57DKW6TkfNQ_-MCSI&amp;s\"/>,\n",
       " <img alt=\"\" class=\"yWs4tf\" src=\"https://encrypted-tbn0.gstatic.com/images?q=tbn:ANd9GcSvDTNE3upvAVSgj8YW_nLiYr7sNhfX_5zngUxSGyPq2VZ4jpQDMoe7DA59G8E&amp;s\"/>]"
      ]
     },
     "execution_count": 33,
     "metadata": {},
     "output_type": "execute_result"
    }
   ],
   "source": [
    "image_tag"
   ]
  },
  {
   "cell_type": "code",
   "execution_count": 38,
   "id": "b792d71e",
   "metadata": {},
   "outputs": [],
   "source": [
    "del image_tag[0]"
   ]
  },
  {
   "cell_type": "code",
   "execution_count": 39,
   "id": "8b8cf26d",
   "metadata": {},
   "outputs": [
    {
     "data": {
      "text/plain": [
       "[<img alt=\"\" class=\"yWs4tf\" src=\"https://encrypted-tbn0.gstatic.com/images?q=tbn:ANd9GcS-TtlIgCdrIZYpDvZPV0BoUKzrjrfTl66p8wMl50aDmFFSkxu4x6ghi1yBsjY&amp;s\"/>,\n",
       " <img alt=\"\" class=\"yWs4tf\" src=\"https://encrypted-tbn0.gstatic.com/images?q=tbn:ANd9GcRqflKGxMexjNUdRl6Jrb-P7qXSi2mMlxG7VqBsKFavNDkfdMlmuCKBChXUZ8k&amp;s\"/>,\n",
       " <img alt=\"\" class=\"yWs4tf\" src=\"https://encrypted-tbn0.gstatic.com/images?q=tbn:ANd9GcR2J6UhwGez9yK6Fl39iwTiDsxEyr0dsSCtzgxef-IQFNai24uFBnnjC4m6Zg&amp;s\"/>,\n",
       " <img alt=\"\" class=\"yWs4tf\" src=\"https://encrypted-tbn0.gstatic.com/images?q=tbn:ANd9GcSD6jUuiKr1L292c6jkSdzFVq-NJ6TjLQKlteJCyYD2YpCY_kMFR10pZ1mlyec&amp;s\"/>,\n",
       " <img alt=\"\" class=\"yWs4tf\" src=\"https://encrypted-tbn0.gstatic.com/images?q=tbn:ANd9GcSFAQ6Oh1iJqevmgNzdxvOCBeB7vqu_K6hmIPOtKMHR0BL_Q_m5sv4msMKxpA&amp;s\"/>,\n",
       " <img alt=\"\" class=\"yWs4tf\" src=\"https://encrypted-tbn0.gstatic.com/images?q=tbn:ANd9GcQ1X9lk1goRRFEqPNcoF-azAxNavN21VVQW7iOp0YF32ApLnMYio-I717ETBQ&amp;s\"/>,\n",
       " <img alt=\"\" class=\"yWs4tf\" src=\"https://encrypted-tbn0.gstatic.com/images?q=tbn:ANd9GcSvS3EGq8JBl6LSPK6MZC1y0T8Hz73x6dkW8kAwUMKcyg4UyDo47k-SX_YTcj8&amp;s\"/>,\n",
       " <img alt=\"\" class=\"yWs4tf\" src=\"https://encrypted-tbn0.gstatic.com/images?q=tbn:ANd9GcQzS1FcQ2BgjkNRDNjCpQv_aDh0Fb6iYhr_BVMe1ZHlb6qIz2FCd76_9TXwdBc&amp;s\"/>,\n",
       " <img alt=\"\" class=\"yWs4tf\" src=\"https://encrypted-tbn0.gstatic.com/images?q=tbn:ANd9GcSvELYBhVgmGysEbPTCtzAJbQwzJAY0OGepH_bXDh2ldUSvfXJdYPnoAKXKmzk&amp;s\"/>,\n",
       " <img alt=\"\" class=\"yWs4tf\" src=\"https://encrypted-tbn0.gstatic.com/images?q=tbn:ANd9GcQL6JnpXN44golgbpJVnLbRGLye_U5KemtVQJE1CMH9SfZ50GxH11R2eKVtCg&amp;s\"/>,\n",
       " <img alt=\"\" class=\"yWs4tf\" src=\"https://encrypted-tbn0.gstatic.com/images?q=tbn:ANd9GcRq34sOmr3aENOHcWvmueYuy_DgeoHu-tuiHoQSYTnP5oVK7Uc6-NmLvEtGXYQ&amp;s\"/>,\n",
       " <img alt=\"\" class=\"yWs4tf\" src=\"https://encrypted-tbn0.gstatic.com/images?q=tbn:ANd9GcS5N9Y-9NK9v9Hm0GsKWGcj6gHmyXZgvCtcUWjnJK36JpcOY1_96ZwJECTAgg&amp;s\"/>,\n",
       " <img alt=\"\" class=\"yWs4tf\" src=\"https://encrypted-tbn0.gstatic.com/images?q=tbn:ANd9GcRnGv2YOW_bNzoNbTrg10DyOBJW1jkssdpv_qZ8zRX4GirfEqPort3F31UQcLU&amp;s\"/>,\n",
       " <img alt=\"\" class=\"yWs4tf\" src=\"https://encrypted-tbn0.gstatic.com/images?q=tbn:ANd9GcSacD-MQxOjECntxFyoU4KYH9IjxM6gdK5nQ_-xTFyDhtoIox9M2Ze7LCXK7Q&amp;s\"/>,\n",
       " <img alt=\"\" class=\"yWs4tf\" src=\"https://encrypted-tbn0.gstatic.com/images?q=tbn:ANd9GcRD4Nzgp7GDGpCmf38BlTN4pINl6THXtmz2tVH3zqWHkbrujpJp03sr3f4hUw&amp;s\"/>,\n",
       " <img alt=\"\" class=\"yWs4tf\" src=\"https://encrypted-tbn0.gstatic.com/images?q=tbn:ANd9GcQWQ1QLO9Y01n1hlHDTyiIpiUNPBFjH4irOrmwWse_mNu0VfA4-GhOVVosyxw&amp;s\"/>,\n",
       " <img alt=\"\" class=\"yWs4tf\" src=\"https://encrypted-tbn0.gstatic.com/images?q=tbn:ANd9GcTcbIfOhh0BF8aRTNSHKAZqPBmAABslNtk-Nm6Iuc0KoyrX0F2ThrD25DlEiIo&amp;s\"/>,\n",
       " <img alt=\"\" class=\"yWs4tf\" src=\"https://encrypted-tbn0.gstatic.com/images?q=tbn:ANd9GcRdS6b-z34xjprxbrSQwTy9fAea2O8KorOJX24tX_bbI00DY3Fgb4TIo_rFiqw&amp;s\"/>,\n",
       " <img alt=\"\" class=\"yWs4tf\" src=\"https://encrypted-tbn0.gstatic.com/images?q=tbn:ANd9GcRVjBGTRtWFGVuMJEffZl11cviWTQ7r2mpnr5mKl6H93T57DKW6TkfNQ_-MCSI&amp;s\"/>,\n",
       " <img alt=\"\" class=\"yWs4tf\" src=\"https://encrypted-tbn0.gstatic.com/images?q=tbn:ANd9GcSvDTNE3upvAVSgj8YW_nLiYr7sNhfX_5zngUxSGyPq2VZ4jpQDMoe7DA59G8E&amp;s\"/>]"
      ]
     },
     "execution_count": 39,
     "metadata": {},
     "output_type": "execute_result"
    }
   ],
   "source": [
    "image_tag"
   ]
  },
  {
   "cell_type": "code",
   "execution_count": 40,
   "id": "71f67bbc",
   "metadata": {},
   "outputs": [
    {
     "data": {
      "text/plain": [
       "20"
      ]
     },
     "execution_count": 40,
     "metadata": {},
     "output_type": "execute_result"
    }
   ],
   "source": [
    "len(image_tag)"
   ]
  },
  {
   "cell_type": "markdown",
   "id": "e1ea8deb",
   "metadata": {},
   "source": [
    "### Getting Links"
   ]
  },
  {
   "cell_type": "code",
   "execution_count": 57,
   "id": "f7913c8d",
   "metadata": {},
   "outputs": [],
   "source": [
    "for i in image_tag:\n",
    "    img = i['src']\n",
    "    images = requests.get(img).content\n",
    "    with open(os.path.join(save_dir,f\"{query}_{image_tag.index(i)}.jpg\"),\"wb\") as f:\n",
    "              f.write(images)"
   ]
  },
  {
   "cell_type": "code",
   "execution_count": null,
   "id": "1efd95d4",
   "metadata": {},
   "outputs": [],
   "source": []
  }
 ],
 "metadata": {
  "kernelspec": {
   "display_name": "Python 3 (ipykernel)",
   "language": "python",
   "name": "python3"
  },
  "language_info": {
   "codemirror_mode": {
    "name": "ipython",
    "version": 3
   },
   "file_extension": ".py",
   "mimetype": "text/x-python",
   "name": "python",
   "nbconvert_exporter": "python",
   "pygments_lexer": "ipython3",
   "version": "3.10.6"
  }
 },
 "nbformat": 4,
 "nbformat_minor": 5
}
