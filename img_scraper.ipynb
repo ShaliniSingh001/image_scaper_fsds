{
 "cells": [
  {
   "cell_type": "code",
   "execution_count": 1,
   "id": "831a0c30",
   "metadata": {},
   "outputs": [],
   "source": [
    "import requests\n",
    "import logging\n",
    "import os \n",
    "from bs4 import BeautifulSoup\n",
    "from urllib.request import urlopen"
   ]
  },
  {
   "cell_type": "code",
   "execution_count": 2,
   "id": "33444e85",
   "metadata": {},
   "outputs": [],
   "source": [
    "save_dir = \"images/\"\n",
    "if not os.path.exists(save_dir):\n",
    "    os.makedirs(save_dir)"
   ]
  },
  {
   "cell_type": "code",
   "execution_count": 3,
   "id": "18f9d42a",
   "metadata": {},
   "outputs": [],
   "source": [
    "query=\"narendra modi\"\n",
    "#url=https://www.google.com/search?rlz=1C1VDKB_enIN1000IN1000&q={query}&tbm=isch&source=lnms&sa=X&ved=2ahUKEwjHmuSdhMaAAxVXl1YBHcyyB94Q0pQJegQIDBAB&biw=1242&bih=592&dpr=1.1"
   ]
  },
  {
   "cell_type": "code",
   "execution_count": 4,
   "id": "ba4fa069",
   "metadata": {},
   "outputs": [],
   "source": [
    "response=requests.get(f\"https://www.google.com/search?rlz=1C1VDKB_enIN1000IN1000&q={query}&tbm=isch&source=lnms&sa=X&ved=2ahUKEwjHmuSdhMaAAxVXl1YBHcyyB94Q0pQJegQIDBAB&biw=1242&bih=592&dpr=1.1\")"
   ]
  },
  {
   "cell_type": "code",
   "execution_count": 5,
   "id": "1bcee89e",
   "metadata": {},
   "outputs": [
    {
     "data": {
      "text/plain": [
       "<Response [200]>"
      ]
     },
     "execution_count": 5,
     "metadata": {},
     "output_type": "execute_result"
    }
   ],
   "source": [
    "response"
   ]
  },
  {
   "cell_type": "code",
   "execution_count": 6,
   "id": "1310419d",
   "metadata": {},
   "outputs": [],
   "source": [
    "soup = BeautifulSoup(response.content, \"html.parser\")"
   ]
  },
  {
   "cell_type": "code",
   "execution_count": 7,
   "id": "74b40722",
   "metadata": {},
   "outputs": [
    {
     "data": {
      "text/plain": [
       "<!DOCTYPE html PUBLIC \"-//WAPFORUM//DTD XHTML Mobile 1.0//EN\" \"http://www.wapforum.org/DTD/xhtml-mobile10.dtd\">\n",
       "<html lang=\"en-IN\" xmlns=\"http://www.w3.org/1999/xhtml\"><head><meta content=\"application/xhtml+xml; charset=utf-8\" http-equiv=\"Content-Type\"/><meta content=\"no-cache\" name=\"Cache-Control\"/><title>narendra modi - Google Search</title><style>a{text-decoration:none;color:inherit}a:hover{text-decoration:underline}a img{border:0}body{font-family:arial,sans-serif;padding:8px;margin:0 auto;max-width:700px;min-width:240px;}.FbhRzb{border-left:thin solid #dadce0;border-right:thin solid #dadce0;border-top:thin solid #dadce0;height:40px;overflow:hidden}.n692Zd{margin-bottom:10px}.cvifge{height:40px;border-spacing:0}.QvGUP{height:40px;padding:0 8px 0 8px;vertical-align:top}.O4cRJf{height:40px;width:100%;padding:0;padding-right:16px}.O1ePr{height:40px;padding:0;vertical-align:top}.kgJEQe{height:36px;width:98px;vertical-align:top;margin-top:4px}.lXLRf{vertical-align:top}.MhzMZd{border:0;vertical-align:middle;font-size:14px;height:40px;padding:0;width:100%;padding-left:16px}.xB0fq{height:40px;border:none;font-size:14px;background-color:#1a73e8;color:#fff;padding:0 16px;margin:0;vertical-align:top;cursor:pointer}.xB0fq:focus{border:1px solid #1a73e8}.M7pB2{border:thin solid #dadce0;margin:0 0 3px 0;font-size:13px;font-weight:500;height:40px}.euZec{width:100%;height:40px;text-align:center;border-spacing:0}table.euZec td{padding:0;width:25%}.QIqI7{display:inline-block;padding-top:4px;font-weight:bold;color:#4285f4}.EY24We{border-bottom:2px solid #4285f4}.CsQyDc{display:inline-block;color:#70757a}.TuS8Ad{font-size:14px}.HddGcc{padding:8px;color:#70757a}.dzp8ae{font-weight:bold;color:#3c4043}.rEM8G{color:#70757a}.bookcf{table-layout:fixed;width:100%;border-spacing:0}.InWNIe{text-align:center}.uZgmoc{border:thin solid #dadce0;color:#70757a;font-size:14px;text-align:center;table-layout:fixed;width:100%}.frGj1b{display:block;padding:12px 0 12px 0;width:100%}.BnJWBc{text-align:center;padding:6px 0 13px 0;height:35px}.e3goi{vertical-align:top;padding:0;height:180px}.GpQGbf{margin:auto;border-collapse:collapse;border-spacing:0;width:100%}</style></head><body><style>.X6ZCif{color:#202124;font-size:11px;line-height:16px;display:inline-block;padding-top:2px;overflow:hidden;padding-bottom:4px;width:100%}.TwVfHd{border-radius:16px;border:thin solid #dadce0;display:inline-block;padding:8px 8px;margin-right:8px;margin-bottom:4px}.yekiAe{background-color:#dadce0}.mnTahd{width:100%}.ezO2md{border:thin solid #dadce0;padding:12px 16px 12px 16px;margin-bottom:10px;font-family:arial,sans-serif}.lIMUZd{font-family:arial,sans-serif}.IkMU6e{border-spacing:0}.SjCsie{width:100%}.EnarA{text-align:center}.NZWO1b{width:162px;height:140px;line-height:140px;overflow:'hidden';text-align:center}.yWs4tf{text-align:center;margin:auto;vertical-align:middle;max-width:162px;max-height:140px}.jB2rPd{padding-top:2px;padding-bottom:8px;}.fYyStc{word-break:break-word}.ynsChf{display:block;white-space:nowrap;overflow:hidden;text-overflow:ellipsis}.Fj3V3b{color:#1967d2;font-size:14px;line-height:20px}.FrIlee{color:#202124;font-size:11px;line-height:16px}.F9iS2e{color:#70757a;font-size:11px;line-height:16px}.WMQ2Le{color:#70757a;font-size:12px;line-height:16px}.x3G5ab{color:#202124;font-size:12px;line-height:16px}.fuLhoc{color:#1967d2;font-size:16px;line-height:20px}.epoveb{font-size:24px;line-height:28px;font-weight:400;color:#202124}.dXDvrc{color:#0d652d;font-size:14px;line-height:20px;word-wrap:break-word}.dloBPe{font-weight:bold}.YVIcad{color:#70757a}.JkVVdd{color:#ea4335}.oXZRFd{color:#ea4335}.MQHtg{color:#fbbc04}.pyMRrb{color:#1e8e3e}.EtTZid{color:#1e8e3e}.M3vVJe{color:#1967d2}.qXLe6d{display:block}.NHQNef{font-style:italic}.Cb8Z7c{white-space:pre}a.ZWRArf{text-decoration:none}a .CVA68e:hover{text-decoration:underline}</style><div class=\"n692Zd\"><div class=\"BnJWBc\"><a class=\"lXLRf\" href=\"/?sa=X&amp;rlz=1C1VDKB_enIN1000IN1000&amp;biw=1242&amp;bih=592&amp;output=images&amp;ie=UTF-8&amp;tbm=isch&amp;ved=0ahUKEwjAwZSwzceAAxVTzDgGHbthBpEQPAgC\"><img alt=\"Google\" class=\"kgJEQe\" src=\"/images/branding/searchlogo/1x/googlelogo_desk_heirloom_color_150x55dp.gif\"/></a></div><div class=\"FbhRzb\"><form action=\"/search\"><input name=\"rlz\" type=\"hidden\" value=\"1C1VDKB_enIN1000IN1000\"/><input name=\"biw\" type=\"hidden\" value=\"1242\"/><input name=\"bih\" type=\"hidden\" value=\"592\"/><input name=\"ie\" type=\"hidden\" value=\"ISO-8859-1\"/><input name=\"tbm\" type=\"hidden\" value=\"isch\"/><input name=\"oq\" type=\"hidden\"/><input name=\"aqs\" type=\"hidden\"/><table class=\"cvifge\"><tr><td class=\"O4cRJf\"><input class=\"MhzMZd\" name=\"q\" type=\"text\" value=\"narendra modi\"/></td><td class=\"O1ePr\"><input class=\"xB0fq\" type=\"submit\" value=\"Search\"/></td></tr></table></form></div><div class=\"M7pB2\"><table class=\"euZec\"><tbody><tr><td><a class=\"CsQyDc\" href=\"/search?q=narendra+modi&amp;rlz=1C1VDKB_enIN1000IN1000&amp;biw=1242&amp;bih=592&amp;ie=UTF-8&amp;source=lnms&amp;sa=X&amp;ved=0ahUKEwjAwZSwzceAAxVTzDgGHbthBpEQ_AUIBCgA\">ALL</a></td><td><a class=\"CsQyDc\" href=\"/search?q=narendra+modi&amp;rlz=1C1VDKB_enIN1000IN1000&amp;biw=1242&amp;bih=592&amp;ie=UTF-8&amp;tbm=nws&amp;source=lnms&amp;sa=X&amp;ved=0ahUKEwjAwZSwzceAAxVTzDgGHbthBpEQ_AUIBSgB\">NEWS</a></td><td class=\"EY24We\"><span class=\"QIqI7\">IMAGES</span></td><td><a class=\"CsQyDc\" href=\"/search?q=narendra+modi&amp;rlz=1C1VDKB_enIN1000IN1000&amp;biw=1242&amp;bih=592&amp;ie=UTF-8&amp;tbm=vid&amp;source=lnms&amp;sa=X&amp;ved=0ahUKEwjAwZSwzceAAxVTzDgGHbthBpEQ_AUIBygD\">VIDEOS</a></td></tr></tbody></table></div></div><div class=\"X6ZCif\"><a class=\"TwVfHd\" href=\"/search?rlz=1C1VDKB_enIN1000IN1000&amp;biw=1242&amp;bih=592&amp;ie=UTF-8&amp;tbm=isch&amp;q=narendra+modi&amp;chips=q:narendra+modi,g_1:wallpaper&amp;sa=X&amp;ved=0ahUKEwjAwZSwzceAAxVTzDgGHbthBpEQ4lYICygA\">wallpaper</a><a class=\"TwVfHd\" href=\"/search?rlz=1C1VDKB_enIN1000IN1000&amp;biw=1242&amp;bih=592&amp;ie=UTF-8&amp;tbm=isch&amp;q=narendra+modi&amp;chips=q:narendra+modi,g_1:prime+minister&amp;sa=X&amp;ved=0ahUKEwjAwZSwzceAAxVTzDgGHbthBpEQ4lYIDCgB\">prime minister</a><a class=\"TwVfHd\" href=\"/search?rlz=1C1VDKB_enIN1000IN1000&amp;biw=1242&amp;bih=592&amp;ie=UTF-8&amp;tbm=isch&amp;q=narendra+modi&amp;chips=q:narendra+modi,g_1:india&amp;sa=X&amp;ved=0ahUKEwjAwZSwzceAAxVTzDgGHbthBpEQ4lYIDSgC\">india</a><a class=\"TwVfHd\" href=\"/search?rlz=1C1VDKB_enIN1000IN1000&amp;biw=1242&amp;bih=592&amp;ie=UTF-8&amp;tbm=isch&amp;q=narendra+modi&amp;chips=q:narendra+modi,g_1:bjp&amp;sa=X&amp;ved=0ahUKEwjAwZSwzceAAxVTzDgGHbthBpEQ4lYIDigD\">bjp</a><a class=\"TwVfHd\" href=\"/search?rlz=1C1VDKB_enIN1000IN1000&amp;biw=1242&amp;bih=592&amp;ie=UTF-8&amp;tbm=isch&amp;q=narendra+modi&amp;chips=q:narendra+modi,g_1:drawing&amp;sa=X&amp;ved=0ahUKEwjAwZSwzceAAxVTzDgGHbthBpEQ4lYIDygE\">drawing</a><a class=\"TwVfHd\" href=\"/search?rlz=1C1VDKB_enIN1000IN1000&amp;biw=1242&amp;bih=592&amp;ie=UTF-8&amp;tbm=isch&amp;q=narendra+modi&amp;chips=q:narendra+modi,g_1:childhood&amp;sa=X&amp;ved=0ahUKEwjAwZSwzceAAxVTzDgGHbthBpEQ4lYIECgF\">childhood</a><a class=\"TwVfHd\" href=\"/search?rlz=1C1VDKB_enIN1000IN1000&amp;biw=1242&amp;bih=592&amp;ie=UTF-8&amp;tbm=isch&amp;q=narendra+modi&amp;chips=q:narendra+modi,g_1:house&amp;sa=X&amp;ved=0ahUKEwjAwZSwzceAAxVTzDgGHbthBpEQ4lYIESgG\">house</a><a class=\"TwVfHd\" href=\"/search?rlz=1C1VDKB_enIN1000IN1000&amp;biw=1242&amp;bih=592&amp;ie=UTF-8&amp;tbm=isch&amp;q=narendra+modi&amp;chips=q:narendra+modi,g_1:new&amp;sa=X&amp;ved=0ahUKEwjAwZSwzceAAxVTzDgGHbthBpEQ4lYIEigH\">new</a><a class=\"TwVfHd\" href=\"/search?rlz=1C1VDKB_enIN1000IN1000&amp;biw=1242&amp;bih=592&amp;ie=UTF-8&amp;tbm=isch&amp;q=narendra+modi&amp;chips=q:narendra+modi,g_1:independence+day&amp;sa=X&amp;ved=0ahUKEwjAwZSwzceAAxVTzDgGHbthBpEQ4lYIEygI\">independence day</a><a class=\"TwVfHd\" href=\"/search?rlz=1C1VDKB_enIN1000IN1000&amp;biw=1242&amp;bih=592&amp;ie=UTF-8&amp;tbm=isch&amp;q=narendra+modi&amp;chips=q:narendra+modi,g_1:painting&amp;sa=X&amp;ved=0ahUKEwjAwZSwzceAAxVTzDgGHbthBpEQ4lYIFCgJ\">painting</a></div><div><table class=\"GpQGbf\"><tr><td align=\"center\" class=\"e3goi\"><div class=\"mnTahd\"> <div> <div class=\"lIMUZd\"><div><table class=\"IkMU6e\"><tr><td><a href=\"/url?q=https://www.facebook.com/narendramodi/&amp;sa=U&amp;ved=2ahUKEwjAwZSwzceAAxVTzDgGHbthBpEQqoUBegQIBhAB&amp;usg=AOvVaw12wIpmhunW0MxaKp5ogR02\"><div class=\"NZWO1b\"><img alt=\"\" class=\"yWs4tf\" src=\"https://encrypted-tbn0.gstatic.com/images?q=tbn:ANd9GcTFGlUyS3ZqZXLRt7IXbGmoqhXidS5X15852GtHhJzxDfMiLZpHWsNUJngHwT4&amp;s\"/></div></a></td></tr><tr><td><a href=\"/url?q=https://www.facebook.com/narendramodi/&amp;sa=U&amp;ved=2ahUKEwjAwZSwzceAAxVTzDgGHbthBpEQr4kDegQIBhAC&amp;usg=AOvVaw2n4lgAwH4Ne2_CeduMKQDp\"><div class=\"jB2rPd\"> <span class=\"qXLe6d x3G5ab\"> <span class=\"fYyStc\">Narendra Modi</span> </span> <span class=\"qXLe6d F9iS2e\"> <span class=\"fYyStc\">www.facebook.com</span> </span> </div></a></td></tr></table></div></div> </div> </div></td><td align=\"center\" class=\"e3goi\"><div class=\"mnTahd\"> <div> <div class=\"lIMUZd\"><div><table class=\"IkMU6e\"><tr><td><a href=\"/url?q=https://en.wikipedia.org/wiki/Narendra_Modi&amp;sa=U&amp;ved=2ahUKEwjAwZSwzceAAxVTzDgGHbthBpEQqoUBegQIEhAB&amp;usg=AOvVaw1drmu6wBmutp4NPtM6Rutf\"><div class=\"NZWO1b\"><img alt=\"\" class=\"yWs4tf\" src=\"https://encrypted-tbn0.gstatic.com/images?q=tbn:ANd9GcTw7G48FnLNCO2gGjMABD7W_0PPI2v9HQts8jXdtqEomxahKG15PaUEOEo2H3U&amp;s\"/></div></a></td></tr><tr><td><a href=\"/url?q=https://en.wikipedia.org/wiki/Narendra_Modi&amp;sa=U&amp;ved=2ahUKEwjAwZSwzceAAxVTzDgGHbthBpEQr4kDegQIEhAC&amp;usg=AOvVaw1Vj3GFwPsYmX309-RM_aDU\"><div class=\"jB2rPd\"> <span class=\"qXLe6d x3G5ab\"> <span class=\"fYyStc\">Narendra Modi - Wikipedia</span> </span> <span class=\"qXLe6d F9iS2e\"> <span class=\"fYyStc\">en.wikipedia.org</span> </span> </div></a></td></tr></table></div></div> </div> </div></td><td align=\"center\" class=\"e3goi\"><div class=\"mnTahd\"> <div> <div class=\"lIMUZd\"><div><table class=\"IkMU6e\"><tr><td><a href=\"/url?q=https://www.deccanherald.com/national/west/pm-narendra-modi-to-lay-foundation-stone-for-15-stations-of-the-nagpur-division-on-august-6-1244033.html&amp;sa=U&amp;ved=2ahUKEwjAwZSwzceAAxVTzDgGHbthBpEQqoUBegQIExAB&amp;usg=AOvVaw0aZv24VNqLiT0BCZenNzr4\"><div class=\"NZWO1b\"><img alt=\"\" class=\"yWs4tf\" src=\"https://encrypted-tbn0.gstatic.com/images?q=tbn:ANd9GcRGGtCSKeJx76slvvhixRlXD2qYkncBLNxiu_BpAncLaiJgJ2ibKlG8Vl2-cF4&amp;s\"/></div></a></td></tr><tr><td><a href=\"/url?q=https://www.deccanherald.com/national/west/pm-narendra-modi-to-lay-foundation-stone-for-15-stations-of-the-nagpur-division-on-august-6-1244033.html&amp;sa=U&amp;ved=2ahUKEwjAwZSwzceAAxVTzDgGHbthBpEQr4kDegQIExAC&amp;usg=AOvVaw3DValKO_yaEde_tiAAIuxE\"><div class=\"jB2rPd\"> <span class=\"qXLe6d x3G5ab\"> <span class=\"fYyStc\">PM Narendra Modi to lay...</span> </span> <span class=\"qXLe6d F9iS2e\"> <span class=\"fYyStc\">www.deccanherald.com</span> </span> </div></a></td></tr></table></div></div> </div> </div></td><td align=\"center\" class=\"e3goi\"><div class=\"mnTahd\"> <div> <div class=\"lIMUZd\"><div><table class=\"IkMU6e\"><tr><td><a href=\"/url?q=https://www.pmindia.gov.in/&amp;sa=U&amp;ved=2ahUKEwjAwZSwzceAAxVTzDgGHbthBpEQqoUBegQIDRAB&amp;usg=AOvVaw2O_c7F9t5eri90xa-NTa5S\"><div class=\"NZWO1b\"><img alt=\"\" class=\"yWs4tf\" src=\"https://encrypted-tbn0.gstatic.com/images?q=tbn:ANd9GcSNUXeGpa7_ggJZpt66tB7idqe2_eLXhADuTxGT4c6kWqAaef7kRHhBk_Jrog&amp;s\"/></div></a></td></tr><tr><td><a href=\"/url?q=https://www.pmindia.gov.in/&amp;sa=U&amp;ved=2ahUKEwjAwZSwzceAAxVTzDgGHbthBpEQr4kDegQIDRAC&amp;usg=AOvVaw0f2-2xMZ7C40Y49mjjeNV0\"><div class=\"jB2rPd\"> <span class=\"qXLe6d x3G5ab\"> <span class=\"fYyStc\">Prime Minister of India</span> </span> <span class=\"qXLe6d F9iS2e\"> <span class=\"fYyStc\">www.pmindia.gov.in</span> </span> </div></a></td></tr></table></div></div> </div> </div></td></tr><tr><td align=\"center\" class=\"e3goi\"><div class=\"mnTahd\"> <div> <div class=\"lIMUZd\"><div><table class=\"IkMU6e\"><tr><td><a href=\"/url?q=https://www.thestatesman.com/india/from-an-ordinary-man-to-vikas-purush-narendra-modis-inspirational-journey-1503111918.html&amp;sa=U&amp;ved=2ahUKEwjAwZSwzceAAxVTzDgGHbthBpEQqoUBegQIChAB&amp;usg=AOvVaw22YEuvi-OqwjVT_kfeTCiJ\"><div class=\"NZWO1b\"><img alt=\"\" class=\"yWs4tf\" src=\"https://encrypted-tbn0.gstatic.com/images?q=tbn:ANd9GcTJQhVDWcv65kzjWZ1JY7_9c3Bv4eWzcsiTRmjfzf_jTLpsv6-TjLzgeWjRsZI&amp;s\"/></div></a></td></tr><tr><td><a href=\"/url?q=https://www.thestatesman.com/india/from-an-ordinary-man-to-vikas-purush-narendra-modis-inspirational-journey-1503111918.html&amp;sa=U&amp;ved=2ahUKEwjAwZSwzceAAxVTzDgGHbthBpEQr4kDegQIChAC&amp;usg=AOvVaw3CKGJMJP_Uz0M54MgLgjkn\"><div class=\"jB2rPd\"> <span class=\"qXLe6d x3G5ab\"> <span class=\"fYyStc\">From an ordinary man to...</span> </span> <span class=\"qXLe6d F9iS2e\"> <span class=\"fYyStc\">www.thestatesman.com</span> </span> </div></a></td></tr></table></div></div> </div> </div></td><td align=\"center\" class=\"e3goi\"><div class=\"mnTahd\"> <div> <div class=\"lIMUZd\"><div><table class=\"IkMU6e\"><tr><td><a href=\"/url?q=https://www.tribuneindia.com/news/nation/pm-modi-to-be-conferred-lokmanya-tilak-national-award-on-aug-1-in-pune-530414&amp;sa=U&amp;ved=2ahUKEwjAwZSwzceAAxVTzDgGHbthBpEQqoUBegQIDhAB&amp;usg=AOvVaw2rxUYAGVtGotn1b7baXbSL\"><div class=\"NZWO1b\"><img alt=\"\" class=\"yWs4tf\" src=\"https://encrypted-tbn0.gstatic.com/images?q=tbn:ANd9GcSDucabzWonNJC-YO7ic036E_5sOkhE5ZGiS0CuDO3hZ60SnbE-en6dWTxVaxg&amp;s\"/></div></a></td></tr><tr><td><a href=\"/url?q=https://www.tribuneindia.com/news/nation/pm-modi-to-be-conferred-lokmanya-tilak-national-award-on-aug-1-in-pune-530414&amp;sa=U&amp;ved=2ahUKEwjAwZSwzceAAxVTzDgGHbthBpEQr4kDegQIDhAC&amp;usg=AOvVaw1f_FGsxOdRkYMmFV-MfbQS\"><div class=\"jB2rPd\"> <span class=\"qXLe6d x3G5ab\"> <span class=\"fYyStc\">PM Modi to be conferred...</span> </span> <span class=\"qXLe6d F9iS2e\"> <span class=\"fYyStc\">www.tribuneindia.com</span> </span> </div></a></td></tr></table></div></div> </div> </div></td><td align=\"center\" class=\"e3goi\"><div class=\"mnTahd\"> <div> <div class=\"lIMUZd\"><div><table class=\"IkMU6e\"><tr><td><a href=\"/url?q=https://www.narendramodi.in/english-translation-of-the-address-by-prime-minister-shri-narendra-modi-at-the-opening-ceremony-of-brics-business-forum-2022-562688&amp;sa=U&amp;ved=2ahUKEwjAwZSwzceAAxVTzDgGHbthBpEQqoUBegQIDxAB&amp;usg=AOvVaw3vxxqGoE-El02CFXdNySft\"><div class=\"NZWO1b\"><img alt=\"\" class=\"yWs4tf\" src=\"https://encrypted-tbn0.gstatic.com/images?q=tbn:ANd9GcR-_cIaKSuCE2ZNfldj-s0ZSCk3pfa0EC1vbzrdkD-9VzHNUeteL0B2oVYWbw&amp;s\"/></div></a></td></tr><tr><td><a href=\"/url?q=https://www.narendramodi.in/english-translation-of-the-address-by-prime-minister-shri-narendra-modi-at-the-opening-ceremony-of-brics-business-forum-2022-562688&amp;sa=U&amp;ved=2ahUKEwjAwZSwzceAAxVTzDgGHbthBpEQr4kDegQIDxAC&amp;usg=AOvVaw1LLI82HDwEM7ZA1Od5tKLc\"><div class=\"jB2rPd\"> <span class=\"qXLe6d x3G5ab\"> <span class=\"fYyStc\">Transformative changes are...</span> </span> <span class=\"qXLe6d F9iS2e\"> <span class=\"fYyStc\">www.narendramodi.in</span> </span> </div></a></td></tr></table></div></div> </div> </div></td><td align=\"center\" class=\"e3goi\"><div class=\"mnTahd\"> <div> <div class=\"lIMUZd\"><div><table class=\"IkMU6e\"><tr><td><a href=\"/url?q=https://www.ndtv.com/india-news/on-muharram-pm-narendra-modi-pays-tribute-to-imam-hussain-recalls-his-sacrifices-4250347&amp;sa=U&amp;ved=2ahUKEwjAwZSwzceAAxVTzDgGHbthBpEQqoUBegQIEBAB&amp;usg=AOvVaw1GIYCCUyV2ik54Ah9tMHpv\"><div class=\"NZWO1b\"><img alt=\"\" class=\"yWs4tf\" src=\"https://encrypted-tbn0.gstatic.com/images?q=tbn:ANd9GcTfLkDGe7Uqs080og0NkJreCDMlF5DWxH3Fcog0ERHadLncA-Hym93VNi0TXw&amp;s\"/></div></a></td></tr><tr><td><a href=\"/url?q=https://www.ndtv.com/india-news/on-muharram-pm-narendra-modi-pays-tribute-to-imam-hussain-recalls-his-sacrifices-4250347&amp;sa=U&amp;ved=2ahUKEwjAwZSwzceAAxVTzDgGHbthBpEQr4kDegQIEBAC&amp;usg=AOvVaw25QM7jyuXPXPW6Llcf26jQ\"><div class=\"jB2rPd\"> <span class=\"qXLe6d x3G5ab\"> <span class=\"fYyStc\">On Muharram, PM Narendra...</span> </span> <span class=\"qXLe6d F9iS2e\"> <span class=\"fYyStc\">www.ndtv.com</span> </span> </div></a></td></tr></table></div></div> </div> </div></td></tr><tr><td align=\"center\" class=\"e3goi\"><div class=\"mnTahd\"> <div> <div class=\"lIMUZd\"><div><table class=\"IkMU6e\"><tr><td><a href=\"/url?q=https://news.abplive.com/business/budget/india-first-citizens-first-pm-narendra-modi-says-ahead-of-budget-session-president-droupadi-murmu-1579029&amp;sa=U&amp;ved=2ahUKEwjAwZSwzceAAxVTzDgGHbthBpEQqoUBegQICxAB&amp;usg=AOvVaw3Tm0iKbMIFYCUxyZr57svX\"><div class=\"NZWO1b\"><img alt=\"\" class=\"yWs4tf\" src=\"https://encrypted-tbn0.gstatic.com/images?q=tbn:ANd9GcQMZGiRUaBbvIyzID1W2c7iZMXOuCe5Ydprg_x3alYgiPENGMsG2qiNvD8BYA&amp;s\"/></div></a></td></tr><tr><td><a href=\"/url?q=https://news.abplive.com/business/budget/india-first-citizens-first-pm-narendra-modi-says-ahead-of-budget-session-president-droupadi-murmu-1579029&amp;sa=U&amp;ved=2ahUKEwjAwZSwzceAAxVTzDgGHbthBpEQr4kDegQICxAC&amp;usg=AOvVaw0YK_c6Zyh3pCRqML1-c56n\"><div class=\"jB2rPd\"> <span class=\"qXLe6d x3G5ab\"> <span class=\"fYyStc\">India First, Citizens...</span> </span> <span class=\"qXLe6d F9iS2e\"> <span class=\"fYyStc\">news.abplive.com</span> </span> </div></a></td></tr></table></div></div> </div> </div></td><td align=\"center\" class=\"e3goi\"><div class=\"mnTahd\"> <div> <div class=\"lIMUZd\"><div><table class=\"IkMU6e\"><tr><td><a href=\"/url?q=https://currentaffairs.adda247.com/narendra-modi-biography-age-full-name-family-wife-qualification-net-worth-twitter/&amp;sa=U&amp;ved=2ahUKEwjAwZSwzceAAxVTzDgGHbthBpEQqoUBegQICRAB&amp;usg=AOvVaw3CgUTikanRs3ELc7qCJG4V\"><div class=\"NZWO1b\"><img alt=\"\" class=\"yWs4tf\" src=\"https://encrypted-tbn0.gstatic.com/images?q=tbn:ANd9GcT-i6AxoBM1fRwZs2QaHjH5JqGggwz7b6unCv4L23TZOD2awD69-2gZotIXdA&amp;s\"/></div></a></td></tr><tr><td><a href=\"/url?q=https://currentaffairs.adda247.com/narendra-modi-biography-age-full-name-family-wife-qualification-net-worth-twitter/&amp;sa=U&amp;ved=2ahUKEwjAwZSwzceAAxVTzDgGHbthBpEQr4kDegQICRAC&amp;usg=AOvVaw0QXvFG7kQRewcbBG7G8ZiA\"><div class=\"jB2rPd\"> <span class=\"qXLe6d x3G5ab\"> <span class=\"fYyStc\">Narendra Modi Biography,...</span> </span> <span class=\"qXLe6d F9iS2e\"> <span class=\"fYyStc\">currentaffairs.adda247.com</span> </span> </div></a></td></tr></table></div></div> </div> </div></td><td align=\"center\" class=\"e3goi\"><div class=\"mnTahd\"> <div> <div class=\"lIMUZd\"><div><table class=\"IkMU6e\"><tr><td><a href=\"/url?q=https://m.economictimes.com/news/india/pm-modi-to-address-indian-americans-in-washington-on-june-23-community-leader/articleshow/100838702.cms&amp;sa=U&amp;ved=2ahUKEwjAwZSwzceAAxVTzDgGHbthBpEQqoUBegQIERAB&amp;usg=AOvVaw1-k9DwEgi0aEH7HjMv3T5V\"><div class=\"NZWO1b\"><img alt=\"\" class=\"yWs4tf\" src=\"https://encrypted-tbn0.gstatic.com/images?q=tbn:ANd9GcS2ysCWX628eH66BEpDDAWzRzKLAdcy5Q0WWj-BeT126uvDkun4zQgLbP_hr0s&amp;s\"/></div></a></td></tr><tr><td><a href=\"/url?q=https://m.economictimes.com/news/india/pm-modi-to-address-indian-americans-in-washington-on-june-23-community-leader/articleshow/100838702.cms&amp;sa=U&amp;ved=2ahUKEwjAwZSwzceAAxVTzDgGHbthBpEQr4kDegQIERAC&amp;usg=AOvVaw17uIUEVm_jsy8dgbHTtY_G\"><div class=\"jB2rPd\"> <span class=\"qXLe6d x3G5ab\"> <span class=\"fYyStc\">Narendra Modi: PM Modi to...</span> </span> <span class=\"qXLe6d F9iS2e\"> <span class=\"fYyStc\">m.economictimes.com</span> </span> </div></a></td></tr></table></div></div> </div> </div></td><td align=\"center\" class=\"e3goi\"><div class=\"mnTahd\"> <div> <div class=\"lIMUZd\"><div><table class=\"IkMU6e\"><tr><td><a href=\"/url?q=https://www.hindustantimes.com/topic/narendra-modi&amp;sa=U&amp;ved=2ahUKEwjAwZSwzceAAxVTzDgGHbthBpEQqoUBegQIDBAB&amp;usg=AOvVaw12dQQLzmZ8xhRZQHmRZwsE\"><div class=\"NZWO1b\"><img alt=\"\" class=\"yWs4tf\" src=\"https://encrypted-tbn0.gstatic.com/images?q=tbn:ANd9GcQnElxYhJkZzlsjTiOvtQOiq_F97Qq1yYQJPIHA8e9wRNtyK2kL4Kn-TjVVEA&amp;s\"/></div></a></td></tr><tr><td><a href=\"/url?q=https://www.hindustantimes.com/topic/narendra-modi&amp;sa=U&amp;ved=2ahUKEwjAwZSwzceAAxVTzDgGHbthBpEQr4kDegQIDBAC&amp;usg=AOvVaw0UPDKU_D0CcUW2ZzY72f87\"><div class=\"jB2rPd\"> <span class=\"qXLe6d x3G5ab\"> <span class=\"fYyStc\">Narendra Modi: Get Latest...</span> </span> <span class=\"qXLe6d F9iS2e\"> <span class=\"fYyStc\">www.hindustantimes.com</span> </span> </div></a></td></tr></table></div></div> </div> </div></td></tr><tr><td align=\"center\" class=\"e3goi\"><div class=\"mnTahd\"> <div> <div class=\"lIMUZd\"><div><table class=\"IkMU6e\"><tr><td><a href=\"/url?q=https://www.zeebiz.com/economy-infra/news-pm-modi-to-launch-development-projects-during-pune-visit-on-aug-1-receive-lokmanya-tilak-national-award-246801&amp;sa=U&amp;ved=2ahUKEwjAwZSwzceAAxVTzDgGHbthBpEQqoUBegQIBRAB&amp;usg=AOvVaw0sWYtWa5X6qu44tpSpeUgz\"><div class=\"NZWO1b\"><img alt=\"\" class=\"yWs4tf\" src=\"https://encrypted-tbn0.gstatic.com/images?q=tbn:ANd9GcQm5hyLCqEx3MHrUeTnhqgEKTEGgEnHjWxb4AkNlSWxv4duKwgyN4FcITc2vg&amp;s\"/></div></a></td></tr><tr><td><a href=\"/url?q=https://www.zeebiz.com/economy-infra/news-pm-modi-to-launch-development-projects-during-pune-visit-on-aug-1-receive-lokmanya-tilak-national-award-246801&amp;sa=U&amp;ved=2ahUKEwjAwZSwzceAAxVTzDgGHbthBpEQr4kDegQIBRAC&amp;usg=AOvVaw0L-7VBL6Q3flnDYaww7nXw\"><div class=\"jB2rPd\"> <span class=\"qXLe6d x3G5ab\"> <span class=\"fYyStc\">PM Modi to launch...</span> </span> <span class=\"qXLe6d F9iS2e\"> <span class=\"fYyStc\">www.zeebiz.com</span> </span> </div></a></td></tr></table></div></div> </div> </div></td><td align=\"center\" class=\"e3goi\"><div class=\"mnTahd\"> <div> <div class=\"lIMUZd\"><div><table class=\"IkMU6e\"><tr><td><a href=\"/url?q=https://www.pmindia.gov.in/&amp;sa=U&amp;ved=2ahUKEwjAwZSwzceAAxVTzDgGHbthBpEQqoUBegQICBAB&amp;usg=AOvVaw0zFlNU5unr1IpMiudaH0_6\"><div class=\"NZWO1b\"><img alt=\"\" class=\"yWs4tf\" src=\"https://encrypted-tbn0.gstatic.com/images?q=tbn:ANd9GcRXSTdN2VucSpAsR_1d6gv5UUMdFieGpVSi196UjKpa4N-RIe0y7k5XU1LlLsU&amp;s\"/></div></a></td></tr><tr><td><a href=\"/url?q=https://www.pmindia.gov.in/&amp;sa=U&amp;ved=2ahUKEwjAwZSwzceAAxVTzDgGHbthBpEQr4kDegQICBAC&amp;usg=AOvVaw2oWg7qXQq8F8A5R00xLdiJ\"><div class=\"jB2rPd\"> <span class=\"qXLe6d x3G5ab\"> <span class=\"fYyStc\">Prime Minister of India</span> </span> <span class=\"qXLe6d F9iS2e\"> <span class=\"fYyStc\">www.pmindia.gov.in</span> </span> </div></a></td></tr></table></div></div> </div> </div></td><td align=\"center\" class=\"e3goi\"><div class=\"mnTahd\"> <div> <div class=\"lIMUZd\"><div><table class=\"IkMU6e\"><tr><td><a href=\"/url?q=https://www.gettyimages.in/photos/narendra-modi&amp;sa=U&amp;ved=2ahUKEwjAwZSwzceAAxVTzDgGHbthBpEQqoUBegQIAxAB&amp;usg=AOvVaw06svEDsd45uKvlIMTL-CtY\"><div class=\"NZWO1b\"><img alt=\"\" class=\"yWs4tf\" src=\"https://encrypted-tbn0.gstatic.com/images?q=tbn:ANd9GcSd2JYxBgLfvS5vqxNgENNMe9Jv2YHYp0ezTgIycbKO2k4gJXYD7Pd52wU9Kg&amp;s\"/></div></a></td></tr><tr><td><a href=\"/url?q=https://www.gettyimages.in/photos/narendra-modi&amp;sa=U&amp;ved=2ahUKEwjAwZSwzceAAxVTzDgGHbthBpEQr4kDegQIAxAC&amp;usg=AOvVaw0VRkuJjUnD5cW2hWbpnvS7\"><div class=\"jB2rPd\"> <span class=\"qXLe6d x3G5ab\"> <span class=\"fYyStc\">85,966 Narendra Modi Photos...</span> </span> <span class=\"qXLe6d F9iS2e\"> <span class=\"fYyStc\">www.gettyimages.in</span> </span> </div></a></td></tr></table></div></div> </div> </div></td><td align=\"center\" class=\"e3goi\"><div class=\"mnTahd\"> <div> <div class=\"lIMUZd\"><div><table class=\"IkMU6e\"><tr><td><a href=\"/url?q=https://www.amazon.in/zig-zag-Narendra-Picture-Acrylic/dp/B0BB3764W4&amp;sa=U&amp;ved=2ahUKEwjAwZSwzceAAxVTzDgGHbthBpEQqoUBegQIBBAB&amp;usg=AOvVaw2mqMxaKnyYwR1C91goAwMX\"><div class=\"NZWO1b\"><img alt=\"\" class=\"yWs4tf\" src=\"https://encrypted-tbn0.gstatic.com/images?q=tbn:ANd9GcQG6ynCgpjbSANbPOnO3dEqrqw1QgCfmBHqtkfK2GO_J2Ja08abTE_aGyruBw&amp;s\"/></div></a></td></tr><tr><td><a href=\"/url?q=https://www.amazon.in/zig-zag-Narendra-Picture-Acrylic/dp/B0BB3764W4&amp;sa=U&amp;ved=2ahUKEwjAwZSwzceAAxVTzDgGHbthBpEQr4kDegQIBBAC&amp;usg=AOvVaw2RvAU4sYyQ9wsCEi1xUPlM\"><div class=\"jB2rPd\"> <span class=\"qXLe6d x3G5ab\"> <span class=\"fYyStc\">zig zag Narendra Modi ji...</span> </span> <span class=\"qXLe6d F9iS2e\"> <span class=\"fYyStc\">www.amazon.in</span> </span> </div></a></td></tr></table></div></div> </div> </div></td></tr><tr><td align=\"center\" class=\"e3goi\"><div class=\"mnTahd\"> <div> <div class=\"lIMUZd\"><div><table class=\"IkMU6e\"><tr><td><a href=\"/url?q=https://economictimes.indiatimes.com/news/newsblogs/pm-modi-us-visit-2023-news-live-joe-biden-latest-updates-june-2023/liveblog/101146953.cms&amp;sa=U&amp;ved=2ahUKEwjAwZSwzceAAxVTzDgGHbthBpEQqoUBegQIBxAB&amp;usg=AOvVaw2PMSRZyEBO7n6PmMimQat5\"><div class=\"NZWO1b\"><img alt=\"\" class=\"yWs4tf\" src=\"https://encrypted-tbn0.gstatic.com/images?q=tbn:ANd9GcRD6DOm_ruBkIuAGJMQrofi7Glfeoi9BlNBQbliJf8O3vJNhUPZeybgC0q1VjQ&amp;s\"/></div></a></td></tr><tr><td><a href=\"/url?q=https://economictimes.indiatimes.com/news/newsblogs/pm-modi-us-visit-2023-news-live-joe-biden-latest-updates-june-2023/liveblog/101146953.cms&amp;sa=U&amp;ved=2ahUKEwjAwZSwzceAAxVTzDgGHbthBpEQr4kDegQIBxAC&amp;usg=AOvVaw3gu5YqamQPxHXhGoniA3GJ\"><div class=\"jB2rPd\"> <span class=\"qXLe6d x3G5ab\"> <span class=\"fYyStc\">PM Modi US visit: PM Modi...</span> </span> <span class=\"qXLe6d F9iS2e\"> <span class=\"fYyStc\">economictimes.indiatimes.co...</span> </span> </div></a></td></tr></table></div></div> </div> </div></td><td align=\"center\" class=\"e3goi\"><div class=\"mnTahd\"> <div> <div class=\"lIMUZd\"><div><table class=\"IkMU6e\"><tr><td><a href=\"/url?q=https://www.instagram.com/narendramodi/&amp;sa=U&amp;ved=2ahUKEwjAwZSwzceAAxVTzDgGHbthBpEQqoUBegQIABAB&amp;usg=AOvVaw0JRRPVAuTtwmx6Ui1q6HHR\"><div class=\"NZWO1b\"><img alt=\"\" class=\"yWs4tf\" src=\"https://encrypted-tbn0.gstatic.com/images?q=tbn:ANd9GcR3Nmt0Zr90HQgRBE0wPsTrcLhRAo_hOoIv6IfG9bE7A7yZmELrHcntX_n8vrE&amp;s\"/></div></a></td></tr><tr><td><a href=\"/url?q=https://www.instagram.com/narendramodi/&amp;sa=U&amp;ved=2ahUKEwjAwZSwzceAAxVTzDgGHbthBpEQr4kDegQIABAC&amp;usg=AOvVaw0Ts1VCkEZE8hT273ry8L9Y\"><div class=\"jB2rPd\"> <span class=\"qXLe6d x3G5ab\"> <span class=\"fYyStc\">Narendra Modi...</span> </span> <span class=\"qXLe6d F9iS2e\"> <span class=\"fYyStc\">www.instagram.com</span> </span> </div></a></td></tr></table></div></div> </div> </div></td><td align=\"center\" class=\"e3goi\"><div class=\"mnTahd\"> <div> <div class=\"lIMUZd\"><div><table class=\"IkMU6e\"><tr><td><a href=\"/url?q=https://www.indiatoday.in/india/story/pm-modi-birthday-sanitation-drives-health-camps-bjp-1853679-2021-09-16&amp;sa=U&amp;ved=2ahUKEwjAwZSwzceAAxVTzDgGHbthBpEQqoUBegQIAhAB&amp;usg=AOvVaw0--jHZ6SCBy70zAwZMXv1K\"><div class=\"NZWO1b\"><img alt=\"\" class=\"yWs4tf\" src=\"https://encrypted-tbn0.gstatic.com/images?q=tbn:ANd9GcTmrwSb8eQnRQWl1NIyfCpmCmD3xyrpUotNBRWypdax_awx0QSCjfCGAwJF-WA&amp;s\"/></div></a></td></tr><tr><td><a href=\"/url?q=https://www.indiatoday.in/india/story/pm-modi-birthday-sanitation-drives-health-camps-bjp-1853679-2021-09-16&amp;sa=U&amp;ved=2ahUKEwjAwZSwzceAAxVTzDgGHbthBpEQr4kDegQIAhAC&amp;usg=AOvVaw1USLmOqQ2pQZbeX0T9_OiN\"><div class=\"jB2rPd\"> <span class=\"qXLe6d x3G5ab\"> <span class=\"fYyStc\">PM Modi's 71st birthday...</span> </span> <span class=\"qXLe6d F9iS2e\"> <span class=\"fYyStc\">www.indiatoday.in</span> </span> </div></a></td></tr></table></div></div> </div> </div></td><td align=\"center\" class=\"e3goi\"><div class=\"mnTahd\"> <div> <div class=\"lIMUZd\"><div><table class=\"IkMU6e\"><tr><td><a href=\"/url?q=https://www.ndtv.com/india-news/india-global-bright-spot-with-strong-desire-to-grow-more-pm-modi-4212800&amp;sa=U&amp;ved=2ahUKEwjAwZSwzceAAxVTzDgGHbthBpEQqoUBegQIARAB&amp;usg=AOvVaw3ayU5QiD0zmxrYO2X-nQwH\"><div class=\"NZWO1b\"><img alt=\"\" class=\"yWs4tf\" src=\"https://encrypted-tbn0.gstatic.com/images?q=tbn:ANd9GcTDxVwvtQyFpIS1c-Kt4g7rEdPg41ahUKlpu-yybtLVm2JYrapVqeBLBnJZMw&amp;s\"/></div></a></td></tr><tr><td><a href=\"/url?q=https://www.ndtv.com/india-news/india-global-bright-spot-with-strong-desire-to-grow-more-pm-modi-4212800&amp;sa=U&amp;ved=2ahUKEwjAwZSwzceAAxVTzDgGHbthBpEQr4kDegQIARAC&amp;usg=AOvVaw0WwQg1Rls_mJtsvjFS1pY-\"><div class=\"jB2rPd\"> <span class=\"qXLe6d x3G5ab\"> <span class=\"fYyStc\">Youngsters, Entrepreneurs...</span> </span> <span class=\"qXLe6d F9iS2e\"> <span class=\"fYyStc\">www.ndtv.com</span> </span> </div></a></td></tr></table></div></div> </div> </div></td></tr></table></div><table class=\"uZgmoc\"><tbody><td><a class=\"frGj1b\" href=\"/search?q=narendra+modi&amp;rlz=1C1VDKB_enIN1000IN1000&amp;biw=1242&amp;bih=592&amp;ie=UTF-8&amp;tbm=isch&amp;ei=XFjPZMCjDdOY4-EPu8OZiAk&amp;start=20&amp;sa=N\">Next &gt;</a></td></tbody></table><br/><div class=\"TuS8Ad\" data-ved=\"0ahUKEwjAwZSwzceAAxVTzDgGHbthBpEQpyoIUg\"><style>.VYM29{font-weight:bold}</style><div align=\"center\" class=\"HddGcc\"><span class=\"VYM29\">Ghaziabad, Delhi</span><span> - </span><span>From your IP address</span><span> - </span><a href=\"/url?q=https://support.google.com/websearch%3Fp%3Dws_settings_location%26hl%3Den-IN&amp;sa=U&amp;ved=0ahUKEwjAwZSwzceAAxVTzDgGHbthBpEQty4IUw&amp;usg=AOvVaw3Fd6_I68ftWKMVT4j9rh2-\">Learn more</a></div><div align=\"center\"><a class=\"rEM8G\" href=\"/url?q=https://accounts.google.com/ServiceLogin%3Fcontinue%3Dhttps://www.google.com/search%253Frlz%253D1C1VDKB_enIN1000IN1000%2526q%253Dnarendra%252Bmodi%2526tbm%253Disch%2526source%253Dlnms%2526sa%253DX%2526ved%253D2ahUKEwjHmuSdhMaAAxVXl1YBHcyyB94Q0pQJegQIDBAB%2526biw%253D1242%2526bih%253D592%2526dpr%253D1.1%26hl%3Den&amp;sa=U&amp;ved=0ahUKEwjAwZSwzceAAxVTzDgGHbthBpEQxs8CCFQ&amp;usg=AOvVaw3HnhXVXSQaD-XlJ3U-X223\">Sign in</a></div><div><table class=\"bookcf\"><tbody class=\"InWNIe\"><tr><td><a class=\"rEM8G\" href=\"https://www.google.com/preferences?hl=en&amp;sa=X&amp;ved=0ahUKEwjAwZSwzceAAxVTzDgGHbthBpEQv5YECFU\">Settings</a></td><td><a class=\"rEM8G\" href=\"https://www.google.com/intl/en_in/policies/privacy/\">Privacy</a></td><td><a class=\"rEM8G\" href=\"https://www.google.com/intl/en_in/policies/terms/\">Terms</a></td></tr></tbody></table></div></div><div> </div></body></html>"
      ]
     },
     "execution_count": 7,
     "metadata": {},
     "output_type": "execute_result"
    }
   ],
   "source": [
    "soup"
   ]
  },
  {
   "cell_type": "code",
   "execution_count": 8,
   "id": "4d1bbb0b",
   "metadata": {},
   "outputs": [],
   "source": [
    "image_tags = soup.find_all(\"img\")"
   ]
  },
  {
   "cell_type": "code",
   "execution_count": 9,
   "id": "50387dfa",
   "metadata": {},
   "outputs": [],
   "source": [
    "del image_tags[0]"
   ]
  },
  {
   "cell_type": "code",
   "execution_count": 10,
   "id": "f51f0868",
   "metadata": {},
   "outputs": [
    {
     "data": {
      "text/plain": [
       "[<img alt=\"\" class=\"yWs4tf\" src=\"https://encrypted-tbn0.gstatic.com/images?q=tbn:ANd9GcTFGlUyS3ZqZXLRt7IXbGmoqhXidS5X15852GtHhJzxDfMiLZpHWsNUJngHwT4&amp;s\"/>,\n",
       " <img alt=\"\" class=\"yWs4tf\" src=\"https://encrypted-tbn0.gstatic.com/images?q=tbn:ANd9GcTw7G48FnLNCO2gGjMABD7W_0PPI2v9HQts8jXdtqEomxahKG15PaUEOEo2H3U&amp;s\"/>,\n",
       " <img alt=\"\" class=\"yWs4tf\" src=\"https://encrypted-tbn0.gstatic.com/images?q=tbn:ANd9GcRGGtCSKeJx76slvvhixRlXD2qYkncBLNxiu_BpAncLaiJgJ2ibKlG8Vl2-cF4&amp;s\"/>,\n",
       " <img alt=\"\" class=\"yWs4tf\" src=\"https://encrypted-tbn0.gstatic.com/images?q=tbn:ANd9GcSNUXeGpa7_ggJZpt66tB7idqe2_eLXhADuTxGT4c6kWqAaef7kRHhBk_Jrog&amp;s\"/>,\n",
       " <img alt=\"\" class=\"yWs4tf\" src=\"https://encrypted-tbn0.gstatic.com/images?q=tbn:ANd9GcTJQhVDWcv65kzjWZ1JY7_9c3Bv4eWzcsiTRmjfzf_jTLpsv6-TjLzgeWjRsZI&amp;s\"/>,\n",
       " <img alt=\"\" class=\"yWs4tf\" src=\"https://encrypted-tbn0.gstatic.com/images?q=tbn:ANd9GcSDucabzWonNJC-YO7ic036E_5sOkhE5ZGiS0CuDO3hZ60SnbE-en6dWTxVaxg&amp;s\"/>,\n",
       " <img alt=\"\" class=\"yWs4tf\" src=\"https://encrypted-tbn0.gstatic.com/images?q=tbn:ANd9GcR-_cIaKSuCE2ZNfldj-s0ZSCk3pfa0EC1vbzrdkD-9VzHNUeteL0B2oVYWbw&amp;s\"/>,\n",
       " <img alt=\"\" class=\"yWs4tf\" src=\"https://encrypted-tbn0.gstatic.com/images?q=tbn:ANd9GcTfLkDGe7Uqs080og0NkJreCDMlF5DWxH3Fcog0ERHadLncA-Hym93VNi0TXw&amp;s\"/>,\n",
       " <img alt=\"\" class=\"yWs4tf\" src=\"https://encrypted-tbn0.gstatic.com/images?q=tbn:ANd9GcQMZGiRUaBbvIyzID1W2c7iZMXOuCe5Ydprg_x3alYgiPENGMsG2qiNvD8BYA&amp;s\"/>,\n",
       " <img alt=\"\" class=\"yWs4tf\" src=\"https://encrypted-tbn0.gstatic.com/images?q=tbn:ANd9GcT-i6AxoBM1fRwZs2QaHjH5JqGggwz7b6unCv4L23TZOD2awD69-2gZotIXdA&amp;s\"/>,\n",
       " <img alt=\"\" class=\"yWs4tf\" src=\"https://encrypted-tbn0.gstatic.com/images?q=tbn:ANd9GcS2ysCWX628eH66BEpDDAWzRzKLAdcy5Q0WWj-BeT126uvDkun4zQgLbP_hr0s&amp;s\"/>,\n",
       " <img alt=\"\" class=\"yWs4tf\" src=\"https://encrypted-tbn0.gstatic.com/images?q=tbn:ANd9GcQnElxYhJkZzlsjTiOvtQOiq_F97Qq1yYQJPIHA8e9wRNtyK2kL4Kn-TjVVEA&amp;s\"/>,\n",
       " <img alt=\"\" class=\"yWs4tf\" src=\"https://encrypted-tbn0.gstatic.com/images?q=tbn:ANd9GcQm5hyLCqEx3MHrUeTnhqgEKTEGgEnHjWxb4AkNlSWxv4duKwgyN4FcITc2vg&amp;s\"/>,\n",
       " <img alt=\"\" class=\"yWs4tf\" src=\"https://encrypted-tbn0.gstatic.com/images?q=tbn:ANd9GcRXSTdN2VucSpAsR_1d6gv5UUMdFieGpVSi196UjKpa4N-RIe0y7k5XU1LlLsU&amp;s\"/>,\n",
       " <img alt=\"\" class=\"yWs4tf\" src=\"https://encrypted-tbn0.gstatic.com/images?q=tbn:ANd9GcSd2JYxBgLfvS5vqxNgENNMe9Jv2YHYp0ezTgIycbKO2k4gJXYD7Pd52wU9Kg&amp;s\"/>,\n",
       " <img alt=\"\" class=\"yWs4tf\" src=\"https://encrypted-tbn0.gstatic.com/images?q=tbn:ANd9GcQG6ynCgpjbSANbPOnO3dEqrqw1QgCfmBHqtkfK2GO_J2Ja08abTE_aGyruBw&amp;s\"/>,\n",
       " <img alt=\"\" class=\"yWs4tf\" src=\"https://encrypted-tbn0.gstatic.com/images?q=tbn:ANd9GcRD6DOm_ruBkIuAGJMQrofi7Glfeoi9BlNBQbliJf8O3vJNhUPZeybgC0q1VjQ&amp;s\"/>,\n",
       " <img alt=\"\" class=\"yWs4tf\" src=\"https://encrypted-tbn0.gstatic.com/images?q=tbn:ANd9GcR3Nmt0Zr90HQgRBE0wPsTrcLhRAo_hOoIv6IfG9bE7A7yZmELrHcntX_n8vrE&amp;s\"/>,\n",
       " <img alt=\"\" class=\"yWs4tf\" src=\"https://encrypted-tbn0.gstatic.com/images?q=tbn:ANd9GcTmrwSb8eQnRQWl1NIyfCpmCmD3xyrpUotNBRWypdax_awx0QSCjfCGAwJF-WA&amp;s\"/>,\n",
       " <img alt=\"\" class=\"yWs4tf\" src=\"https://encrypted-tbn0.gstatic.com/images?q=tbn:ANd9GcTDxVwvtQyFpIS1c-Kt4g7rEdPg41ahUKlpu-yybtLVm2JYrapVqeBLBnJZMw&amp;s\"/>]"
      ]
     },
     "execution_count": 10,
     "metadata": {},
     "output_type": "execute_result"
    }
   ],
   "source": [
    "image_tags"
   ]
  },
  {
   "cell_type": "code",
   "execution_count": 11,
   "id": "f99b7bac",
   "metadata": {},
   "outputs": [
    {
     "data": {
      "text/plain": [
       "b'\\xff\\xd8\\xff\\xe0\\x00\\x10JFIF\\x00\\x01\\x01\\x00\\x00\\x01\\x00\\x01\\x00\\x00\\xff\\xdb\\x00\\x84\\x00\\t\\x06\\x07\\x08\\x07\\x06\\t\\x08\\x07\\x08\\n\\n\\t\\x0b\\r\\x16\\x0f\\r\\x0c\\x0c\\r\\x1b\\x14\\x15\\x10\\x16 \\x1d\"\" \\x1d\\x1f\\x1f$(4,$&1\\'\\x1f\\x1f-=-157:::#+?D?8C49:7\\x01\\n\\n\\n\\r\\x0c\\r\\x1a\\x0f\\x0f\\x1a7%\\x1f%77777777777777777777777777777777777777777777777777\\xff\\xc0\\x00\\x11\\x08\\x00\\x8c\\x00\\x8c\\x03\\x01\"\\x00\\x02\\x11\\x01\\x03\\x11\\x01\\xff\\xc4\\x00\\x1b\\x00\\x00\\x02\\x03\\x01\\x01\\x01\\x00\\x00\\x00\\x00\\x00\\x00\\x00\\x00\\x00\\x00\\x04\\x05\\x02\\x03\\x06\\x01\\x00\\x07\\xff\\xc4\\x00:\\x10\\x00\\x01\\x03\\x03\\x03\\x01\\x06\\x02\\x08\\x04\\x07\\x01\\x00\\x00\\x00\\x00\\x01\\x00\\x02\\x03\\x04\\x11!\\x05\\x121A\\x06\\x13\"Qaq\\x81\\x91\\x14#2B\\xa1\\xb1\\xc1\\xd1\\x163\\xe1\\xf0\\x15Rbrt\\xb2\\xf1%\\xff\\xc4\\x00\\x1b\\x01\\x00\\x02\\x03\\x01\\x01\\x01\\x00\\x00\\x00\\x00\\x00\\x00\\x00\\x00\\x00\\x00\\x04\\x05\\x00\\x01\\x02\\x03\\x06\\x07\\xff\\xc4\\x00(\\x11\\x00\\x02\\x02\\x02\\x02\\x01\\x04\\x02\\x01\\x05\\x00\\x00\\x00\\x00\\x00\\x00\\x00\\x01\\x02\\x11\\x03\\x04\\x12!1\\x05\\x13Aa\"$\\x8123QRq\\xff\\xda\\x00\\x0c\\x03\\x01\\x00\\x02\\x11\\x03\\x11\\x00?\\x00\\xfaF\\xdd\\xcd \\xf5Y-r\\x8f\\xba\\x98\\xb9\\xa3\\x0e\\xe5l\\x1b\\xc2[\\xab\\xd3\\n\\x88\\x08\\xb6BY\\xb7\\x8b\\xdc\\xc66\\xd0\\xcf\\xede_\\xe1\\x98\\xd8\\xc5\\x9e\\x11\\xd0\\xe2F\\x9fUF\\xc2\\xd9\\x8bOB\\x89h\\xb1\\x05%\\x87RG\\xa5\\x9d8\\x8f#\\xcbB\\xb0\\x85]>cj\\xb4\\xf0\\xbd\\xa4\\x1d\\xc13\\xe7\\x99Udk\\xec*\\x81\\x9c\\xb9\\x19\\xd5UF\\xdd\\xb1\\\\\\xe1QY]\\x1c-\\xc9\\xe7\\x8bd\\x94\\x16I+\\x0e\\x82\\xea\\x8b\\xaa\\xe1\\x13BZ|\\x96B\\xae\\x96Jy\\x08s\\x1c\\x1b|\\x1b&\\xb3j\\xfbI\\xf0\\x02=\\xca\\x1c\\xebl\\x00\\xb5\\xedu\\xb8\\xc9\\xc1@lb\\xc7\\x9b\\xcb\\xa62\\xd4\\xd8\\xcb\\x83\\xae6\\x85\\x96\\xf4^\\x1fl{\\xa3\\\\\\xfaZ\\xc0\\xe3N\\xe0$\\x1ft\\xe0\\xa0\\xde\\xd2\\x0ey\\tf\\\\R\\xc5%c\\xcc\\x19\\xe3\\x9e6\\x87p\\x1b\\xc6\\n\\xb0r\\x87\\xa37\\x88\"Y\\x97\\x05\\xebqJ\\xf1\\'\\xf4xl\\xf0\\xe3\\x9eQ\\xfb\\x18\\xc0\\xdb0.\\xb8x\\x95\\x916\\xd1\\x85\\xc22\\x85a\\x82\\xcdb\\x90O\\r\\xc0\\xc8YW7k\\x88w!n\\xdc\\xcd\\xc2\\xc7\\xaaC]\\xa5\\x93R\\xe2\\xd1\\x82\\x95\\xee\\xeb9>Q\\x1c\\xfan\\xda\\x8ap\\x91\\xa3\\x03\\xc2\\xa9\\x91\\xbb\\xb0U\\xe3\\xec\\xaa\\xed\\x94\\xc1\\x8a\\x11\\x99\\xd5i;\\xaa\\x8d\\xed\\x18(^\\x8bK\\xa8S\\t\\xa1q\\xea\\xb3\\x8fn\\xc2A\\x1c$\\x9b8\\xb8N\\xcfI\\xa7\\x9f\\xdd\\xc6\\xaf\\xca\\x1b\\xd2f&\\xfb\"\\x1a.\\xe0=P\\xd4\\x06\\xf0\\x8fdl\\r\\xdd ^\\x97\\x0c\\xaf\\x02\\x7fG\\x91\\xda\\x85mI}\\x96\\xd7\\xce)\\xa9\\x00\\x186\\xbe|\\x96_\\xbd\\x96\\xaeSm\\xdbx\\xb8N{P\\xf0\\xc8\\xcbI\\xc6\\xc1o\\x9a\\x07Jow\\x04e\\xc1\\xcd\\x07\\x87\\x11\\x82\\x95\\xecJNT5\\xd6\\x8cR\\xe4\\xca\\xd9D\\xebY\\xc3\\x9f4=E\\x19\\x17\\x05\\xb7Z\\r\\xd6>&\\xdcy\\xaa\\xa6v\\x1d\\xe1\\xb0\\xf5Cq\\r\\xe6c\\xe6\\x8c\\xc3 sIk\\x86BgM/\\xf8\\x84\\x12]\\x80O\\x08\\xb9#\\x87\\x0f\\xddKUk\\x0b\\x0b\\x8d\\xae:!\\xb47\\x88\\x9f)i\\xbb\\x9f\\xe1#\\xd1iG\\x92qf\\\\\\xdc\\x1a\\x9cF\\xdas\\xaf\\x1a>\\x11w\\x84\\xb3M6\\x05\\xbeI\\xb5(\\xbc\\x817\\xd3\\x95\\xeb&&\\xf5\\x08\\xd6\\xe3\\x1a\\x01\\xe0\\n$+z(Z\\xcb%\\x91\\xb2\\xe3\\xd8\\xd7\\x1b\\x90\\xa7l\\xae\\xd9S-:\\x01\\x9fT\\xa4\\x80\\x10\\xf9\\x9a\\x0f\\xba\\xe4:\\xa5\\x14\\xd8d\\xcd\\xbf\\xba\\xcb\\xd2\\xf69\\xb28IYQ,\\x8e\\xf5r.N\\xc7S1\\x87\\xe8\\xf2>7\\x11\\xc8r\\xcb\"4\\xf1\\xbe9p\\xd2\\x1c\\x12Mf\\x90\\xc7!x\\x16\\x05\"\\x89\\xba\\xb6\\x855\\xcb\\x9d=89.9\\x01j\\xe9\\xea\\xa1\\xd5\\xe8w0\\x8d\\xd6\\xe1\\x0b\\xb3\\x87\\xdc\\x80n\\xa6\\x7fj\\x7f@ZnaMh\\xdbyB[E\\x19\\x88\\xbd\\x84Z\\xc56\\xa0o\\x8c\\x9e\\x88\\xddw\\xfa\\xc8\\x07r?\\xb8\\xd9\\x94\\xd6\\xa6\\xa9\\xa8{\\xcdS\\x80{\\'1\\xb4F0Cs\\xc7\\xc5\\xa9\\x1c\\x9a\\x96\\xa8a\\xf0\\xd1\\xc8\\xef\\xac\\xb0y\\xa9\\xee\\xcb}@\\x03\\x81\\xe9\\x95\\xa0\\xd6#tZ\\xab\\xd8A\\xb1\\x9aB>;O\\xe4T\\xc4L\\x8e\\x0b\\xb9\\xfb\\x19\\xe7\\x8b\\x94\\xbeSj]\\x8c\\xe1\\x8e2\\x8fB\\xbd\\x17Q\\xd4\\x9d\\xb9\\xd3\\x83k\\x11\\xe3p#\\xf0\\x17\\xe8\\x80\\xac\\xd7\\xf5q+\\xd8!qknH\\x11\\xdf\\xc2<\\x8d\\xf3\\xf0Z8\\x19L\\xe6\\xc8\\xd6\\xcb\\x18\\xdb\\xf7C\\xaes\\xe7\\xe4\\x81\\x8d\\xd0\\xfd$\\xb5\\x8e\\x85\\xc6\\xe5\\xa1\\xce\\x17\\xbf\\xa7\\xa2\\xcf\\'vtpMP\\x9a=v\\xa2\\xa8}\\x16\\xae\\x9e@\\xf7x\\x9b\\xbd\\xb6p\\xbf\\xaf\\xe8\\xa7E$\\xf4\\xedt\\xeckM\\xa4\\x00\\x8b\\x12x&\\xc15\\xae\\xa5\\xee\\xc7x\\xf8\\xa3\\x00^\\xcdm\\xec\\x95\\x86\\xbf\\xb9\\x8eA\\xbb\\xbbt\\xd2\\x02\\x07\\x07\\x00)\\xce\\xdd\\x99\\xf6\\xd2I\\x0f4\\x99_(\\x12=\\x9b\\x1c\\xec\\x96\\xde\\xf6O\\xa8E\\xe5Iict/\\x11\\xbf\\xed\\x0c\\x1ft\\xff\\x00Mm\\xdft~\\x94\\xbf]\\xff\\x00\\xd1\\x7f\\xa8\\xc2\\xb6\\x93\\xfa\\x19\\x11e\\x02\\xac\\x94\\x864\\x92l\\x02\\xc7\\xeb\\xfd\\xa91Jit\\xd6\\x19f\\xe2\\xcdZ9\\x1aw\\xcd\\x1c\\x7fm\\xe1\\xbe\\xea\\xb3_J9\\x99\\xbf5\\x87\\x83H\\xd6\\xb5C\\xde\\xd5\\xd5: ~\\xe3Qc\\xb1d\\x8b\\xba\\xb2{\\xf5\\xfa\\xc5}\\x12\\xc7\\xe6\\xb5\\xadq\\xdc~\\xf0\\x0b\\xac\\xafa\\x038\\xc9Y:\\x8a\\xe6A\\x1e\\xf9\\xdfao5\\x1a]F*\\xa6\\xee\\x82K\\xdb\\xc8\\xacQf\\xce=\\x95\\r,\\x90\\x03\\xbb\\x16Y\\xf9\\xe3v\\x83\\xab\\xb5\\xf1\\x82)\\xa7}\\x9c\\x07\\x00\\xa6Z5F\\xf0\\x01p\\xb9\\xcf\\x99*]\\xac\\x87\\xbc\\xd2] \\x1e&\\x0b\\x82\\xb0m\\x079\\x8dpl\\xad\\xe1\\xd9F\\xe9\\xcd\\xe4\\xa5z,\\x86}\"\\x17\\xbb\\x9d\\xa16\\x84\\x88\\xa9\\x9c\\xef \\xbb\\xc7\\xacTp\\x95\\xbc\\xb6\\xc4\\xbd\\xa2`\\xa8y|m\\xbb\\x98@\\xbd\\xfa\\xe0~\\xc94\\xd2RQF+5\\x8a\\x81\\x04\\x00\\xed\\x8a\\xe7\\x82z\\xdd]\\xa2TK[6\\xa0d&\\xc2{\\xb2\\xc7\\x1c[(\\x9d^\\x86\\x1a\\x96C\\x14\\xd1\\x871\\x97%\\xdc\\xed\\'\\x08\\\\\\x98\\xd5\\xdb\\x0b\\xc3\\x95\\xd7\\x14\\xc4\\xd2\\xcf\\xa2\\xca\\xc0\\xe8\\x9a\\xe2\\xcb\\xdc\\xbd\\xa3i}\\xcf\\x1d1\\xfb._\\xb3\\x94\\xf7dR\\xc7\\x0b\\xa5\\xe7\\xa1\\'\\xa7\\xb9\\xfd\\x91\\x9f\\xc3\\r{KLp<\\xb4\\x80\\x0b\\x983\\x7f\\x82[\\xfc,\\x0c\\xe5\\xf2\\xd3\\xc26\\x1b5\\xad`\\xcf\\x9a\\xe7\\xfc\\x04\\xb7\\x15\\xe2AUB\\xa9\\xf1\\xf7N\\xbb\\xc0\\xfb\\xc0\\xf2\\x0f\\x05r\\xa1\\xaf\\xa1\\xa1\\xa7{#\\xdc\\xdaw\\xee\\x7f\\xb97N\\xa7\\x16\\x82\\x9e\\x16\\x03\\xbb\\x83\\xfe\\x92\\x110\\xd26m2v\\x9b\\x1e\\xf0\\x9f\\xd9n\\x18\\xd2\\xec\\xe1<\\xee@`\\xb6\\xae8\\xea\\xa2\\xe1\\xc3)\\xde\\x92\\xdb\\xb6\\xeb;\\xd92]\\x15E#\\xc7\\xf2\\x9eZ\\x16\\x96\\x81\\xbd\\xdcn\\xbfE\\xdf\\x14T#$\\x8e9\\xe6\\xf2J-\\xfc\\x08\\xbbk\\xab\\xbe\\x9a&RSfy\\x8e\\xd6\\x80\\xa8\\xec\\xde\\x85\\x15\\x0c\\x02\\xa2v\\xee\\x99\\xf9s\\x8f( \\xc3\\xa8\\xf6\\xb6C&Y\\x08\\xc0\\xf5Zz\\xc7\\x88\\xa3\\xc1h\\x16\\xc5\\xf8Zo\\xe0\\xe7G\\xa5\\xa8l`\\xf1\\x81t;\\xf5&\\x07`\\x8b,\\xf5}q.p\\x0e\\xb3G\\xaf\\t3\\xb5z{\\x90f\\xc8\\xf5QD\\x80\\xdd\\xa2\\xd3j+\\xa9\\x9a $\\x1c\\\\(vgI\\x9e\\x8a\\'\\x19\\x8eON\\x8bm6\\x9a\\xe0Ih\\xc5\\xafe\\xe8\\xf4\\xd7w\\x83w\\x00\\xdb\\x01W>\\xa8\\xba/\\xd0asX\\xd2w\\x0b\\xfaa\\x1b\\xdab#\\xd1\\xa6\\xdd\\xfeR\\x8b\\xa1\\xa7\\x117\\x8d\\xb6\\xe7\\xc9g\\xfb[_\\x05c>\\x87\\x0c\\xdb\\x98\\x0f\\x8d\\xcd\\xc8\\xf6R\\x18\\xe7\\x92U\\x14IMA[\\x19\\xf6^\"\\xdd\\n\\x1d\\xfc\\xedF\\xd4T\\xc3\\x1d\\x0c\\x82Y\\xa3\\x8f\\x1f}\\xc0~k$\\xfdf\\xbc\\xd2\\x8aji[\\x04 [\\xea\\xdb\\xe2\\xf9\\xfe\\xd6J\\x03d/\\xfa\\xc79\\xc4\\xf2]\\x92\\x98CBu\\xf9\\xba\\x03\\x96\\xca\\xbb\\x88~\\x91\\xa9\\xb3J\\x8e\\xa9\\xa1\\x9d\\xec\\xb2\\xb9\\xc5\\xa4}\\x91\\xe5u\\xa4\\xd3u:z\\xa8\\xc1s\\x98K\\x80\\xbb\\r\\xae=\\x165\\xed\\x00\\x81c\\x9f%\\x13\\x05\\xddgc\\xaeQ2\\xf4\\xfcr\\x8d#\\x92\\xda\\x92v\\xcf\\xa0\\xde\\x18\\xa3$\\xbd\\xa0\\x13\\x8f\\x9a\\x1d\\xd3\\xd3R\\xb8\\xcb3\\xdb\\xd4\\x93\\xb8\\x7f}\\x16*\\x9e\\x07\\x17\\xb6)*\\xe4ln\\'\\xcc\\xed6\\xc1\\xeb\\xf2A\\xcbHO\\xf3\\'\\x91\\xf6\\xe8\\xe7c\\xe5\\xc2\\x0e>\\x9b.|[;\\xbd\\xb5V9\\xd6{B\\xd9\\x1d$zx\\xc9\\xb82\\x11\\x7f\\x80C\\xe8\\x9d\\xa3\\xa8\\xd3\\xc3\\xe0\\x9d\\xbd\\xfc2\\xbfq.&\\xec\\xbf6K\\x04.7\\x0c\\x05\\xde\\xdc\\x05/\\xa3<s\\x82\\x8f\\x8e\\x9e8\\xc3\\x8b\\xec\\x1d\\xe7\\x93\\x95\\x9a\\x9e\\xcbK\\x13\\xb5*\\xa9\\x1b<E\\x92\\xba\\xf1\\x8d\\xf6w\\xc5\\xa7+U\\x17\\xd8x\\xebe\\xf3()\\x8b\\x08{H\\x0e\\x19\\x04\\xa7\\x14z\\xd5}!\\xfe`\\x95\\x9dZ\\xf1\\x7f\\xea\\x85\\xc9\\xa0\\xea\\xe0u\\x8e\\xcf\\xfb\\x04\\xe8\\x16oi+\\x83\\x8d\\x89 \\x80\\x9e\\xea\\x8dwv\\xe0\\t\\xc8\\xe06\\xeb+\\rc\\x06\\xb2+\\x85\\xe1\\xdc,\\xf6\\x1c\\x8f\\x81\\xfe\\x8bdvUS\\x87\\xc6\\xf0\\xe68r\\xd2\\x81\\xcb\\x8ax\\xdf\\xe4\\x82\\xa3\\x922\\xf0|\\xe7V\\x8eGG,m$;\\xa6\\x16\\x12M&\\xbc\\xc8\\xe2Z\\xe3\\x9en\\xbe\\xbb\\xa9in\\xdc\\\\\\xd1l\\x13o$\\xaf\\xfc2`m\\xb1TeDh\\xde\\x01\\x14\\x83\\xc2\\xe6\\x90}T\\x1e\\xe8b>\\'\\x01\\xe6\\xb3\\xd2\\xf6\\x7fT\\x82\\xcd\\xa5\\xaexh\\xff\\x006Q:6\\x85V5\\x06T\\xea5.\\x95\\xb1\\x8b\\xb6.\\x85\\xdd\\t\\xf6\\xfd\\x97(\\xabf\\xdb\\xa4\\x1f\\xda8\\xc9\\xd1\\'\\x06\\xe2\\xc5\\xa7\\x06\\xddG\\xee\\xb1Mj\\xdc\\xf6\\x9d\\xd6\\xd2*E\\xf3v\\x7f\\xd8,Smn\\x13\\xcd\\x05X\\xd8\\xb7bW.\\xcf3\\xc2\\x0ey] \\x93\\xc2\\x96<\\x97]th9T\\x8d \\\\\\x02m\\xea\\xa7\\xb8=\\x99\\xb1\\xf4+\\xa0*\\x88s\\t\\xdb\\xc2\\x96C\\xcd\\x89\\x8fsA!\\xa3\\x91q\\xfd\\xf9.6\\x08\\xc5\\xac\\x01\\xb1\\xc9#7\\xf7\\xea\\xad\\x8b\\xc4\\xc1\\x85=\\xb6\\xe8\\xaa\\xdd\\x96R\\xf1\\xe1\\xebn\\x17C[\\xb7\\xd5u\\xe0\\x92\\xbb\\x90\\x15\\x90\\xad\\xa3\\x0b\\xa5\\xa7\\xfb\\n\\xc6\\x8b\\x0e\\xbf\\x05\\xe23\\x8b\\xaa ;\\x9aS\\x9e\\xce\\xd0\\xd4K\\xbe\\xa2*\\xb9i\\xdb\\x1c\\xa3\\xc2\\xc0\\x0bd\\xeaC\\x81\\xe4q\\xc5\\x8f\\xaaT\\xe3\\x95\\xb1\\xec\\xec\\x1b4Q!\\x16\\xdc\\xeb\\x8f\\x9a\\x17rU\\x8c\\xeb\\x85~A\\x0f\\xeee.\\x00\\x8er.\\xa1\\xf4x\\xc9\\xb9\\xb2_\\xafh\\x95sL*\\xf4\\xda\\x83\\x13\\x9d\\x89Y\\xd1\\xdeG\\xd3\\xff\\x00\\x12s\\xa7v\\x94`T\\xb2\\xdf\\xedI\\x1a\\xa1\\x92vo\\xac9\\\\\\x88]\\xe4\\xf4^q\\xf0\\\\uR\\x84m6S\\x12\\xf93\\x91\\xfc\\x08\\xfbaa\\xa6\\x0f7H\\x1b\\xfa\\xfe\\x8b\\x1b\\x80o\\xfa\\xad\\x8fmG\\xff\\x00%\\xaf\\x1frf\\xfeG\\xfa,\\x80\\xcbn\\x9d\\xe9\\x7fk\\xf9\\x17\\xe7\\xfe\\xb2`\\xdcr\\xbdrz/5\\xd6\\x1d}\\x97FJ(\\xe2u\\xad^,\\xc6T\\x87\\xb2\\x8c\\x86\\xcc&\\xfc\\x05d=\\x10\\xda\\xc1a\\xd1y\\xcb\\x8ds\\x83\\\\\\xde\\xea\\xfe\\x1f\\t\\xb8\\xe6\\xdd}8\\xfcWr]ck\\xfa*]\\x96s\\xaa\\xf1\\xca\\x93\\x85\\xb9Q9&\\xca\\x10\\xe8\\xc7\\xba\\xf3\\xdda\\xf6\\x8f\\xcdp\\xdc\\x0b*%u\\x89\\x1dT\\xa2\\x1e}\\xdd`.I6\\x1e\\xeb\\xe9\\x94\\xf4\\xed\\xa7\\xd3c\\xa7h\\xc4q\\x81\\xf1\\xf3_:\\xd0!\\xfan\\xb3O\\x08\\x07hv\\xf7z\\x01\\x95\\xf4\\x89\\x1e6\\x96\\x03rzy%\\xdb\\xd2\\xedD\\'\\x02\\xf9*\\x8b,\\xb1\\xe8\\xba\\x14\\xd8\\xcd\\x8d*\\xa6\\xbb.\\xbf\\x9a[5ax\\xe5L\\x0b\\xb3\\xd5\\xcd\\xd54\\x88*\\x1ap\\xe1\\xf8\\xa6\\xad\\x16\\xb5\\xd2\\x0e\\xc55\\xb4\\xfd\\x98\\xd3\\x1a\\x1b\\xb7u;^}\\xceO\\xe2V\\x8d\\x84\\x11\\x951\\xaa\\x8a9\\xa6\\xdflM\\xda\\x98\\x8c\\xba<\\xeco$\\\\{\\x8c\\x85\\x82\\xa7>\\x10<\\x97\\xd2\\xf5H\\x84\\xb4\\x92FxsH\\xf6_0\\x8d\\xc6\\xee\\xbf,qc\\x87\\xa8)\\xa6\\x8c\\xfc\\xc4\\x1f:\\xf9\\x0b\\xb2\\x97+\\x83\\x80}\\x14\\xad\\x81\\x8e\\x89\\x801\\xdc\\x85T\\xe4\\x86\\x15f-\\xe8\\x97ju\\xd4\\xf4\\xad\\x02y\\xd9\\x11q\\xb3K\\xdc\\x05\\xfd\\xae\\xa9\\xb4\\xbbe\\xa5a\\xe0\\x8eO\\x9a\\x90\\xb1=~)^\\x8dU5E\\r;\\xaa\\x1d\\x1c\\xb2\\x9b\\x87\\xbe\"6\\x92\\t\\x17\\t\\xb0 \\x15i\\xda\\xb2>\\x99\\x17\\xdfo\\x83\\xed\\x1e\\x02\\x06\\t*\\x0c\\xce\\xef\\x04}\\xdbZ\\x01\\x01\\xd9\\xdfs~\\x9c[o_4{\\xbc\\xfc\\xba*\\xea\\x99\\x1cr\\x16\\xd3\\xca\\xd9\\x19f\\x92\\xe6\\x90Aqh.\\xfcn>\\x0b\\x12\\xbeH\\xb5\\xe1\\x95I5\\xc5\\x83z \\xdeI$\\xdf%\\\\\\xfb\\xff\\x00wC\\xbc\\xd9\\xe2\\xfe|.\\x8c\\xc9\\xab\\xec\\x1e\\x9e\\xeb\\xcbZ\\xe7Y\\xd2\\xb7k?\\xd2\\xcb\\xe4\\xfb\\x92>C\\xd5mC\\x18\\xc6\\xd9\\xa0,\\xefb\\xb3\\xa4D\\xf6\\x9b\\x875\\xa2\\xfev\\x00-\\x17\\xc1\"\\xcd7)\\xb6\\xc3\\xe0\\xaa%rn8h\\xf8\\xaa\\x0cM\\xbeNQv\\xb8U<6\\xf9\\\\\\x8d\\x80\\xe9\\xd02\\x9bO\\xa7\\xa6\\x17-\\x866\\xb4\\x1e/adS\\'\\xdalM\\xec\\xbc\\xc0\\x03\\x07\\xb0BT\\x1f\\xac\\xb1\\x00\\x83\\xd0\\xaa d\\xf2\\xb5\\xd1\\xf3k\\x8e\\xab\\xe5\\xf56\\x8fZ\\xd4)\\xef\\x9e\\xf0J\\xdfP\\xe1\\xfd\\x16\\xdfQl\\x8d\\x8f\\xea\\xa7\\x92<\\x1e,\\x7f0W\\xcd\\xeaj$\\x9f\\xb4\\xf1\\xbeC\\xe2\\r\\x9a\"G\\xde\\x00\\xb6\\xd7Fj:\\x99\\xc72\\xb8\\x8e\\xd9\\xc0\\xca\\x98T\\xc6p\\x15\\xa3\\x92\\x9b\\x81\\x92\\xb1\\xc6R\\x9dWJ\\x82\\xb9\\xacm@\\x0e\\xb3\\xc5\\x89\\x00\\x91\\xedt\\xd4\\x9f\\xc1\\x0fP\\xef\\x1c\\x7f\\xef\\xfd\\n\\xa7\\x14\\xd52\\xd3\\xaf\\x05t\\x14q\\xd1Swt\\xed\\xda\\xde\\x1a<\\xbc\\xcf\\x1ds\\xd7\\xaa,qsu\\xc6\\x9f\\x0f\\xb2\\x95\\xee\\x08R1\\xe3\\xd2*\\xef\\xc9\\xd2.\\xd2z\\xaa%>\"\\x88#\\x07\\'\\x94$\\x87\\xc4V\\x8a)\\x95\\xc6\\xd6\\x186B\\xc8\\xe7F\\xe3\\xb8\\xdcY\\x11\\'\\x08=D\\x96\\xd1H\\xe1\\xc8n\\x153H\\xfaWb#\\xee\\xbb5\\xa7\\x8e>\\xa1\\xa7\\xf0O\\xcb\\x80\\x19H\\xfb(\\xe3\\xfc9A\\xff\\x00\\x1d\\x9f\\x92ir\\xbc\\xfc\\xbc\\xb1\\x82\\xf0X\\xe9\\x088A\\xc9-\\x9en~e])-\\xe1\\x01 \\xf1\\x1b\\xe7\\xdd`\\xb3\\xff\\xd9'"
      ]
     },
     "execution_count": 11,
     "metadata": {},
     "output_type": "execute_result"
    }
   ],
   "source": [
    "requests.get(\"https://encrypted-tbn0.gstatic.com/images?q=tbn:ANd9GcTFGlUyS3ZqZXLRt7IXbGmoqhXidS5X15852GtHhJzxDfMiLZpHWsNUJngHwT4&s\").content"
   ]
  },
  {
   "cell_type": "code",
   "execution_count": 12,
   "id": "24605c29",
   "metadata": {},
   "outputs": [],
   "source": [
    "save_dir=\"images/\"\n",
    "if not os.path.exists(save_dir):\n",
    "    os.makedirs(save_dir)"
   ]
  },
  {
   "cell_type": "code",
   "execution_count": 13,
   "id": "fa731f7a",
   "metadata": {},
   "outputs": [
    {
     "name": "stdout",
     "output_type": "stream",
     "text": [
      "0\n",
      "1\n",
      "2\n",
      "3\n",
      "4\n",
      "5\n",
      "6\n",
      "7\n",
      "8\n",
      "9\n",
      "10\n",
      "11\n",
      "12\n",
      "13\n",
      "14\n",
      "15\n",
      "16\n",
      "17\n",
      "18\n",
      "19\n"
     ]
    }
   ],
   "source": [
    "for i in image_tags:\n",
    "    print(image_tags.index(i))"
   ]
  },
  {
   "cell_type": "code",
   "execution_count": 14,
   "id": "e49ff6d6",
   "metadata": {},
   "outputs": [],
   "source": [
    "for i in image_tags:\n",
    "    image_url = i['src']\n",
    "    image_data = requests.get(image_url).content\n",
    "    with open(os.path.join(save_dir,f\"{query}_{image_tags.index(i)}.jpg\"),\"wb\") as f:\n",
    "        f.write(image_data)"
   ]
  },
  {
   "cell_type": "code",
   "execution_count": null,
   "id": "20d3cff4",
   "metadata": {},
   "outputs": [],
   "source": []
  },
  {
   "cell_type": "code",
   "execution_count": null,
   "id": "642e9df1",
   "metadata": {},
   "outputs": [],
   "source": []
  }
 ],
 "metadata": {
  "kernelspec": {
   "display_name": "Python 3 (ipykernel)",
   "language": "python",
   "name": "python3"
  },
  "language_info": {
   "codemirror_mode": {
    "name": "ipython",
    "version": 3
   },
   "file_extension": ".py",
   "mimetype": "text/x-python",
   "name": "python",
   "nbconvert_exporter": "python",
   "pygments_lexer": "ipython3",
   "version": "3.10.9"
  }
 },
 "nbformat": 4,
 "nbformat_minor": 5
}
